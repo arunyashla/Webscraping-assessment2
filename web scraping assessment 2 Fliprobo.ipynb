{
 "cells": [
  {
   "cell_type": "markdown",
   "id": "fcc678a5",
   "metadata": {},
   "source": [
    "<b> 1.Write a python program to scrape data for “Data Analyst” Job position in “Bangalore” location. You have to scrape the job-title, job-location, company_name, experience_required. You have to scrape first 10 jobs data.\n",
    "\n",
    "This task will be done in following steps:\n",
    "\n",
    "- First get the webpage https://www.naukri.com/\n",
    "\n",
    "- Enter “Data Analyst” in “Skill, Designations, Companies” field and enter “Bangalore” in “enter the location” field.\n",
    "\n",
    "- Then click the search button.\n",
    "\n",
    "- Then scrape the data for the first 10 jobs results you get.\n",
    "\n",
    "- Finally create a dataframe of the scraped data.</b>"
   ]
  },
  {
   "cell_type": "code",
   "execution_count": 1,
   "id": "df370cf4",
   "metadata": {},
   "outputs": [
    {
     "name": "stdout",
     "output_type": "stream",
     "text": [
      "Requirement already satisfied: selenium in c:\\programdata\\anaconda3\\lib\\site-packages (4.2.0)\n",
      "Requirement already satisfied: urllib3[secure,socks]~=1.26 in c:\\programdata\\anaconda3\\lib\\site-packages (from selenium) (1.26.7)\n",
      "Requirement already satisfied: trio~=0.17 in c:\\programdata\\anaconda3\\lib\\site-packages (from selenium) (0.19.0)\n",
      "Requirement already satisfied: trio-websocket~=0.9 in c:\\programdata\\anaconda3\\lib\\site-packages (from selenium) (0.9.2)\n",
      "Requirement already satisfied: async-generator>=1.9 in c:\\programdata\\anaconda3\\lib\\site-packages (from trio~=0.17->selenium) (1.10)\n",
      "Requirement already satisfied: sortedcontainers in c:\\programdata\\anaconda3\\lib\\site-packages (from trio~=0.17->selenium) (2.4.0)\n",
      "Requirement already satisfied: idna in c:\\programdata\\anaconda3\\lib\\site-packages (from trio~=0.17->selenium) (3.2)\n",
      "Requirement already satisfied: cffi>=1.14 in c:\\programdata\\anaconda3\\lib\\site-packages (from trio~=0.17->selenium) (1.14.6)\n",
      "Requirement already satisfied: sniffio in c:\\programdata\\anaconda3\\lib\\site-packages (from trio~=0.17->selenium) (1.2.0)\n",
      "Requirement already satisfied: attrs>=19.2.0 in c:\\programdata\\anaconda3\\lib\\site-packages (from trio~=0.17->selenium) (21.2.0)\n",
      "Requirement already satisfied: outcome in c:\\programdata\\anaconda3\\lib\\site-packages (from trio~=0.17->selenium) (1.1.0)\n",
      "Requirement already satisfied: pycparser in c:\\programdata\\anaconda3\\lib\\site-packages (from cffi>=1.14->trio~=0.17->selenium) (2.20)\n",
      "Requirement already satisfied: wsproto>=0.14 in c:\\programdata\\anaconda3\\lib\\site-packages (from trio-websocket~=0.9->selenium) (1.1.0)\n",
      "Requirement already satisfied: pyOpenSSL>=0.14 in c:\\programdata\\anaconda3\\lib\\site-packages (from urllib3[secure,socks]~=1.26->selenium) (21.0.0)\n",
      "Requirement already satisfied: cryptography>=1.3.4 in c:\\programdata\\anaconda3\\lib\\site-packages (from urllib3[secure,socks]~=1.26->selenium) (3.4.8)\n",
      "Requirement already satisfied: certifi in c:\\programdata\\anaconda3\\lib\\site-packages (from urllib3[secure,socks]~=1.26->selenium) (2021.10.8)\n",
      "Requirement already satisfied: PySocks!=1.5.7,<2.0,>=1.5.6 in c:\\programdata\\anaconda3\\lib\\site-packages (from urllib3[secure,socks]~=1.26->selenium) (1.7.1)\n",
      "Requirement already satisfied: six>=1.5.2 in c:\\programdata\\anaconda3\\lib\\site-packages (from pyOpenSSL>=0.14->urllib3[secure,socks]~=1.26->selenium) (1.16.0)\n",
      "Requirement already satisfied: h11<1,>=0.9.0 in c:\\programdata\\anaconda3\\lib\\site-packages (from wsproto>=0.14->trio-websocket~=0.9->selenium) (0.12.0)\n",
      "Note: you may need to restart the kernel to use updated packages.\n"
     ]
    },
    {
     "name": "stderr",
     "output_type": "stream",
     "text": [
      "WARNING: Ignoring invalid distribution -rso (c:\\programdata\\anaconda3\\lib\\site-packages)\n",
      "WARNING: Ignoring invalid distribution -rkupsafe (c:\\programdata\\anaconda3\\lib\\site-packages)\n",
      "WARNING: Ignoring invalid distribution - (c:\\programdata\\anaconda3\\lib\\site-packages)\n",
      "WARNING: Ignoring invalid distribution -arso (c:\\programdata\\anaconda3\\lib\\site-packages)\n",
      "WARNING: Ignoring invalid distribution -arkupsafe (c:\\programdata\\anaconda3\\lib\\site-packages)\n",
      "WARNING: Ignoring invalid distribution -rso (c:\\programdata\\anaconda3\\lib\\site-packages)\n",
      "WARNING: Ignoring invalid distribution -rkupsafe (c:\\programdata\\anaconda3\\lib\\site-packages)\n",
      "WARNING: Ignoring invalid distribution - (c:\\programdata\\anaconda3\\lib\\site-packages)\n",
      "WARNING: Ignoring invalid distribution -arso (c:\\programdata\\anaconda3\\lib\\site-packages)\n",
      "WARNING: Ignoring invalid distribution -arkupsafe (c:\\programdata\\anaconda3\\lib\\site-packages)\n",
      "WARNING: Ignoring invalid distribution -rso (c:\\programdata\\anaconda3\\lib\\site-packages)\n",
      "WARNING: Ignoring invalid distribution -rkupsafe (c:\\programdata\\anaconda3\\lib\\site-packages)\n",
      "WARNING: Ignoring invalid distribution - (c:\\programdata\\anaconda3\\lib\\site-packages)\n",
      "WARNING: Ignoring invalid distribution -arso (c:\\programdata\\anaconda3\\lib\\site-packages)\n",
      "WARNING: Ignoring invalid distribution -arkupsafe (c:\\programdata\\anaconda3\\lib\\site-packages)\n",
      "WARNING: Ignoring invalid distribution -rso (c:\\programdata\\anaconda3\\lib\\site-packages)\n",
      "WARNING: Ignoring invalid distribution -rkupsafe (c:\\programdata\\anaconda3\\lib\\site-packages)\n",
      "WARNING: Ignoring invalid distribution - (c:\\programdata\\anaconda3\\lib\\site-packages)\n",
      "WARNING: Ignoring invalid distribution -arso (c:\\programdata\\anaconda3\\lib\\site-packages)\n",
      "WARNING: Ignoring invalid distribution -arkupsafe (c:\\programdata\\anaconda3\\lib\\site-packages)\n",
      "WARNING: Ignoring invalid distribution -rso (c:\\programdata\\anaconda3\\lib\\site-packages)\n",
      "WARNING: Ignoring invalid distribution -rkupsafe (c:\\programdata\\anaconda3\\lib\\site-packages)\n",
      "WARNING: Ignoring invalid distribution - (c:\\programdata\\anaconda3\\lib\\site-packages)\n",
      "WARNING: Ignoring invalid distribution -arso (c:\\programdata\\anaconda3\\lib\\site-packages)\n",
      "WARNING: Ignoring invalid distribution -arkupsafe (c:\\programdata\\anaconda3\\lib\\site-packages)\n",
      "WARNING: Ignoring invalid distribution -rso (c:\\programdata\\anaconda3\\lib\\site-packages)\n",
      "WARNING: Ignoring invalid distribution -rkupsafe (c:\\programdata\\anaconda3\\lib\\site-packages)\n",
      "WARNING: Ignoring invalid distribution - (c:\\programdata\\anaconda3\\lib\\site-packages)\n",
      "WARNING: Ignoring invalid distribution -arso (c:\\programdata\\anaconda3\\lib\\site-packages)\n",
      "WARNING: Ignoring invalid distribution -arkupsafe (c:\\programdata\\anaconda3\\lib\\site-packages)\n"
     ]
    }
   ],
   "source": [
    "pip install selenium"
   ]
  },
  {
   "cell_type": "code",
   "execution_count": 2,
   "id": "f6302d44",
   "metadata": {},
   "outputs": [
    {
     "name": "stdout",
     "output_type": "stream",
     "text": [
      "Collecting package metadata (current_repodata.json): ...working... done\n",
      "Solving environment: ...working... done\n",
      "\n",
      "## Package Plan ##\n",
      "\n",
      "  environment location: C:\\ProgramData\\Anaconda3\n",
      "\n",
      "  added / updated specs:\n",
      "    - selenium\n",
      "\n",
      "\n",
      "The following packages will be UPDATED:\n",
      "\n",
      "  conda              pkgs/main::conda-4.13.0-py39haa95532_0 --> conda-forge::conda-4.13.0-py39hcbf5309_1\n",
      "\n",
      "\n",
      "Preparing transaction: ...working... done\n",
      "Verifying transaction: ...working... done\n",
      "Executing transaction: ...working... done\n",
      "\n",
      "Note: you may need to restart the kernel to use updated packages.\n"
     ]
    }
   ],
   "source": [
    "conda install -c conda-forge selenium"
   ]
  },
  {
   "cell_type": "code",
   "execution_count": 3,
   "id": "36043ae1",
   "metadata": {},
   "outputs": [
    {
     "name": "stdout",
     "output_type": "stream",
     "text": [
      "Collecting package metadata (current_repodata.json): ...working... done\n",
      "Solving environment: ...working... done\n",
      "\n",
      "## Package Plan ##\n",
      "\n",
      "  environment location: C:\\ProgramData\\Anaconda3\n",
      "\n",
      "  added / updated specs:\n",
      "    - conda\n",
      "\n",
      "\n",
      "The following packages will be SUPERSEDED by a higher-priority channel:\n",
      "\n",
      "  conda              conda-forge::conda-4.13.0-py39hcbf530~ --> pkgs/main::conda-4.13.0-py39haa95532_0\n",
      "\n",
      "\n",
      "Preparing transaction: ...working... done\n",
      "Verifying transaction: ...working... done\n",
      "Executing transaction: ...working... done\n",
      "\n",
      "Note: you may need to restart the kernel to use updated packages.\n"
     ]
    }
   ],
   "source": [
    "conda update -n base -c defaults conda"
   ]
  },
  {
   "cell_type": "code",
   "execution_count": 22,
   "id": "2c243a1f",
   "metadata": {},
   "outputs": [],
   "source": [
    "import selenium\n",
    "import pandas as pd\n",
    "from selenium import webdriver\n",
    "import warnings\n",
    "warnings.filterwarnings(\"ignore\")\n",
    "import time"
   ]
  },
  {
   "cell_type": "code",
   "execution_count": 23,
   "id": "36aec69b",
   "metadata": {},
   "outputs": [],
   "source": [
    "# let's first connect to the web driver\n",
    "driver = webdriver.Chrome(r\"C:\\web driver\\chromedriver.exe\")"
   ]
  },
  {
   "cell_type": "code",
   "execution_count": 24,
   "id": "779ff319",
   "metadata": {},
   "outputs": [],
   "source": [
    "driver=webdriver.Chrome(\"chromedriver.exe\")\n",
    "time.sleep(2)"
   ]
  },
  {
   "cell_type": "code",
   "execution_count": null,
   "id": "f8a8a581",
   "metadata": {},
   "outputs": [],
   "source": [
    "# to close automated chrome window\n",
    "driver.close()"
   ]
  },
  {
   "cell_type": "code",
   "execution_count": 25,
   "id": "04d0867d",
   "metadata": {},
   "outputs": [],
   "source": [
    "#open naukri.com website on automated chrome window \n",
    "driver.get('https://www.naukri.com/')"
   ]
  },
  {
   "cell_type": "code",
   "execution_count": 26,
   "id": "e8277d92",
   "metadata": {},
   "outputs": [],
   "source": [
    "# Finding element for job search bar\n",
    "search_field_designation=driver.find_element_by_class_name(\"suggestor-input\") #job search bar\n",
    "search_field_designation.send_keys(\"Data Analyst\")\n"
   ]
  },
  {
   "cell_type": "code",
   "execution_count": 27,
   "id": "ff5edfda",
   "metadata": {},
   "outputs": [],
   "source": [
    "#entering the location Banglore in location search bar \n",
    "search_field_loaction=driver.find_element_by_xpath('/html/body/div/div[2]/div[3]/div/div/div[5]/div/div/div/input') #Location Search bar\n",
    "search_field_loaction.send_keys(\"Bangalore\")"
   ]
  },
  {
   "cell_type": "code",
   "execution_count": 28,
   "id": "9fe1f3e1",
   "metadata": {},
   "outputs": [],
   "source": [
    "search_button=driver.find_element_by_xpath(\"/html/body/div/div[2]/div[3]/div/div/div[6]\")\n",
    "search_button.click()"
   ]
  },
  {
   "cell_type": "code",
   "execution_count": 29,
   "id": "9d68798b",
   "metadata": {},
   "outputs": [],
   "source": [
    "job_titles=[]\n",
    "company_names=[]\n",
    "locations_list=[]\n",
    "experience_list=[]"
   ]
  },
  {
   "cell_type": "code",
   "execution_count": 30,
   "id": "12d71637",
   "metadata": {},
   "outputs": [
    {
     "data": {
      "text/plain": [
       "[<selenium.webdriver.remote.webelement.WebElement (session=\"90b22cf04d1a7580d83acc1e64fe2276\", element=\"468e8eb2-7be3-4f84-b468-45fb441be7db\")>,\n",
       " <selenium.webdriver.remote.webelement.WebElement (session=\"90b22cf04d1a7580d83acc1e64fe2276\", element=\"10b2fcc6-5e6c-496f-9c01-7e22ad78029b\")>,\n",
       " <selenium.webdriver.remote.webelement.WebElement (session=\"90b22cf04d1a7580d83acc1e64fe2276\", element=\"df28176c-fa48-4062-bfd8-b717d318905c\")>,\n",
       " <selenium.webdriver.remote.webelement.WebElement (session=\"90b22cf04d1a7580d83acc1e64fe2276\", element=\"bbb07554-55e6-492d-89d2-5c1f037e2352\")>,\n",
       " <selenium.webdriver.remote.webelement.WebElement (session=\"90b22cf04d1a7580d83acc1e64fe2276\", element=\"973ff0b4-6419-4ea5-b086-789fcac7c3e8\")>,\n",
       " <selenium.webdriver.remote.webelement.WebElement (session=\"90b22cf04d1a7580d83acc1e64fe2276\", element=\"8612f5b1-c46f-4491-8557-c81abdbcb17b\")>,\n",
       " <selenium.webdriver.remote.webelement.WebElement (session=\"90b22cf04d1a7580d83acc1e64fe2276\", element=\"835a3a8a-b4cc-453a-b487-ce00247dd157\")>,\n",
       " <selenium.webdriver.remote.webelement.WebElement (session=\"90b22cf04d1a7580d83acc1e64fe2276\", element=\"96e8eff8-3bcb-428b-8991-f69b0bf74794\")>,\n",
       " <selenium.webdriver.remote.webelement.WebElement (session=\"90b22cf04d1a7580d83acc1e64fe2276\", element=\"ffbd28a2-748e-486b-aa06-18df771f0404\")>,\n",
       " <selenium.webdriver.remote.webelement.WebElement (session=\"90b22cf04d1a7580d83acc1e64fe2276\", element=\"c42e70d3-1dd8-4067-8440-165aa8a84e3e\")>]"
      ]
     },
     "execution_count": 30,
     "metadata": {},
     "output_type": "execute_result"
    }
   ],
   "source": [
    "titles_tags=driver.find_elements_by_xpath(\"//a[@class='title fw500 ellipsis']\")\n",
    "titles_tags[0:10]"
   ]
  },
  {
   "cell_type": "code",
   "execution_count": 31,
   "id": "689df2e1",
   "metadata": {},
   "outputs": [
    {
     "data": {
      "text/plain": [
       "['Business Data Analyst',\n",
       " 'EY GDS Data Analyst-Finland based project',\n",
       " 'Business & Data Analyst - Alteryx (London)',\n",
       " 'Data Analyst - Data and Analytics',\n",
       " 'Senior Data Analyst',\n",
       " 'Senior Data Analyst',\n",
       " 'Data Analyst - Data Science, 3 To 5 Years',\n",
       " 'Data Analyst / Business Analyst',\n",
       " 'Genpact Hiring For Data Analyst',\n",
       " 'data analyst/ data analytics / Business analyst- SQL/Python/SAS']"
      ]
     },
     "execution_count": 31,
     "metadata": {},
     "output_type": "execute_result"
    }
   ],
   "source": [
    "for i in titles_tags:\n",
    "    title=i.text\n",
    "    job_titles.append(title)\n",
    "job_titles[0:10]"
   ]
  },
  {
   "cell_type": "code",
   "execution_count": 32,
   "id": "b8304a95",
   "metadata": {},
   "outputs": [
    {
     "data": {
      "text/plain": [
       "[<selenium.webdriver.remote.webelement.WebElement (session=\"90b22cf04d1a7580d83acc1e64fe2276\", element=\"fc306273-245c-486e-a41a-053f2a88536f\")>,\n",
       " <selenium.webdriver.remote.webelement.WebElement (session=\"90b22cf04d1a7580d83acc1e64fe2276\", element=\"1e723d89-6c4d-463d-96dd-bd94de8676a3\")>,\n",
       " <selenium.webdriver.remote.webelement.WebElement (session=\"90b22cf04d1a7580d83acc1e64fe2276\", element=\"0824e8ba-2d97-489e-8b27-2dd3bf060425\")>,\n",
       " <selenium.webdriver.remote.webelement.WebElement (session=\"90b22cf04d1a7580d83acc1e64fe2276\", element=\"df5924a1-a6bb-49de-ac00-5c2baa6f6864\")>,\n",
       " <selenium.webdriver.remote.webelement.WebElement (session=\"90b22cf04d1a7580d83acc1e64fe2276\", element=\"20662583-de77-40dc-b58a-6b271014dbbc\")>,\n",
       " <selenium.webdriver.remote.webelement.WebElement (session=\"90b22cf04d1a7580d83acc1e64fe2276\", element=\"28937fb3-5ebb-48b6-be73-9357e8fca457\")>,\n",
       " <selenium.webdriver.remote.webelement.WebElement (session=\"90b22cf04d1a7580d83acc1e64fe2276\", element=\"067a2059-deb2-4376-95bb-f0f99046eced\")>,\n",
       " <selenium.webdriver.remote.webelement.WebElement (session=\"90b22cf04d1a7580d83acc1e64fe2276\", element=\"5d3d2120-c9db-4426-94a3-cb69119cb7a7\")>,\n",
       " <selenium.webdriver.remote.webelement.WebElement (session=\"90b22cf04d1a7580d83acc1e64fe2276\", element=\"d77fe111-fdb1-44ca-a69b-9e2f0ddcfd90\")>,\n",
       " <selenium.webdriver.remote.webelement.WebElement (session=\"90b22cf04d1a7580d83acc1e64fe2276\", element=\"c432d2f3-dd76-4842-86b3-1d79f6fafabd\")>]"
      ]
     },
     "execution_count": 32,
     "metadata": {},
     "output_type": "execute_result"
    }
   ],
   "source": [
    "companies_tags=driver.find_elements_by_xpath(\"//a[@class='subTitle ellipsis fleft']\")\n",
    "companies_tags[0:10]"
   ]
  },
  {
   "cell_type": "code",
   "execution_count": 33,
   "id": "6865a5b0",
   "metadata": {},
   "outputs": [
    {
     "data": {
      "text/plain": [
       "['NXP Semiconductors',\n",
       " 'EY',\n",
       " 'Imaginative Brains LLP',\n",
       " 'Intel',\n",
       " 'Flipkart',\n",
       " 'Walmart',\n",
       " 'Rise Finconnect Private Limited',\n",
       " 'METRO Cash & Carry',\n",
       " 'Genpact',\n",
       " 'Leading US MNC into Analytics']"
      ]
     },
     "execution_count": 33,
     "metadata": {},
     "output_type": "execute_result"
    }
   ],
   "source": [
    "for i in companies_tags:\n",
    "    company_name=i.text\n",
    "    company_names.append(company_name)\n",
    "company_names[0:10]"
   ]
  },
  {
   "cell_type": "code",
   "execution_count": 34,
   "id": "77b5d106",
   "metadata": {},
   "outputs": [
    {
     "data": {
      "text/plain": [
       "[<selenium.webdriver.remote.webelement.WebElement (session=\"90b22cf04d1a7580d83acc1e64fe2276\", element=\"b899f161-8f42-429d-b5ae-e16c1aba1af6\")>,\n",
       " <selenium.webdriver.remote.webelement.WebElement (session=\"90b22cf04d1a7580d83acc1e64fe2276\", element=\"50877ede-239c-45a0-9f9c-d2ad9158458e\")>,\n",
       " <selenium.webdriver.remote.webelement.WebElement (session=\"90b22cf04d1a7580d83acc1e64fe2276\", element=\"2bd19300-3e38-4875-a898-8855dc4e2c40\")>,\n",
       " <selenium.webdriver.remote.webelement.WebElement (session=\"90b22cf04d1a7580d83acc1e64fe2276\", element=\"f01eb88e-f295-466c-9f95-f1d922f33815\")>,\n",
       " <selenium.webdriver.remote.webelement.WebElement (session=\"90b22cf04d1a7580d83acc1e64fe2276\", element=\"3c2d9f25-1a68-4eac-81e4-6c1be1541a8b\")>,\n",
       " <selenium.webdriver.remote.webelement.WebElement (session=\"90b22cf04d1a7580d83acc1e64fe2276\", element=\"bd15c10b-5d58-426e-8e08-c2ad9364f6ec\")>,\n",
       " <selenium.webdriver.remote.webelement.WebElement (session=\"90b22cf04d1a7580d83acc1e64fe2276\", element=\"944e41bf-a5cd-4e50-8933-1f621134e3f7\")>,\n",
       " <selenium.webdriver.remote.webelement.WebElement (session=\"90b22cf04d1a7580d83acc1e64fe2276\", element=\"1e3dee7c-5805-4bf7-a2a8-6ae8870ba845\")>,\n",
       " <selenium.webdriver.remote.webelement.WebElement (session=\"90b22cf04d1a7580d83acc1e64fe2276\", element=\"6a7e9b3c-85b6-4110-95ed-e886684bc647\")>,\n",
       " <selenium.webdriver.remote.webelement.WebElement (session=\"90b22cf04d1a7580d83acc1e64fe2276\", element=\"154bdcfe-195a-43d8-a43b-0c5f6ef90c29\")>]"
      ]
     },
     "execution_count": 34,
     "metadata": {},
     "output_type": "execute_result"
    }
   ],
   "source": [
    "# so lets extract all the tags having the experience required data\n",
    "\n",
    "experience_tags=driver.find_elements_by_xpath(\"//li[@class='fleft grey-text br2 placeHolderLi experience']/span[1]\")\n",
    "experience_tags[0:10]"
   ]
  },
  {
   "cell_type": "code",
   "execution_count": 35,
   "id": "2e11b28b",
   "metadata": {},
   "outputs": [
    {
     "data": {
      "text/plain": [
       "['2-5 Yrs',\n",
       " '0-1 Yrs',\n",
       " '5-10 Yrs',\n",
       " '3-6 Yrs',\n",
       " '3-7 Yrs',\n",
       " '4-7 Yrs',\n",
       " '2-6 Yrs',\n",
       " '3-8 Yrs',\n",
       " '2-6 Yrs',\n",
       " '2-7 Yrs']"
      ]
     },
     "execution_count": 35,
     "metadata": {},
     "output_type": "execute_result"
    }
   ],
   "source": [
    "for i in experience_tags:\n",
    "    experience=i.text\n",
    "    experience_list.append(experience)\n",
    "experience_list[0:10]"
   ]
  },
  {
   "cell_type": "code",
   "execution_count": 36,
   "id": "6cbc7b7c",
   "metadata": {},
   "outputs": [
    {
     "data": {
      "text/plain": [
       "[<selenium.webdriver.remote.webelement.WebElement (session=\"90b22cf04d1a7580d83acc1e64fe2276\", element=\"41ce4311-90ae-4751-b9da-49fc394e82ac\")>,\n",
       " <selenium.webdriver.remote.webelement.WebElement (session=\"90b22cf04d1a7580d83acc1e64fe2276\", element=\"bd47241d-4034-4edb-997e-228613e7c4da\")>,\n",
       " <selenium.webdriver.remote.webelement.WebElement (session=\"90b22cf04d1a7580d83acc1e64fe2276\", element=\"57293fc6-a5ce-4591-a9d2-a00c124ae8f1\")>,\n",
       " <selenium.webdriver.remote.webelement.WebElement (session=\"90b22cf04d1a7580d83acc1e64fe2276\", element=\"9625d19b-e3f7-4066-92f8-6ae632d3b724\")>,\n",
       " <selenium.webdriver.remote.webelement.WebElement (session=\"90b22cf04d1a7580d83acc1e64fe2276\", element=\"9cf110ac-0e0e-48ae-a5eb-d75efcadeedd\")>,\n",
       " <selenium.webdriver.remote.webelement.WebElement (session=\"90b22cf04d1a7580d83acc1e64fe2276\", element=\"6d805452-a9f0-4e89-a5a3-6dfd7004c3a7\")>,\n",
       " <selenium.webdriver.remote.webelement.WebElement (session=\"90b22cf04d1a7580d83acc1e64fe2276\", element=\"8a860ed9-7cee-4012-9d41-3334ee2f0432\")>,\n",
       " <selenium.webdriver.remote.webelement.WebElement (session=\"90b22cf04d1a7580d83acc1e64fe2276\", element=\"128aa960-de67-403f-be7a-9e0ab15984b7\")>,\n",
       " <selenium.webdriver.remote.webelement.WebElement (session=\"90b22cf04d1a7580d83acc1e64fe2276\", element=\"cee31090-9944-4a62-a34f-b8423c03b50d\")>,\n",
       " <selenium.webdriver.remote.webelement.WebElement (session=\"90b22cf04d1a7580d83acc1e64fe2276\", element=\"2a628c56-a3c1-48cd-acef-7865e19a054f\")>]"
      ]
     },
     "execution_count": 36,
     "metadata": {},
     "output_type": "execute_result"
    }
   ],
   "source": [
    "# so lets extract all the tags having the location required data\n",
    "\n",
    "location_tags=driver.find_elements_by_xpath(\"//li[@class='fleft grey-text br2 placeHolderLi location']/span[1]\")\n",
    "location_tags[0:10]"
   ]
  },
  {
   "cell_type": "code",
   "execution_count": 37,
   "id": "6e478390",
   "metadata": {},
   "outputs": [
    {
     "data": {
      "text/plain": [
       "['Bangalore/Bengaluru',\n",
       " 'Bangalore/Bengaluru',\n",
       " 'Bangalore/Bengaluru, Delhi / NCR, Mumbai (All Areas)',\n",
       " 'Bangalore/Bengaluru',\n",
       " 'Bangalore/Bengaluru',\n",
       " 'Bangalore/Bengaluru',\n",
       " 'Bangalore/Bengaluru',\n",
       " 'Bangalore/Bengaluru',\n",
       " 'Bangalore/Bengaluru',\n",
       " 'Gurgaon/Gurugram, Bangalore/Bengaluru, Delhi / NCR']"
      ]
     },
     "execution_count": 37,
     "metadata": {},
     "output_type": "execute_result"
    }
   ],
   "source": [
    "for i in location_tags :\n",
    "    location=i.text\n",
    "    locations_list.append(location)\n",
    "locations_list[0:10]"
   ]
  },
  {
   "cell_type": "code",
   "execution_count": 38,
   "id": "1426462c",
   "metadata": {},
   "outputs": [],
   "source": [
    "#So lets check th length of ech element.\n",
    "#Import pandas as pd\n",
    "jobs=pd.DataFrame({})\n",
    "jobs['title']=job_titles[:10]\n",
    "jobs['company']=company_names[:10]\n",
    "jobs['experience_required']=experience_list[:10]\n",
    "jobs['location']=locations_list[:10]"
   ]
  },
  {
   "cell_type": "code",
   "execution_count": 39,
   "id": "c32fb500",
   "metadata": {},
   "outputs": [
    {
     "data": {
      "text/html": [
       "<div>\n",
       "<style scoped>\n",
       "    .dataframe tbody tr th:only-of-type {\n",
       "        vertical-align: middle;\n",
       "    }\n",
       "\n",
       "    .dataframe tbody tr th {\n",
       "        vertical-align: top;\n",
       "    }\n",
       "\n",
       "    .dataframe thead th {\n",
       "        text-align: right;\n",
       "    }\n",
       "</style>\n",
       "<table border=\"1\" class=\"dataframe\">\n",
       "  <thead>\n",
       "    <tr style=\"text-align: right;\">\n",
       "      <th></th>\n",
       "      <th>title</th>\n",
       "      <th>company</th>\n",
       "      <th>experience_required</th>\n",
       "      <th>location</th>\n",
       "    </tr>\n",
       "  </thead>\n",
       "  <tbody>\n",
       "    <tr>\n",
       "      <th>0</th>\n",
       "      <td>Business Data Analyst</td>\n",
       "      <td>NXP Semiconductors</td>\n",
       "      <td>2-5 Yrs</td>\n",
       "      <td>Bangalore/Bengaluru</td>\n",
       "    </tr>\n",
       "    <tr>\n",
       "      <th>1</th>\n",
       "      <td>EY GDS Data Analyst-Finland based project</td>\n",
       "      <td>EY</td>\n",
       "      <td>0-1 Yrs</td>\n",
       "      <td>Bangalore/Bengaluru</td>\n",
       "    </tr>\n",
       "    <tr>\n",
       "      <th>2</th>\n",
       "      <td>Business &amp; Data Analyst - Alteryx (London)</td>\n",
       "      <td>Imaginative Brains LLP</td>\n",
       "      <td>5-10 Yrs</td>\n",
       "      <td>Bangalore/Bengaluru, Delhi / NCR, Mumbai (All ...</td>\n",
       "    </tr>\n",
       "    <tr>\n",
       "      <th>3</th>\n",
       "      <td>Data Analyst - Data and Analytics</td>\n",
       "      <td>Intel</td>\n",
       "      <td>3-6 Yrs</td>\n",
       "      <td>Bangalore/Bengaluru</td>\n",
       "    </tr>\n",
       "    <tr>\n",
       "      <th>4</th>\n",
       "      <td>Senior Data Analyst</td>\n",
       "      <td>Flipkart</td>\n",
       "      <td>3-7 Yrs</td>\n",
       "      <td>Bangalore/Bengaluru</td>\n",
       "    </tr>\n",
       "    <tr>\n",
       "      <th>5</th>\n",
       "      <td>Senior Data Analyst</td>\n",
       "      <td>Walmart</td>\n",
       "      <td>4-7 Yrs</td>\n",
       "      <td>Bangalore/Bengaluru</td>\n",
       "    </tr>\n",
       "    <tr>\n",
       "      <th>6</th>\n",
       "      <td>Data Analyst - Data Science, 3 To 5 Years</td>\n",
       "      <td>Rise Finconnect Private Limited</td>\n",
       "      <td>2-6 Yrs</td>\n",
       "      <td>Bangalore/Bengaluru</td>\n",
       "    </tr>\n",
       "    <tr>\n",
       "      <th>7</th>\n",
       "      <td>Data Analyst / Business Analyst</td>\n",
       "      <td>METRO Cash &amp; Carry</td>\n",
       "      <td>3-8 Yrs</td>\n",
       "      <td>Bangalore/Bengaluru</td>\n",
       "    </tr>\n",
       "    <tr>\n",
       "      <th>8</th>\n",
       "      <td>Genpact Hiring For Data Analyst</td>\n",
       "      <td>Genpact</td>\n",
       "      <td>2-6 Yrs</td>\n",
       "      <td>Bangalore/Bengaluru</td>\n",
       "    </tr>\n",
       "    <tr>\n",
       "      <th>9</th>\n",
       "      <td>data analyst/ data analytics / Business analys...</td>\n",
       "      <td>Leading US MNC into Analytics</td>\n",
       "      <td>2-7 Yrs</td>\n",
       "      <td>Gurgaon/Gurugram, Bangalore/Bengaluru, Delhi /...</td>\n",
       "    </tr>\n",
       "  </tbody>\n",
       "</table>\n",
       "</div>"
      ],
      "text/plain": [
       "                                               title  \\\n",
       "0                              Business Data Analyst   \n",
       "1          EY GDS Data Analyst-Finland based project   \n",
       "2         Business & Data Analyst - Alteryx (London)   \n",
       "3                  Data Analyst - Data and Analytics   \n",
       "4                                Senior Data Analyst   \n",
       "5                                Senior Data Analyst   \n",
       "6          Data Analyst - Data Science, 3 To 5 Years   \n",
       "7                    Data Analyst / Business Analyst   \n",
       "8                    Genpact Hiring For Data Analyst   \n",
       "9  data analyst/ data analytics / Business analys...   \n",
       "\n",
       "                           company experience_required  \\\n",
       "0               NXP Semiconductors             2-5 Yrs   \n",
       "1                               EY             0-1 Yrs   \n",
       "2           Imaginative Brains LLP            5-10 Yrs   \n",
       "3                            Intel             3-6 Yrs   \n",
       "4                         Flipkart             3-7 Yrs   \n",
       "5                          Walmart             4-7 Yrs   \n",
       "6  Rise Finconnect Private Limited             2-6 Yrs   \n",
       "7               METRO Cash & Carry             3-8 Yrs   \n",
       "8                          Genpact             2-6 Yrs   \n",
       "9    Leading US MNC into Analytics             2-7 Yrs   \n",
       "\n",
       "                                            location  \n",
       "0                                Bangalore/Bengaluru  \n",
       "1                                Bangalore/Bengaluru  \n",
       "2  Bangalore/Bengaluru, Delhi / NCR, Mumbai (All ...  \n",
       "3                                Bangalore/Bengaluru  \n",
       "4                                Bangalore/Bengaluru  \n",
       "5                                Bangalore/Bengaluru  \n",
       "6                                Bangalore/Bengaluru  \n",
       "7                                Bangalore/Bengaluru  \n",
       "8                                Bangalore/Bengaluru  \n",
       "9  Gurgaon/Gurugram, Bangalore/Bengaluru, Delhi /...  "
      ]
     },
     "execution_count": 39,
     "metadata": {},
     "output_type": "execute_result"
    }
   ],
   "source": [
    "jobs"
   ]
  },
  {
   "cell_type": "markdown",
   "id": "4063995b",
   "metadata": {},
   "source": [
    "<b>Q2: Write a python program to scrape data for “Data Scientist” Job position in “Bangalore” location. You have to scrape the job-title, job-location, company_name. You have to scrape first 10 jobs data.\n",
    "\n",
    "This task will be done in following steps:\n",
    "\n",
    "First get the webpage https://www.naukri.com/\n",
    "Enter “Data Scientist” in “Skill, Designations, Companies” field and enter “Bangalore” in “enter the location” field.\n",
    "Then click the search button.\n",
    "Then scrape the data for the first 10 jobs results you get.\n",
    "Finally create a dataframe of the scraped data."
   ]
  },
  {
   "cell_type": "code",
   "execution_count": 57,
   "id": "977059ba",
   "metadata": {},
   "outputs": [],
   "source": [
    "# Let's now import all the required libraries.\n",
    "import selenium\n",
    "import pandas as pd\n",
    "from selenium import webdriver\n",
    "import warnings\n",
    "warnings.filterwarnings(\"ignore\")\n",
    "import time"
   ]
  },
  {
   "cell_type": "code",
   "execution_count": 58,
   "id": "fe469d01",
   "metadata": {},
   "outputs": [],
   "source": [
    "# let's first connect to the web driver\n",
    "driver = webdriver.Chrome(r\"C:\\web driver\\chromedriver.exe\")"
   ]
  },
  {
   "cell_type": "code",
   "execution_count": 59,
   "id": "0d27a2e0",
   "metadata": {},
   "outputs": [],
   "source": [
    "driver=webdriver.Chrome(\"chromedriver.exe\")\n",
    "time.sleep(2)"
   ]
  },
  {
   "cell_type": "code",
   "execution_count": 60,
   "id": "85526984",
   "metadata": {},
   "outputs": [],
   "source": [
    "#open naukri.com website on automated chrome window \n",
    "driver.get('https://www.naukri.com/')"
   ]
  },
  {
   "cell_type": "code",
   "execution_count": 61,
   "id": "95d10585",
   "metadata": {},
   "outputs": [],
   "source": [
    "# Finding element for job search bar\n",
    "search_field_designation=driver.find_element_by_class_name(\"suggestor-input\") #job search bar\n",
    "search_field_designation.send_keys(\"Data Scientist\")\n"
   ]
  },
  {
   "cell_type": "code",
   "execution_count": 62,
   "id": "4712ad10",
   "metadata": {},
   "outputs": [],
   "source": [
    "search_field_loaction=driver.find_element_by_xpath('/html/body/div/div[2]/div[3]/div/div/div[5]/div/div/div/input') #Location Search bar\n",
    "search_field_loaction.send_keys(\"Bangalore\")"
   ]
  },
  {
   "cell_type": "code",
   "execution_count": 63,
   "id": "7fe91a8c",
   "metadata": {},
   "outputs": [],
   "source": [
    "search_button=driver.find_element_by_xpath(\"/html/body/div/div[2]/div[3]/div/div/div[6]\")\n",
    "search_button.click()"
   ]
  },
  {
   "cell_type": "markdown",
   "id": "699b0744",
   "metadata": {},
   "source": [
    "So,Now lets first create 4 empty lists. In these lists the data will be stored while scraping. We have created 4 empty lists for 4 features which we have to extract.\n",
    "\n",
    "1Job_titles 2.company_names 3.locations_list\n",
    "\n",
    "First, We will extract all the tags where we have the job titles,lets me first show you on the webpage in which tags the job titles are put."
   ]
  },
  {
   "cell_type": "code",
   "execution_count": 64,
   "id": "55e26783",
   "metadata": {},
   "outputs": [],
   "source": [
    "job_titles=[]\n",
    "company_names=[]\n",
    "locations_list=[]"
   ]
  },
  {
   "cell_type": "code",
   "execution_count": 65,
   "id": "11040f8d",
   "metadata": {},
   "outputs": [
    {
     "data": {
      "text/plain": [
       "[<selenium.webdriver.remote.webelement.WebElement (session=\"7cfe8985e4aca674317bdd7e36cb666c\", element=\"5c746938-dc98-4372-92d6-9790a5089d96\")>,\n",
       " <selenium.webdriver.remote.webelement.WebElement (session=\"7cfe8985e4aca674317bdd7e36cb666c\", element=\"5b09d084-16c5-4d86-b4c5-228ed3bffd92\")>,\n",
       " <selenium.webdriver.remote.webelement.WebElement (session=\"7cfe8985e4aca674317bdd7e36cb666c\", element=\"ee7bc3d8-bd37-4c94-b76c-ea1853c55b5b\")>,\n",
       " <selenium.webdriver.remote.webelement.WebElement (session=\"7cfe8985e4aca674317bdd7e36cb666c\", element=\"f35d0e76-367e-47df-b211-b643d23fb13b\")>,\n",
       " <selenium.webdriver.remote.webelement.WebElement (session=\"7cfe8985e4aca674317bdd7e36cb666c\", element=\"9d06f271-3d98-4979-86ae-28bf9ec7b168\")>,\n",
       " <selenium.webdriver.remote.webelement.WebElement (session=\"7cfe8985e4aca674317bdd7e36cb666c\", element=\"1b56ccd2-482b-4035-a03d-f54a21ce8cbf\")>,\n",
       " <selenium.webdriver.remote.webelement.WebElement (session=\"7cfe8985e4aca674317bdd7e36cb666c\", element=\"135d1bd0-94b6-4e63-a6b2-64a2258bac8d\")>,\n",
       " <selenium.webdriver.remote.webelement.WebElement (session=\"7cfe8985e4aca674317bdd7e36cb666c\", element=\"de651eba-8508-4a00-993e-d51e3d2f2480\")>,\n",
       " <selenium.webdriver.remote.webelement.WebElement (session=\"7cfe8985e4aca674317bdd7e36cb666c\", element=\"534bcbcd-4ec0-4ecf-b4dc-f5dc453c0cdc\")>,\n",
       " <selenium.webdriver.remote.webelement.WebElement (session=\"7cfe8985e4aca674317bdd7e36cb666c\", element=\"a225a89c-e855-430d-a92b-4673723c95c2\")>]"
      ]
     },
     "execution_count": 65,
     "metadata": {},
     "output_type": "execute_result"
    }
   ],
   "source": [
    "titles_tags=driver.find_elements_by_xpath(\"//a[@class='title fw500 ellipsis']\")\n",
    "titles_tags[0:10]"
   ]
  },
  {
   "cell_type": "code",
   "execution_count": 66,
   "id": "e17f3ac9",
   "metadata": {},
   "outputs": [
    {
     "data": {
      "text/plain": [
       "['AI Technologist Vacancy',\n",
       " 'Job Opening with Wipro For Data Scientist position',\n",
       " 'Data Scientist',\n",
       " 'Senior Data Scientist',\n",
       " 'Senior Data Scientist',\n",
       " 'Data Scientist',\n",
       " 'Data Scientist',\n",
       " 'Data Scientist - Immediate Joiners',\n",
       " 'Data Scientist- AI/ML- R&D',\n",
       " 'Urgent Hiring For AI Data Scientist']"
      ]
     },
     "execution_count": 66,
     "metadata": {},
     "output_type": "execute_result"
    }
   ],
   "source": [
    "# Now the text of the title is inside the tags extracted above.\n",
    "for i in titles_tags:\n",
    "    title=i.text\n",
    "    job_titles.append(title)\n",
    "job_titles[0:10]"
   ]
  },
  {
   "cell_type": "code",
   "execution_count": 67,
   "id": "6eeb048e",
   "metadata": {},
   "outputs": [
    {
     "data": {
      "text/plain": [
       "[<selenium.webdriver.remote.webelement.WebElement (session=\"7cfe8985e4aca674317bdd7e36cb666c\", element=\"78701794-a7b3-40e7-a60e-9b3e9cfea2ad\")>,\n",
       " <selenium.webdriver.remote.webelement.WebElement (session=\"7cfe8985e4aca674317bdd7e36cb666c\", element=\"8b02c19b-67e3-4af7-bf60-6481a8c423a2\")>,\n",
       " <selenium.webdriver.remote.webelement.WebElement (session=\"7cfe8985e4aca674317bdd7e36cb666c\", element=\"bd01053b-c442-4beb-bafd-6cc90a5f6bc3\")>,\n",
       " <selenium.webdriver.remote.webelement.WebElement (session=\"7cfe8985e4aca674317bdd7e36cb666c\", element=\"de3b4482-4108-403c-ae13-7568922249e8\")>,\n",
       " <selenium.webdriver.remote.webelement.WebElement (session=\"7cfe8985e4aca674317bdd7e36cb666c\", element=\"576a8a14-973c-4adc-82cf-78b7c2100a5c\")>,\n",
       " <selenium.webdriver.remote.webelement.WebElement (session=\"7cfe8985e4aca674317bdd7e36cb666c\", element=\"fb97b59b-32b7-465a-84fa-58d34e4fe2fc\")>,\n",
       " <selenium.webdriver.remote.webelement.WebElement (session=\"7cfe8985e4aca674317bdd7e36cb666c\", element=\"468a5485-38b4-4ae3-850b-6e186389ecfd\")>,\n",
       " <selenium.webdriver.remote.webelement.WebElement (session=\"7cfe8985e4aca674317bdd7e36cb666c\", element=\"bb195563-ceb9-4c92-a6f0-8308936e041f\")>,\n",
       " <selenium.webdriver.remote.webelement.WebElement (session=\"7cfe8985e4aca674317bdd7e36cb666c\", element=\"6541edcf-3790-450c-8d04-03ddaad6e17e\")>,\n",
       " <selenium.webdriver.remote.webelement.WebElement (session=\"7cfe8985e4aca674317bdd7e36cb666c\", element=\"77b950cf-a05e-4702-b9ce-dfca7b486eb5\")>]"
      ]
     },
     "execution_count": 67,
     "metadata": {},
     "output_type": "execute_result"
    }
   ],
   "source": [
    "# So lets extract all the tags having the company names\n",
    "companies_tags=driver.find_elements_by_xpath(\"//a[@class='subTitle ellipsis fleft']\")\n",
    "companies_tags[0:10]"
   ]
  },
  {
   "cell_type": "code",
   "execution_count": 68,
   "id": "3f33edec",
   "metadata": {},
   "outputs": [
    {
     "data": {
      "text/plain": [
       "['Wipro',\n",
       " 'Wipro',\n",
       " 'Genpact',\n",
       " 'Walmart',\n",
       " 'Walmart',\n",
       " 'Genpact',\n",
       " 'Genpact',\n",
       " 'Bristlecone',\n",
       " 'EXL',\n",
       " 'Ashkom Media India Private Limited']"
      ]
     },
     "execution_count": 68,
     "metadata": {},
     "output_type": "execute_result"
    }
   ],
   "source": [
    "for i in companies_tags:\n",
    "    company_name=i.text\n",
    "    company_names.append(company_name)\n",
    "company_names[0:10]"
   ]
  },
  {
   "cell_type": "code",
   "execution_count": 69,
   "id": "e1076acf",
   "metadata": {},
   "outputs": [
    {
     "data": {
      "text/plain": [
       "[<selenium.webdriver.remote.webelement.WebElement (session=\"7cfe8985e4aca674317bdd7e36cb666c\", element=\"585c76b2-7e63-4624-9978-e302c46dc9fe\")>,\n",
       " <selenium.webdriver.remote.webelement.WebElement (session=\"7cfe8985e4aca674317bdd7e36cb666c\", element=\"807a39be-d765-4dc3-aac8-38a49019a153\")>,\n",
       " <selenium.webdriver.remote.webelement.WebElement (session=\"7cfe8985e4aca674317bdd7e36cb666c\", element=\"6de19193-792f-400e-a9f8-97701607e3af\")>,\n",
       " <selenium.webdriver.remote.webelement.WebElement (session=\"7cfe8985e4aca674317bdd7e36cb666c\", element=\"b8cb5b31-c4a0-4982-bae7-5ae8926a2660\")>,\n",
       " <selenium.webdriver.remote.webelement.WebElement (session=\"7cfe8985e4aca674317bdd7e36cb666c\", element=\"88838272-6023-4fb9-9e64-ca0cdea8c23c\")>,\n",
       " <selenium.webdriver.remote.webelement.WebElement (session=\"7cfe8985e4aca674317bdd7e36cb666c\", element=\"717fa9c1-ef3f-4042-9cfd-518e6a9a4f4d\")>,\n",
       " <selenium.webdriver.remote.webelement.WebElement (session=\"7cfe8985e4aca674317bdd7e36cb666c\", element=\"9fc30f09-5dc1-40c2-a3ba-e1aaeec4d2c9\")>,\n",
       " <selenium.webdriver.remote.webelement.WebElement (session=\"7cfe8985e4aca674317bdd7e36cb666c\", element=\"d96fc24e-c758-481a-b947-d23cb0f3dd44\")>,\n",
       " <selenium.webdriver.remote.webelement.WebElement (session=\"7cfe8985e4aca674317bdd7e36cb666c\", element=\"05c5aa0d-b8b1-4856-bd47-02c9cef9277f\")>,\n",
       " <selenium.webdriver.remote.webelement.WebElement (session=\"7cfe8985e4aca674317bdd7e36cb666c\", element=\"fa84eac6-6fbe-4831-be82-02b256f64ac4\")>]"
      ]
     },
     "execution_count": 69,
     "metadata": {},
     "output_type": "execute_result"
    }
   ],
   "source": [
    "# So lets extract all the tags having the location names\n",
    "location_tags=driver.find_elements_by_xpath(\"//li[@class='fleft grey-text br2 placeHolderLi location']/span[1]\")\n",
    "location_tags[0:10]"
   ]
  },
  {
   "cell_type": "code",
   "execution_count": 70,
   "id": "bee55758",
   "metadata": {},
   "outputs": [
    {
     "data": {
      "text/plain": [
       "['Kolkata, Hyderabad/Secunderabad, Pune, Ahmedabad, Chennai, Bangalore/Bengaluru, Delhi / NCR, Mumbai (All Areas)',\n",
       " 'Kolkata, Hyderabad/Secunderabad, Chennai, Bangalore/Bengaluru, Delhi / NCR, Mumbai (All Areas)',\n",
       " 'Bangalore/Bengaluru',\n",
       " 'Bangalore/Bengaluru',\n",
       " 'Bangalore/Bengaluru',\n",
       " 'Bangalore/Bengaluru',\n",
       " 'Hyderabad/Secunderabad, Bangalore/Bengaluru, Delhi / NCR',\n",
       " 'Noida, Mumbai, Pune, Bangalore/Bengaluru',\n",
       " 'Noida, Hyderabad/Secunderabad, Pune, Gurgaon/Gurugram, Chennai, Bangalore/Bengaluru, Delhi / NCR',\n",
       " 'New Delhi, Bangalore/Bengaluru, Mumbai (All Areas)']"
      ]
     },
     "execution_count": 70,
     "metadata": {},
     "output_type": "execute_result"
    }
   ],
   "source": [
    "for i in location_tags :\n",
    "    location=i.text\n",
    "    locations_list.append(location)\n",
    "locations_list[0:10]"
   ]
  },
  {
   "cell_type": "code",
   "execution_count": 71,
   "id": "1d73e107",
   "metadata": {},
   "outputs": [
    {
     "name": "stdout",
     "output_type": "stream",
     "text": [
      "20 20 20\n"
     ]
    }
   ],
   "source": [
    "\n",
    "print(len(job_titles),len(company_names),len(locations_list))"
   ]
  },
  {
   "cell_type": "code",
   "execution_count": 72,
   "id": "f70f2854",
   "metadata": {},
   "outputs": [],
   "source": [
    "#Import pandas as pd\n",
    "jobs=pd.DataFrame({})\n",
    "jobs['title']=job_titles[:10]\n",
    "jobs['company']=company_names[:10]\n",
    "jobs['location']=locations_list[:10]"
   ]
  },
  {
   "cell_type": "code",
   "execution_count": 73,
   "id": "74e9c2cf",
   "metadata": {},
   "outputs": [
    {
     "data": {
      "text/html": [
       "<div>\n",
       "<style scoped>\n",
       "    .dataframe tbody tr th:only-of-type {\n",
       "        vertical-align: middle;\n",
       "    }\n",
       "\n",
       "    .dataframe tbody tr th {\n",
       "        vertical-align: top;\n",
       "    }\n",
       "\n",
       "    .dataframe thead th {\n",
       "        text-align: right;\n",
       "    }\n",
       "</style>\n",
       "<table border=\"1\" class=\"dataframe\">\n",
       "  <thead>\n",
       "    <tr style=\"text-align: right;\">\n",
       "      <th></th>\n",
       "      <th>title</th>\n",
       "      <th>company</th>\n",
       "      <th>location</th>\n",
       "    </tr>\n",
       "  </thead>\n",
       "  <tbody>\n",
       "    <tr>\n",
       "      <th>0</th>\n",
       "      <td>AI Technologist Vacancy</td>\n",
       "      <td>Wipro</td>\n",
       "      <td>Kolkata, Hyderabad/Secunderabad, Pune, Ahmedab...</td>\n",
       "    </tr>\n",
       "    <tr>\n",
       "      <th>1</th>\n",
       "      <td>Job Opening with Wipro For Data Scientist posi...</td>\n",
       "      <td>Wipro</td>\n",
       "      <td>Kolkata, Hyderabad/Secunderabad, Chennai, Bang...</td>\n",
       "    </tr>\n",
       "    <tr>\n",
       "      <th>2</th>\n",
       "      <td>Data Scientist</td>\n",
       "      <td>Genpact</td>\n",
       "      <td>Bangalore/Bengaluru</td>\n",
       "    </tr>\n",
       "    <tr>\n",
       "      <th>3</th>\n",
       "      <td>Senior Data Scientist</td>\n",
       "      <td>Walmart</td>\n",
       "      <td>Bangalore/Bengaluru</td>\n",
       "    </tr>\n",
       "    <tr>\n",
       "      <th>4</th>\n",
       "      <td>Senior Data Scientist</td>\n",
       "      <td>Walmart</td>\n",
       "      <td>Bangalore/Bengaluru</td>\n",
       "    </tr>\n",
       "    <tr>\n",
       "      <th>5</th>\n",
       "      <td>Data Scientist</td>\n",
       "      <td>Genpact</td>\n",
       "      <td>Bangalore/Bengaluru</td>\n",
       "    </tr>\n",
       "    <tr>\n",
       "      <th>6</th>\n",
       "      <td>Data Scientist</td>\n",
       "      <td>Genpact</td>\n",
       "      <td>Hyderabad/Secunderabad, Bangalore/Bengaluru, D...</td>\n",
       "    </tr>\n",
       "    <tr>\n",
       "      <th>7</th>\n",
       "      <td>Data Scientist - Immediate Joiners</td>\n",
       "      <td>Bristlecone</td>\n",
       "      <td>Noida, Mumbai, Pune, Bangalore/Bengaluru</td>\n",
       "    </tr>\n",
       "    <tr>\n",
       "      <th>8</th>\n",
       "      <td>Data Scientist- AI/ML- R&amp;D</td>\n",
       "      <td>EXL</td>\n",
       "      <td>Noida, Hyderabad/Secunderabad, Pune, Gurgaon/G...</td>\n",
       "    </tr>\n",
       "    <tr>\n",
       "      <th>9</th>\n",
       "      <td>Urgent Hiring For AI Data Scientist</td>\n",
       "      <td>Ashkom Media India Private Limited</td>\n",
       "      <td>New Delhi, Bangalore/Bengaluru, Mumbai (All Ar...</td>\n",
       "    </tr>\n",
       "  </tbody>\n",
       "</table>\n",
       "</div>"
      ],
      "text/plain": [
       "                                               title  \\\n",
       "0                            AI Technologist Vacancy   \n",
       "1  Job Opening with Wipro For Data Scientist posi...   \n",
       "2                                     Data Scientist   \n",
       "3                              Senior Data Scientist   \n",
       "4                              Senior Data Scientist   \n",
       "5                                     Data Scientist   \n",
       "6                                     Data Scientist   \n",
       "7                 Data Scientist - Immediate Joiners   \n",
       "8                         Data Scientist- AI/ML- R&D   \n",
       "9                Urgent Hiring For AI Data Scientist   \n",
       "\n",
       "                              company  \\\n",
       "0                               Wipro   \n",
       "1                               Wipro   \n",
       "2                             Genpact   \n",
       "3                             Walmart   \n",
       "4                             Walmart   \n",
       "5                             Genpact   \n",
       "6                             Genpact   \n",
       "7                         Bristlecone   \n",
       "8                                 EXL   \n",
       "9  Ashkom Media India Private Limited   \n",
       "\n",
       "                                            location  \n",
       "0  Kolkata, Hyderabad/Secunderabad, Pune, Ahmedab...  \n",
       "1  Kolkata, Hyderabad/Secunderabad, Chennai, Bang...  \n",
       "2                                Bangalore/Bengaluru  \n",
       "3                                Bangalore/Bengaluru  \n",
       "4                                Bangalore/Bengaluru  \n",
       "5                                Bangalore/Bengaluru  \n",
       "6  Hyderabad/Secunderabad, Bangalore/Bengaluru, D...  \n",
       "7           Noida, Mumbai, Pune, Bangalore/Bengaluru  \n",
       "8  Noida, Hyderabad/Secunderabad, Pune, Gurgaon/G...  \n",
       "9  New Delhi, Bangalore/Bengaluru, Mumbai (All Ar...  "
      ]
     },
     "execution_count": 73,
     "metadata": {},
     "output_type": "execute_result"
    }
   ],
   "source": [
    "jobs"
   ]
  },
  {
   "cell_type": "markdown",
   "id": "b50b8437",
   "metadata": {},
   "source": [
    "<b> Q3: In this question you have to scrape data using the filters available on the webpage as shown below:\n",
    "You have to use the location and salary filter.\n",
    "You have to scrape data for “Data Scientist” designation for first 10 job results.\n",
    "You have to scrape the job-title, job-location, company name, experience required. \n",
    "The location filter to be used is “Delhi/NCR”. The salary filter to be used is “3-6” lakhs\n",
    "The task will be done as shown in the below steps:\n",
    "1. first get the webpage https://www.naukri.com/\n",
    "2. Enter “Data Scientist” in “Skill, Designations, and Companies” field.\n",
    "3. Then click the search button.\n",
    "4. Then apply the location filter and salary filter by checking the respective boxes\n",
    "5. Then scrape the data for the first 10 jobs results you get.\n",
    "6. Finally create a dataframe of the scraped data."
   ]
  },
  {
   "cell_type": "code",
   "execution_count": 74,
   "id": "f2e0c259",
   "metadata": {},
   "outputs": [],
   "source": [
    "# Lets now import all the required libraries\n",
    "import selenium\n",
    "import pandas as pd\n",
    "from selenium import webdriver\n",
    "import warnings\n",
    "warnings.filterwarnings(\"ignore\")\n",
    "import time"
   ]
  },
  {
   "cell_type": "code",
   "execution_count": 75,
   "id": "b0929aaf",
   "metadata": {},
   "outputs": [],
   "source": [
    "# let's first connect to the web driver\n",
    "driver = webdriver.Chrome(r\"C:\\web driver\\chromedriver.exe\")"
   ]
  },
  {
   "cell_type": "code",
   "execution_count": 76,
   "id": "31e0353a",
   "metadata": {},
   "outputs": [],
   "source": [
    "driver=webdriver.Chrome(\"chromedriver.exe\")\n",
    "time.sleep(2)"
   ]
  },
  {
   "cell_type": "code",
   "execution_count": 77,
   "id": "70d95800",
   "metadata": {},
   "outputs": [],
   "source": [
    "#open naukri.com website on automated chrome window \n",
    "driver.get('https://www.naukri.com/')"
   ]
  },
  {
   "cell_type": "code",
   "execution_count": 78,
   "id": "6a9f5ae9",
   "metadata": {},
   "outputs": [],
   "source": [
    "# Finding element for job search bar\n",
    "search_field_designation=driver.find_element_by_class_name(\"suggestor-input\") #job search bar\n",
    "search_field_designation.send_keys(\"Data Scientist\")"
   ]
  },
  {
   "cell_type": "code",
   "execution_count": 79,
   "id": "a9de3c9e",
   "metadata": {},
   "outputs": [],
   "source": [
    "search_button=driver.find_element_by_xpath(\"/html/body/div/div[2]/div[3]/div/div/div[6]\")\n",
    "search_button.click()"
   ]
  },
  {
   "cell_type": "code",
   "execution_count": 80,
   "id": "14df5a4e",
   "metadata": {},
   "outputs": [],
   "source": [
    "job_titles=[]\n",
    "company_names=[]\n",
    "locations_list=[]\n",
    "experience_list=[]\n",
    "salary_list=[]"
   ]
  },
  {
   "cell_type": "code",
   "execution_count": 81,
   "id": "0929bec6",
   "metadata": {},
   "outputs": [
    {
     "data": {
      "text/plain": [
       "[<selenium.webdriver.remote.webelement.WebElement (session=\"869237582a4b7e113c184e93a7b3fd6f\", element=\"c560b462-f5ea-42c5-9f7b-37e3415a7eb8\")>,\n",
       " <selenium.webdriver.remote.webelement.WebElement (session=\"869237582a4b7e113c184e93a7b3fd6f\", element=\"7397e26c-21ce-4385-ab56-ec36ce3093b7\")>,\n",
       " <selenium.webdriver.remote.webelement.WebElement (session=\"869237582a4b7e113c184e93a7b3fd6f\", element=\"88ae510f-b6a1-4b07-9141-3c0ecf84144a\")>,\n",
       " <selenium.webdriver.remote.webelement.WebElement (session=\"869237582a4b7e113c184e93a7b3fd6f\", element=\"77657fa9-733b-416f-b875-02ad10b83afe\")>,\n",
       " <selenium.webdriver.remote.webelement.WebElement (session=\"869237582a4b7e113c184e93a7b3fd6f\", element=\"beb42cda-f880-4513-a4c6-8e2a29333079\")>,\n",
       " <selenium.webdriver.remote.webelement.WebElement (session=\"869237582a4b7e113c184e93a7b3fd6f\", element=\"481ad09e-fc17-4b1b-8876-8a9bf0a70594\")>,\n",
       " <selenium.webdriver.remote.webelement.WebElement (session=\"869237582a4b7e113c184e93a7b3fd6f\", element=\"b5696b9d-702b-4df0-b9a3-45bcb1f57b41\")>,\n",
       " <selenium.webdriver.remote.webelement.WebElement (session=\"869237582a4b7e113c184e93a7b3fd6f\", element=\"2012aa96-7b42-43b0-a26e-2ddb4c489149\")>,\n",
       " <selenium.webdriver.remote.webelement.WebElement (session=\"869237582a4b7e113c184e93a7b3fd6f\", element=\"ea4f2e8c-0bf6-4e47-af7f-b872f4cbdb88\")>,\n",
       " <selenium.webdriver.remote.webelement.WebElement (session=\"869237582a4b7e113c184e93a7b3fd6f\", element=\"f1c4dca4-88d5-4976-8f09-03e071c8df0d\")>]"
      ]
     },
     "execution_count": 81,
     "metadata": {},
     "output_type": "execute_result"
    }
   ],
   "source": [
    "# So lets extract all the tags having the job-titles\n",
    "titles_tags=driver.find_elements_by_xpath(\"//a[@class='title fw500 ellipsis']\")\n",
    "titles_tags[0:10]"
   ]
  },
  {
   "cell_type": "code",
   "execution_count": 82,
   "id": "ae1fd5a1",
   "metadata": {},
   "outputs": [
    {
     "data": {
      "text/plain": [
       "['AI Technologist Vacancy',\n",
       " 'Job Opening with Wipro For Data Scientist position',\n",
       " 'Data Scientist',\n",
       " 'Senior Data Scientist',\n",
       " 'Senior Data Scientist',\n",
       " 'Data Scientist',\n",
       " 'Data Scientist',\n",
       " 'Data Scientist- AI/ML- R&D',\n",
       " 'Data Scientist',\n",
       " 'Data Scientist']"
      ]
     },
     "execution_count": 82,
     "metadata": {},
     "output_type": "execute_result"
    }
   ],
   "source": [
    "# Now the text of the title is inside the tags extracted above.\n",
    "for i in titles_tags:\n",
    "    title=i.text\n",
    "    job_titles.append(title)\n",
    "job_titles[0:10]"
   ]
  },
  {
   "cell_type": "code",
   "execution_count": 83,
   "id": "58b61fcc",
   "metadata": {},
   "outputs": [
    {
     "data": {
      "text/plain": [
       "[<selenium.webdriver.remote.webelement.WebElement (session=\"869237582a4b7e113c184e93a7b3fd6f\", element=\"b08d3e41-1ff6-491e-af49-9661bc3b37b4\")>,\n",
       " <selenium.webdriver.remote.webelement.WebElement (session=\"869237582a4b7e113c184e93a7b3fd6f\", element=\"e2de33d2-a4a8-4632-a063-28136f4affa2\")>,\n",
       " <selenium.webdriver.remote.webelement.WebElement (session=\"869237582a4b7e113c184e93a7b3fd6f\", element=\"920b1d75-dc56-40b1-a7c9-3f9c537770aa\")>,\n",
       " <selenium.webdriver.remote.webelement.WebElement (session=\"869237582a4b7e113c184e93a7b3fd6f\", element=\"e0915931-08be-41a2-874a-33d2190278c6\")>,\n",
       " <selenium.webdriver.remote.webelement.WebElement (session=\"869237582a4b7e113c184e93a7b3fd6f\", element=\"53f22aa7-02f5-4ec3-8843-5891b4b5e0bb\")>,\n",
       " <selenium.webdriver.remote.webelement.WebElement (session=\"869237582a4b7e113c184e93a7b3fd6f\", element=\"87a44b38-0188-4268-9d80-57b14c1b7d00\")>,\n",
       " <selenium.webdriver.remote.webelement.WebElement (session=\"869237582a4b7e113c184e93a7b3fd6f\", element=\"dc62ec3d-fbb4-4adc-9567-464863cf182f\")>,\n",
       " <selenium.webdriver.remote.webelement.WebElement (session=\"869237582a4b7e113c184e93a7b3fd6f\", element=\"254c19a2-52d2-4bdb-9039-6068b34bf977\")>,\n",
       " <selenium.webdriver.remote.webelement.WebElement (session=\"869237582a4b7e113c184e93a7b3fd6f\", element=\"06bf3cea-3481-4035-8411-34fa99eb8963\")>,\n",
       " <selenium.webdriver.remote.webelement.WebElement (session=\"869237582a4b7e113c184e93a7b3fd6f\", element=\"c995b5f0-69a1-493e-bb38-404fc82da7e7\")>]"
      ]
     },
     "execution_count": 83,
     "metadata": {},
     "output_type": "execute_result"
    }
   ],
   "source": [
    "# So lets extract all the tags having the company names\n",
    "companies_tags=driver.find_elements_by_xpath(\"//a[@class='subTitle ellipsis fleft']\")\n",
    "companies_tags[0:10]"
   ]
  },
  {
   "cell_type": "code",
   "execution_count": 84,
   "id": "682df046",
   "metadata": {},
   "outputs": [
    {
     "data": {
      "text/plain": [
       "['Wipro',\n",
       " 'Wipro',\n",
       " 'Genpact',\n",
       " 'Walmart',\n",
       " 'Walmart',\n",
       " 'Genpact',\n",
       " 'Genpact',\n",
       " 'EXL',\n",
       " 'UPL',\n",
       " 'UPL']"
      ]
     },
     "execution_count": 84,
     "metadata": {},
     "output_type": "execute_result"
    }
   ],
   "source": [
    "for i in companies_tags:\n",
    "    company_name=i.text\n",
    "    company_names.append(company_name)\n",
    "company_names[0:10]"
   ]
  },
  {
   "cell_type": "code",
   "execution_count": 85,
   "id": "16cff4ba",
   "metadata": {},
   "outputs": [
    {
     "data": {
      "text/plain": [
       "[<selenium.webdriver.remote.webelement.WebElement (session=\"869237582a4b7e113c184e93a7b3fd6f\", element=\"c24cb401-1d86-40df-acfc-c8766a06da05\")>,\n",
       " <selenium.webdriver.remote.webelement.WebElement (session=\"869237582a4b7e113c184e93a7b3fd6f\", element=\"53db0868-e45d-4f35-b69b-8bd7257f0261\")>,\n",
       " <selenium.webdriver.remote.webelement.WebElement (session=\"869237582a4b7e113c184e93a7b3fd6f\", element=\"c287127b-d182-4d37-bb90-f593ee7876b2\")>,\n",
       " <selenium.webdriver.remote.webelement.WebElement (session=\"869237582a4b7e113c184e93a7b3fd6f\", element=\"3df5fd8d-6b4c-4f58-8114-776029c6adfd\")>,\n",
       " <selenium.webdriver.remote.webelement.WebElement (session=\"869237582a4b7e113c184e93a7b3fd6f\", element=\"21b69bfd-6d25-40f6-a2ac-ffe4bd9aef5e\")>,\n",
       " <selenium.webdriver.remote.webelement.WebElement (session=\"869237582a4b7e113c184e93a7b3fd6f\", element=\"2a412439-699b-43bf-8d8c-6360426e8332\")>,\n",
       " <selenium.webdriver.remote.webelement.WebElement (session=\"869237582a4b7e113c184e93a7b3fd6f\", element=\"324cb617-b652-4990-9895-26b133745b5c\")>,\n",
       " <selenium.webdriver.remote.webelement.WebElement (session=\"869237582a4b7e113c184e93a7b3fd6f\", element=\"4f9e38fa-2e0a-42a5-ae66-31661b99178d\")>,\n",
       " <selenium.webdriver.remote.webelement.WebElement (session=\"869237582a4b7e113c184e93a7b3fd6f\", element=\"2c2d9a89-cb5f-44e5-bdb4-88d14e611f52\")>,\n",
       " <selenium.webdriver.remote.webelement.WebElement (session=\"869237582a4b7e113c184e93a7b3fd6f\", element=\"ea7b8878-4b5d-4cfd-b21d-cfa91239fe35\")>]"
      ]
     },
     "execution_count": 85,
     "metadata": {},
     "output_type": "execute_result"
    }
   ],
   "source": [
    "# so lets extract all the tags having the experience required data\n",
    "\n",
    "experience_tags=driver.find_elements_by_xpath(\"//li[@class='fleft grey-text br2 placeHolderLi experience']/span[1]\")\n",
    "experience_tags[0:10]"
   ]
  },
  {
   "cell_type": "code",
   "execution_count": 86,
   "id": "2a6dda2b",
   "metadata": {},
   "outputs": [
    {
     "data": {
      "text/plain": [
       "['6-11 Yrs',\n",
       " '2-7 Yrs',\n",
       " '5-7 Yrs',\n",
       " '5-9 Yrs',\n",
       " '5-9 Yrs',\n",
       " '7-12 Yrs',\n",
       " '5-8 Yrs',\n",
       " '2-6 Yrs',\n",
       " '2-7 Yrs',\n",
       " '1-4 Yrs']"
      ]
     },
     "execution_count": 86,
     "metadata": {},
     "output_type": "execute_result"
    }
   ],
   "source": [
    "for i in experience_tags:\n",
    "    experience=i.text\n",
    "    experience_list.append(experience)\n",
    "experience_list[0:10]"
   ]
  },
  {
   "cell_type": "code",
   "execution_count": 87,
   "id": "01c16a76",
   "metadata": {},
   "outputs": [
    {
     "data": {
      "text/plain": [
       "[<selenium.webdriver.remote.webelement.WebElement (session=\"869237582a4b7e113c184e93a7b3fd6f\", element=\"2088322f-3862-4485-840e-9335efeeba66\")>,\n",
       " <selenium.webdriver.remote.webelement.WebElement (session=\"869237582a4b7e113c184e93a7b3fd6f\", element=\"2d298494-920b-4f2d-906c-f0acf8eeb7fb\")>,\n",
       " <selenium.webdriver.remote.webelement.WebElement (session=\"869237582a4b7e113c184e93a7b3fd6f\", element=\"c4f00f99-6b3e-40fd-986f-d4965ad7865a\")>,\n",
       " <selenium.webdriver.remote.webelement.WebElement (session=\"869237582a4b7e113c184e93a7b3fd6f\", element=\"4125ab77-b0a3-484d-b31b-9cdee0379366\")>,\n",
       " <selenium.webdriver.remote.webelement.WebElement (session=\"869237582a4b7e113c184e93a7b3fd6f\", element=\"30788ec7-cd95-4d5d-aebc-1400733e6a02\")>,\n",
       " <selenium.webdriver.remote.webelement.WebElement (session=\"869237582a4b7e113c184e93a7b3fd6f\", element=\"46a7aecd-d40f-48b4-a503-6b3ab14b2cac\")>,\n",
       " <selenium.webdriver.remote.webelement.WebElement (session=\"869237582a4b7e113c184e93a7b3fd6f\", element=\"2c77e709-8b15-46e5-abc8-bc91dc44ed9d\")>,\n",
       " <selenium.webdriver.remote.webelement.WebElement (session=\"869237582a4b7e113c184e93a7b3fd6f\", element=\"6ed21e75-7c50-4197-a912-86612071917a\")>,\n",
       " <selenium.webdriver.remote.webelement.WebElement (session=\"869237582a4b7e113c184e93a7b3fd6f\", element=\"f44e94d2-b771-43c7-8198-99949e203502\")>,\n",
       " <selenium.webdriver.remote.webelement.WebElement (session=\"869237582a4b7e113c184e93a7b3fd6f\", element=\"81ef4c59-b3e7-46c9-aa2c-19256b678668\")>]"
      ]
     },
     "execution_count": 87,
     "metadata": {},
     "output_type": "execute_result"
    }
   ],
   "source": [
    "location_tags=driver.find_elements_by_xpath(\"//li[@class='fleft grey-text br2 placeHolderLi location']/span[1]\")\n",
    "location_tags[0:10]"
   ]
  },
  {
   "cell_type": "code",
   "execution_count": 88,
   "id": "1088a88f",
   "metadata": {},
   "outputs": [
    {
     "data": {
      "text/plain": [
       "['Kolkata, Hyderabad/Secunderabad, Pune, Ahmedabad, Chennai, Bangalore/Bengaluru, Delhi / NCR, Mumbai (All Areas)',\n",
       " 'Kolkata, Hyderabad/Secunderabad, Chennai, Bangalore/Bengaluru, Delhi / NCR, Mumbai (All Areas)',\n",
       " 'Bangalore/Bengaluru',\n",
       " 'Bangalore/Bengaluru',\n",
       " 'Bangalore/Bengaluru',\n",
       " 'Bangalore/Bengaluru',\n",
       " 'Hyderabad/Secunderabad, Bangalore/Bengaluru, Delhi / NCR',\n",
       " 'Noida, Hyderabad/Secunderabad, Pune, Gurgaon/Gurugram, Chennai, Bangalore/Bengaluru, Delhi / NCR',\n",
       " 'Mumbai, Bangalore/Bengaluru',\n",
       " 'Bangalore/Bengaluru, Mumbai (All Areas)']"
      ]
     },
     "execution_count": 88,
     "metadata": {},
     "output_type": "execute_result"
    }
   ],
   "source": [
    "for i in location_tags :\n",
    "    location=i.text\n",
    "    locations_list.append(location)\n",
    "locations_list[0:10]"
   ]
  },
  {
   "cell_type": "code",
   "execution_count": 89,
   "id": "10704df7",
   "metadata": {},
   "outputs": [
    {
     "data": {
      "text/plain": [
       "[<selenium.webdriver.remote.webelement.WebElement (session=\"869237582a4b7e113c184e93a7b3fd6f\", element=\"f0b62312-f7fe-4e4c-b20b-0fba2d59641d\")>,\n",
       " <selenium.webdriver.remote.webelement.WebElement (session=\"869237582a4b7e113c184e93a7b3fd6f\", element=\"941685a1-5133-4496-b265-f05cb88b20e6\")>,\n",
       " <selenium.webdriver.remote.webelement.WebElement (session=\"869237582a4b7e113c184e93a7b3fd6f\", element=\"c238f1ca-3a10-4a77-8536-ef7414ac9dba\")>,\n",
       " <selenium.webdriver.remote.webelement.WebElement (session=\"869237582a4b7e113c184e93a7b3fd6f\", element=\"bd1cdaaf-6200-483b-aac0-e3330bd7ecac\")>,\n",
       " <selenium.webdriver.remote.webelement.WebElement (session=\"869237582a4b7e113c184e93a7b3fd6f\", element=\"1bd30cd5-93a6-4d22-a1e1-917ea29f5906\")>,\n",
       " <selenium.webdriver.remote.webelement.WebElement (session=\"869237582a4b7e113c184e93a7b3fd6f\", element=\"e471862f-30fa-496a-854a-058eb58c9ca0\")>,\n",
       " <selenium.webdriver.remote.webelement.WebElement (session=\"869237582a4b7e113c184e93a7b3fd6f\", element=\"490342b7-2e14-4120-9028-4ba644e67f60\")>,\n",
       " <selenium.webdriver.remote.webelement.WebElement (session=\"869237582a4b7e113c184e93a7b3fd6f\", element=\"f95762c5-57d0-49f8-a01a-2e17ae4bfc93\")>,\n",
       " <selenium.webdriver.remote.webelement.WebElement (session=\"869237582a4b7e113c184e93a7b3fd6f\", element=\"7c08b24a-70fd-403e-b83d-27bcf6c02350\")>,\n",
       " <selenium.webdriver.remote.webelement.WebElement (session=\"869237582a4b7e113c184e93a7b3fd6f\", element=\"df7f6d4f-8939-45ed-b18b-272a0950684f\")>]"
      ]
     },
     "execution_count": 89,
     "metadata": {},
     "output_type": "execute_result"
    }
   ],
   "source": [
    "salary_tags=driver.find_elements_by_xpath(\"//li[@class='fleft grey-text br2 placeHolderLi salary']/span[1]\")\n",
    "salary_tags[0:10]"
   ]
  },
  {
   "cell_type": "code",
   "execution_count": 90,
   "id": "5e9fb477",
   "metadata": {},
   "outputs": [
    {
     "data": {
      "text/plain": [
       "['Not disclosed',\n",
       " '4,00,000 - 6,00,000 PA.',\n",
       " 'Not disclosed',\n",
       " 'Not disclosed',\n",
       " 'Not disclosed',\n",
       " '60,000 - 90,000 PA.',\n",
       " 'Not disclosed',\n",
       " '6,50,000 - 16,50,000 PA.',\n",
       " 'Not disclosed',\n",
       " 'Not disclosed']"
      ]
     },
     "execution_count": 90,
     "metadata": {},
     "output_type": "execute_result"
    }
   ],
   "source": [
    "for i in salary_tags :\n",
    "    salary=i.text\n",
    "    salary_list.append(salary)\n",
    "salary_list[0:10]"
   ]
  },
  {
   "cell_type": "code",
   "execution_count": 91,
   "id": "534a3484",
   "metadata": {},
   "outputs": [],
   "source": [
    "#So lets check th length of ech element.\n",
    "#Import pandas as pd\n",
    "jobs=pd.DataFrame({})\n",
    "jobs['Title']=job_titles[:10]\n",
    "jobs['Company']=company_names[:10]\n",
    "jobs['Experience_required']=experience_list[:10]\n",
    "jobs['Location']=locations_list[:10]\n",
    "jobs['Salary']=salary_list[:10]"
   ]
  },
  {
   "cell_type": "code",
   "execution_count": 92,
   "id": "60b4ccff",
   "metadata": {},
   "outputs": [
    {
     "data": {
      "text/html": [
       "<div>\n",
       "<style scoped>\n",
       "    .dataframe tbody tr th:only-of-type {\n",
       "        vertical-align: middle;\n",
       "    }\n",
       "\n",
       "    .dataframe tbody tr th {\n",
       "        vertical-align: top;\n",
       "    }\n",
       "\n",
       "    .dataframe thead th {\n",
       "        text-align: right;\n",
       "    }\n",
       "</style>\n",
       "<table border=\"1\" class=\"dataframe\">\n",
       "  <thead>\n",
       "    <tr style=\"text-align: right;\">\n",
       "      <th></th>\n",
       "      <th>Title</th>\n",
       "      <th>Company</th>\n",
       "      <th>Experience_required</th>\n",
       "      <th>Location</th>\n",
       "      <th>Salary</th>\n",
       "    </tr>\n",
       "  </thead>\n",
       "  <tbody>\n",
       "    <tr>\n",
       "      <th>0</th>\n",
       "      <td>AI Technologist Vacancy</td>\n",
       "      <td>Wipro</td>\n",
       "      <td>6-11 Yrs</td>\n",
       "      <td>Kolkata, Hyderabad/Secunderabad, Pune, Ahmedab...</td>\n",
       "      <td>Not disclosed</td>\n",
       "    </tr>\n",
       "    <tr>\n",
       "      <th>1</th>\n",
       "      <td>Job Opening with Wipro For Data Scientist posi...</td>\n",
       "      <td>Wipro</td>\n",
       "      <td>2-7 Yrs</td>\n",
       "      <td>Kolkata, Hyderabad/Secunderabad, Chennai, Bang...</td>\n",
       "      <td>4,00,000 - 6,00,000 PA.</td>\n",
       "    </tr>\n",
       "    <tr>\n",
       "      <th>2</th>\n",
       "      <td>Data Scientist</td>\n",
       "      <td>Genpact</td>\n",
       "      <td>5-7 Yrs</td>\n",
       "      <td>Bangalore/Bengaluru</td>\n",
       "      <td>Not disclosed</td>\n",
       "    </tr>\n",
       "    <tr>\n",
       "      <th>3</th>\n",
       "      <td>Senior Data Scientist</td>\n",
       "      <td>Walmart</td>\n",
       "      <td>5-9 Yrs</td>\n",
       "      <td>Bangalore/Bengaluru</td>\n",
       "      <td>Not disclosed</td>\n",
       "    </tr>\n",
       "    <tr>\n",
       "      <th>4</th>\n",
       "      <td>Senior Data Scientist</td>\n",
       "      <td>Walmart</td>\n",
       "      <td>5-9 Yrs</td>\n",
       "      <td>Bangalore/Bengaluru</td>\n",
       "      <td>Not disclosed</td>\n",
       "    </tr>\n",
       "    <tr>\n",
       "      <th>5</th>\n",
       "      <td>Data Scientist</td>\n",
       "      <td>Genpact</td>\n",
       "      <td>7-12 Yrs</td>\n",
       "      <td>Bangalore/Bengaluru</td>\n",
       "      <td>60,000 - 90,000 PA.</td>\n",
       "    </tr>\n",
       "    <tr>\n",
       "      <th>6</th>\n",
       "      <td>Data Scientist</td>\n",
       "      <td>Genpact</td>\n",
       "      <td>5-8 Yrs</td>\n",
       "      <td>Hyderabad/Secunderabad, Bangalore/Bengaluru, D...</td>\n",
       "      <td>Not disclosed</td>\n",
       "    </tr>\n",
       "    <tr>\n",
       "      <th>7</th>\n",
       "      <td>Data Scientist- AI/ML- R&amp;D</td>\n",
       "      <td>EXL</td>\n",
       "      <td>2-6 Yrs</td>\n",
       "      <td>Noida, Hyderabad/Secunderabad, Pune, Gurgaon/G...</td>\n",
       "      <td>6,50,000 - 16,50,000 PA.</td>\n",
       "    </tr>\n",
       "    <tr>\n",
       "      <th>8</th>\n",
       "      <td>Data Scientist</td>\n",
       "      <td>UPL</td>\n",
       "      <td>2-7 Yrs</td>\n",
       "      <td>Mumbai, Bangalore/Bengaluru</td>\n",
       "      <td>Not disclosed</td>\n",
       "    </tr>\n",
       "    <tr>\n",
       "      <th>9</th>\n",
       "      <td>Data Scientist</td>\n",
       "      <td>UPL</td>\n",
       "      <td>1-4 Yrs</td>\n",
       "      <td>Bangalore/Bengaluru, Mumbai (All Areas)</td>\n",
       "      <td>Not disclosed</td>\n",
       "    </tr>\n",
       "  </tbody>\n",
       "</table>\n",
       "</div>"
      ],
      "text/plain": [
       "                                               Title  Company  \\\n",
       "0                            AI Technologist Vacancy    Wipro   \n",
       "1  Job Opening with Wipro For Data Scientist posi...    Wipro   \n",
       "2                                     Data Scientist  Genpact   \n",
       "3                              Senior Data Scientist  Walmart   \n",
       "4                              Senior Data Scientist  Walmart   \n",
       "5                                     Data Scientist  Genpact   \n",
       "6                                     Data Scientist  Genpact   \n",
       "7                         Data Scientist- AI/ML- R&D      EXL   \n",
       "8                                     Data Scientist      UPL   \n",
       "9                                     Data Scientist      UPL   \n",
       "\n",
       "  Experience_required                                           Location  \\\n",
       "0            6-11 Yrs  Kolkata, Hyderabad/Secunderabad, Pune, Ahmedab...   \n",
       "1             2-7 Yrs  Kolkata, Hyderabad/Secunderabad, Chennai, Bang...   \n",
       "2             5-7 Yrs                                Bangalore/Bengaluru   \n",
       "3             5-9 Yrs                                Bangalore/Bengaluru   \n",
       "4             5-9 Yrs                                Bangalore/Bengaluru   \n",
       "5            7-12 Yrs                                Bangalore/Bengaluru   \n",
       "6             5-8 Yrs  Hyderabad/Secunderabad, Bangalore/Bengaluru, D...   \n",
       "7             2-6 Yrs  Noida, Hyderabad/Secunderabad, Pune, Gurgaon/G...   \n",
       "8             2-7 Yrs                        Mumbai, Bangalore/Bengaluru   \n",
       "9             1-4 Yrs            Bangalore/Bengaluru, Mumbai (All Areas)   \n",
       "\n",
       "                     Salary  \n",
       "0             Not disclosed  \n",
       "1   4,00,000 - 6,00,000 PA.  \n",
       "2             Not disclosed  \n",
       "3             Not disclosed  \n",
       "4             Not disclosed  \n",
       "5       60,000 - 90,000 PA.  \n",
       "6             Not disclosed  \n",
       "7  6,50,000 - 16,50,000 PA.  \n",
       "8             Not disclosed  \n",
       "9             Not disclosed  "
      ]
     },
     "execution_count": 92,
     "metadata": {},
     "output_type": "execute_result"
    }
   ],
   "source": [
    "jobs"
   ]
  },
  {
   "cell_type": "markdown",
   "id": "bbbbba76",
   "metadata": {},
   "source": [
    "<b> Q4: Scrape data of first 100 sunglasses listings on flipkart.com. You have to scrape four attributes:\n",
    "1. Brand\n",
    "2. Product Description\n",
    "3. Price"
   ]
  },
  {
   "cell_type": "code",
   "execution_count": 93,
   "id": "f5b5a109",
   "metadata": {},
   "outputs": [],
   "source": [
    "# Lets now import all the required libraries\n",
    "import selenium\n",
    "import pandas as pd\n",
    "from selenium import webdriver\n",
    "import warnings\n",
    "warnings.filterwarnings(\"ignore\")\n",
    "import time"
   ]
  },
  {
   "cell_type": "code",
   "execution_count": 94,
   "id": "514dab0a",
   "metadata": {},
   "outputs": [],
   "source": [
    "# let's first connect to the web driver\n",
    "driver = webdriver.Chrome(r\"C:\\web driver\\chromedriver.exe\")"
   ]
  },
  {
   "cell_type": "code",
   "execution_count": 95,
   "id": "1e52c2e0",
   "metadata": {},
   "outputs": [],
   "source": [
    "driver=webdriver.Chrome(\"chromedriver.exe\")\n",
    "time.sleep(2)"
   ]
  },
  {
   "cell_type": "code",
   "execution_count": 96,
   "id": "549dc6bc",
   "metadata": {},
   "outputs": [],
   "source": [
    "driver.get('https://www.flipkart.com/')"
   ]
  },
  {
   "cell_type": "code",
   "execution_count": 97,
   "id": "3a70c530",
   "metadata": {},
   "outputs": [
    {
     "data": {
      "text/plain": [
       "<selenium.webdriver.remote.webelement.WebElement (session=\"71da3e54ad2a04a868a491858dcb0c7b\", element=\"4e70e971-035a-4a2f-a94f-9c2896837098\")>"
      ]
     },
     "execution_count": 97,
     "metadata": {},
     "output_type": "execute_result"
    }
   ],
   "source": [
    "# Finding element for search bar\n",
    "search_g= driver.find_element_by_xpath(\"//input[@class='_3704LK']\") \n",
    "search_g"
   ]
  },
  {
   "cell_type": "code",
   "execution_count": 98,
   "id": "1c8e93cf",
   "metadata": {},
   "outputs": [],
   "source": [
    "# write on search bar\n",
    "search_g.send_keys('sunglasses')"
   ]
  },
  {
   "cell_type": "code",
   "execution_count": 99,
   "id": "bd4cb6c8",
   "metadata": {},
   "outputs": [],
   "source": [
    "search_button=driver.find_element_by_xpath(\"//button[@class='L0Z3Pu']\")\n",
    "search_button.click()"
   ]
  },
  {
   "cell_type": "code",
   "execution_count": 100,
   "id": "eb3f8959",
   "metadata": {},
   "outputs": [],
   "source": [
    "B_name=[]\n",
    "Price=[]\n",
    "P_desc=[]"
   ]
  },
  {
   "cell_type": "code",
   "execution_count": 101,
   "id": "ffd36419",
   "metadata": {},
   "outputs": [],
   "source": [
    "for i in range(3):\n",
    "    b_name=driver.find_elements_by_xpath(\"//div[@class='_2WkVRV']\")"
   ]
  },
  {
   "cell_type": "code",
   "execution_count": 102,
   "id": "d7ac9855",
   "metadata": {},
   "outputs": [
    {
     "data": {
      "text/plain": [
       "['ROZZETTA CRAFT',\n",
       " 'OCHILA',\n",
       " 'SRPM',\n",
       " 'PIRASO',\n",
       " 'Fastrack',\n",
       " 'Elligator',\n",
       " 'PIRASO',\n",
       " 'ROYAL SON',\n",
       " 'Mi',\n",
       " 'PIRASO',\n",
       " 'Fastrack',\n",
       " 'ROZZETTA CRAFT',\n",
       " 'ROZZETTA CRAFT',\n",
       " 'PIRASO',\n",
       " 'SUNBEE',\n",
       " 'SKYZA INDIA',\n",
       " 'Fastrack',\n",
       " 'SRPM',\n",
       " 'Lee Topper',\n",
       " 'ROYAL SON',\n",
       " 'VINCENT CHASE',\n",
       " 'New Specs',\n",
       " 'Fastrack',\n",
       " 'LOUIS KOUROS',\n",
       " 'GANSTA',\n",
       " 'SUNBEE',\n",
       " 'SHAAH COLLECTIONS',\n",
       " 'ROYAL SON',\n",
       " 'GANSTA',\n",
       " 'Elligator',\n",
       " 'PIRASO',\n",
       " 'ROYAL SON',\n",
       " 'SRPM',\n",
       " 'SUNBEE',\n",
       " 'Fastrack',\n",
       " 'ROYAL SON',\n",
       " 'ROYAL SON',\n",
       " 'United Colors of Benetton',\n",
       " 'PIRASO',\n",
       " 'ROYAL SON']"
      ]
     },
     "execution_count": 102,
     "metadata": {},
     "output_type": "execute_result"
    }
   ],
   "source": [
    " for j  in b_name:\n",
    "        B_name.append(j.text)\n",
    "B_name[:100]"
   ]
  },
  {
   "cell_type": "code",
   "execution_count": 103,
   "id": "7f749bb1",
   "metadata": {},
   "outputs": [],
   "source": [
    "for i in range(3): \n",
    "    p_desc=driver.find_elements_by_xpath(\"//a[@class='IRpwTa']\")"
   ]
  },
  {
   "cell_type": "code",
   "execution_count": 104,
   "id": "9c1a0065",
   "metadata": {},
   "outputs": [
    {
     "data": {
      "text/plain": [
       "['UV Protection Spectacle Sunglasses (Free Size)',\n",
       " 'UV Protection Wayfarer Sunglasses (54)',\n",
       " 'UV Protection Wayfarer Sunglasses (50)',\n",
       " 'UV Protection Aviator Sunglasses (54)',\n",
       " 'UV Protection Wayfarer Sunglasses (Free Size)',\n",
       " 'UV Protection Round Sunglasses (54)',\n",
       " 'UV Protection Aviator Sunglasses (58)',\n",
       " 'UV Protection Over-sized Sunglasses (61)',\n",
       " 'Polarized Wayfarer Sunglasses (Free Size)',\n",
       " 'UV Protection Aviator Sunglasses (54)',\n",
       " 'Gradient, UV Protection Wayfarer Sunglasses (Free Size)',\n",
       " 'UV Protection Aviator Sunglasses (62)',\n",
       " 'UV Protection, Gradient Retro Square Sunglasses (Free S...',\n",
       " 'UV Protection Rectangular Sunglasses (52)',\n",
       " 'UV Protection, Polarized Wayfarer Sunglasses (Free Size...',\n",
       " 'Polarized, UV Protection Sports Sunglasses (Free Size)',\n",
       " 'UV Protection Aviator Sunglasses (58)',\n",
       " 'Night Vision, UV Protection Round Sunglasses (54)',\n",
       " 'Riding Glasses Wrap-around Sunglasses (Free Size)',\n",
       " 'UV Protection, Gradient Over-sized Sunglasses (56)',\n",
       " 'by Lenskart Polarized, UV Protection Cat-eye Sunglasses...',\n",
       " 'Mirrored, UV Protection, Riding Glasses, Others Round S...',\n",
       " 'UV Protection Aviator Sunglasses (Free Size)',\n",
       " 'UV Protection Aviator Sunglasses (60)',\n",
       " 'Gradient, UV Protection Retro Square, Wayfarer Sunglass...',\n",
       " 'UV Protection, Polarized, Mirrored Wayfarer Sunglasses ...',\n",
       " 'UV Protection, Polarized, Mirrored Rectangular Sunglass...',\n",
       " 'Polarized, UV Protection Wrap-around Sunglasses (62)',\n",
       " 'UV Protection Aviator Sunglasses (57)',\n",
       " 'UV Protection Round Sunglasses (53)',\n",
       " 'UV Protection Aviator Sunglasses (54)',\n",
       " 'UV Protection, Gradient Over-sized Sunglasses (62)',\n",
       " 'Others Wayfarer, Retro Square Sunglasses (50)',\n",
       " 'UV Protection, Polarized, Mirrored Retro Square Sunglas...',\n",
       " 'Gradient, UV Protection Wayfarer Sunglasses (Free Size)',\n",
       " 'UV Protection, Gradient Over-sized Sunglasses (62)',\n",
       " 'Polarized Rectangular Sunglasses (60)',\n",
       " 'Gradient, UV Protection Aviator Sunglasses (56)',\n",
       " 'UV Protection Over-sized Sunglasses (65)',\n",
       " 'Polarized, UV Protection Wrap-around Sunglasses (62)']"
      ]
     },
     "execution_count": 104,
     "metadata": {},
     "output_type": "execute_result"
    }
   ],
   "source": [
    "for k in p_desc:\n",
    "        P_desc.append(k.text)\n",
    "P_desc[:100]"
   ]
  },
  {
   "cell_type": "code",
   "execution_count": 105,
   "id": "a856fa83",
   "metadata": {},
   "outputs": [],
   "source": [
    "for i in range(3): \n",
    "    price =driver.find_elements_by_xpath(\"//div[@class='_30jeq3']\")"
   ]
  },
  {
   "cell_type": "code",
   "execution_count": 106,
   "id": "262b82ab",
   "metadata": {},
   "outputs": [
    {
     "data": {
      "text/plain": [
       "['₹359',\n",
       " '₹249',\n",
       " '₹199',\n",
       " '₹199',\n",
       " '₹699',\n",
       " '₹280',\n",
       " '₹319',\n",
       " '₹531',\n",
       " '₹599',\n",
       " '₹199',\n",
       " '₹599',\n",
       " '₹519',\n",
       " '₹314',\n",
       " '₹272',\n",
       " '₹283',\n",
       " '₹489',\n",
       " '₹899',\n",
       " '₹207',\n",
       " '₹299',\n",
       " '₹531',\n",
       " '₹719',\n",
       " '₹299',\n",
       " '₹629',\n",
       " '₹1,999',\n",
       " '₹207',\n",
       " '₹283',\n",
       " '₹195',\n",
       " '₹639',\n",
       " '₹279',\n",
       " '₹195',\n",
       " '₹219',\n",
       " '₹559',\n",
       " '₹195',\n",
       " '₹259',\n",
       " '₹699',\n",
       " '₹559',\n",
       " '₹531',\n",
       " '₹739',\n",
       " '₹410',\n",
       " '₹799']"
      ]
     },
     "execution_count": 106,
     "metadata": {},
     "output_type": "execute_result"
    }
   ],
   "source": [
    "for l in price:\n",
    "        Price.append(l.text)\n",
    "Price[:100] "
   ]
  },
  {
   "cell_type": "code",
   "execution_count": 107,
   "id": "37a0185a",
   "metadata": {},
   "outputs": [
    {
     "name": "stdout",
     "output_type": "stream",
     "text": [
      "40\n",
      "40\n",
      "40\n"
     ]
    },
    {
     "data": {
      "text/plain": [
       "(None, None, None)"
      ]
     },
     "execution_count": 107,
     "metadata": {},
     "output_type": "execute_result"
    }
   ],
   "source": [
    "#So lets check th length of ech element.\n",
    "print(len(B_name[:40])),print(len(Price[:40])),print(len(P_desc[:40]))"
   ]
  },
  {
   "cell_type": "code",
   "execution_count": 108,
   "id": "e3ea7873",
   "metadata": {},
   "outputs": [],
   "source": [
    "#Import pandas as pd\n",
    "sun_gl=pd.DataFrame({})\n",
    "sun_gl['Brand_name']=B_name[:40]\n",
    "sun_gl['P_price']=Price[:40]\n",
    "sun_gl['Pr_desc']=P_desc[:40]"
   ]
  },
  {
   "cell_type": "code",
   "execution_count": 109,
   "id": "bc72e4b2",
   "metadata": {},
   "outputs": [
    {
     "data": {
      "text/html": [
       "<div>\n",
       "<style scoped>\n",
       "    .dataframe tbody tr th:only-of-type {\n",
       "        vertical-align: middle;\n",
       "    }\n",
       "\n",
       "    .dataframe tbody tr th {\n",
       "        vertical-align: top;\n",
       "    }\n",
       "\n",
       "    .dataframe thead th {\n",
       "        text-align: right;\n",
       "    }\n",
       "</style>\n",
       "<table border=\"1\" class=\"dataframe\">\n",
       "  <thead>\n",
       "    <tr style=\"text-align: right;\">\n",
       "      <th></th>\n",
       "      <th>Brand_name</th>\n",
       "      <th>P_price</th>\n",
       "      <th>Pr_desc</th>\n",
       "    </tr>\n",
       "  </thead>\n",
       "  <tbody>\n",
       "    <tr>\n",
       "      <th>0</th>\n",
       "      <td>ROZZETTA CRAFT</td>\n",
       "      <td>₹359</td>\n",
       "      <td>UV Protection Spectacle Sunglasses (Free Size)</td>\n",
       "    </tr>\n",
       "    <tr>\n",
       "      <th>1</th>\n",
       "      <td>OCHILA</td>\n",
       "      <td>₹249</td>\n",
       "      <td>UV Protection Wayfarer Sunglasses (54)</td>\n",
       "    </tr>\n",
       "    <tr>\n",
       "      <th>2</th>\n",
       "      <td>SRPM</td>\n",
       "      <td>₹199</td>\n",
       "      <td>UV Protection Wayfarer Sunglasses (50)</td>\n",
       "    </tr>\n",
       "    <tr>\n",
       "      <th>3</th>\n",
       "      <td>PIRASO</td>\n",
       "      <td>₹199</td>\n",
       "      <td>UV Protection Aviator Sunglasses (54)</td>\n",
       "    </tr>\n",
       "    <tr>\n",
       "      <th>4</th>\n",
       "      <td>Fastrack</td>\n",
       "      <td>₹699</td>\n",
       "      <td>UV Protection Wayfarer Sunglasses (Free Size)</td>\n",
       "    </tr>\n",
       "    <tr>\n",
       "      <th>5</th>\n",
       "      <td>Elligator</td>\n",
       "      <td>₹280</td>\n",
       "      <td>UV Protection Round Sunglasses (54)</td>\n",
       "    </tr>\n",
       "    <tr>\n",
       "      <th>6</th>\n",
       "      <td>PIRASO</td>\n",
       "      <td>₹319</td>\n",
       "      <td>UV Protection Aviator Sunglasses (58)</td>\n",
       "    </tr>\n",
       "    <tr>\n",
       "      <th>7</th>\n",
       "      <td>ROYAL SON</td>\n",
       "      <td>₹531</td>\n",
       "      <td>UV Protection Over-sized Sunglasses (61)</td>\n",
       "    </tr>\n",
       "    <tr>\n",
       "      <th>8</th>\n",
       "      <td>Mi</td>\n",
       "      <td>₹599</td>\n",
       "      <td>Polarized Wayfarer Sunglasses (Free Size)</td>\n",
       "    </tr>\n",
       "    <tr>\n",
       "      <th>9</th>\n",
       "      <td>PIRASO</td>\n",
       "      <td>₹199</td>\n",
       "      <td>UV Protection Aviator Sunglasses (54)</td>\n",
       "    </tr>\n",
       "    <tr>\n",
       "      <th>10</th>\n",
       "      <td>Fastrack</td>\n",
       "      <td>₹599</td>\n",
       "      <td>Gradient, UV Protection Wayfarer Sunglasses (F...</td>\n",
       "    </tr>\n",
       "    <tr>\n",
       "      <th>11</th>\n",
       "      <td>ROZZETTA CRAFT</td>\n",
       "      <td>₹519</td>\n",
       "      <td>UV Protection Aviator Sunglasses (62)</td>\n",
       "    </tr>\n",
       "    <tr>\n",
       "      <th>12</th>\n",
       "      <td>ROZZETTA CRAFT</td>\n",
       "      <td>₹314</td>\n",
       "      <td>UV Protection, Gradient Retro Square Sunglasse...</td>\n",
       "    </tr>\n",
       "    <tr>\n",
       "      <th>13</th>\n",
       "      <td>PIRASO</td>\n",
       "      <td>₹272</td>\n",
       "      <td>UV Protection Rectangular Sunglasses (52)</td>\n",
       "    </tr>\n",
       "    <tr>\n",
       "      <th>14</th>\n",
       "      <td>SUNBEE</td>\n",
       "      <td>₹283</td>\n",
       "      <td>UV Protection, Polarized Wayfarer Sunglasses (...</td>\n",
       "    </tr>\n",
       "    <tr>\n",
       "      <th>15</th>\n",
       "      <td>SKYZA INDIA</td>\n",
       "      <td>₹489</td>\n",
       "      <td>Polarized, UV Protection Sports Sunglasses (Fr...</td>\n",
       "    </tr>\n",
       "    <tr>\n",
       "      <th>16</th>\n",
       "      <td>Fastrack</td>\n",
       "      <td>₹899</td>\n",
       "      <td>UV Protection Aviator Sunglasses (58)</td>\n",
       "    </tr>\n",
       "    <tr>\n",
       "      <th>17</th>\n",
       "      <td>SRPM</td>\n",
       "      <td>₹207</td>\n",
       "      <td>Night Vision, UV Protection Round Sunglasses (54)</td>\n",
       "    </tr>\n",
       "    <tr>\n",
       "      <th>18</th>\n",
       "      <td>Lee Topper</td>\n",
       "      <td>₹299</td>\n",
       "      <td>Riding Glasses Wrap-around Sunglasses (Free Size)</td>\n",
       "    </tr>\n",
       "    <tr>\n",
       "      <th>19</th>\n",
       "      <td>ROYAL SON</td>\n",
       "      <td>₹531</td>\n",
       "      <td>UV Protection, Gradient Over-sized Sunglasses ...</td>\n",
       "    </tr>\n",
       "    <tr>\n",
       "      <th>20</th>\n",
       "      <td>VINCENT CHASE</td>\n",
       "      <td>₹719</td>\n",
       "      <td>by Lenskart Polarized, UV Protection Cat-eye S...</td>\n",
       "    </tr>\n",
       "    <tr>\n",
       "      <th>21</th>\n",
       "      <td>New Specs</td>\n",
       "      <td>₹299</td>\n",
       "      <td>Mirrored, UV Protection, Riding Glasses, Other...</td>\n",
       "    </tr>\n",
       "    <tr>\n",
       "      <th>22</th>\n",
       "      <td>Fastrack</td>\n",
       "      <td>₹629</td>\n",
       "      <td>UV Protection Aviator Sunglasses (Free Size)</td>\n",
       "    </tr>\n",
       "    <tr>\n",
       "      <th>23</th>\n",
       "      <td>LOUIS KOUROS</td>\n",
       "      <td>₹1,999</td>\n",
       "      <td>UV Protection Aviator Sunglasses (60)</td>\n",
       "    </tr>\n",
       "    <tr>\n",
       "      <th>24</th>\n",
       "      <td>GANSTA</td>\n",
       "      <td>₹207</td>\n",
       "      <td>Gradient, UV Protection Retro Square, Wayfarer...</td>\n",
       "    </tr>\n",
       "    <tr>\n",
       "      <th>25</th>\n",
       "      <td>SUNBEE</td>\n",
       "      <td>₹283</td>\n",
       "      <td>UV Protection, Polarized, Mirrored Wayfarer Su...</td>\n",
       "    </tr>\n",
       "    <tr>\n",
       "      <th>26</th>\n",
       "      <td>SHAAH COLLECTIONS</td>\n",
       "      <td>₹195</td>\n",
       "      <td>UV Protection, Polarized, Mirrored Rectangular...</td>\n",
       "    </tr>\n",
       "    <tr>\n",
       "      <th>27</th>\n",
       "      <td>ROYAL SON</td>\n",
       "      <td>₹639</td>\n",
       "      <td>Polarized, UV Protection Wrap-around Sunglasse...</td>\n",
       "    </tr>\n",
       "    <tr>\n",
       "      <th>28</th>\n",
       "      <td>GANSTA</td>\n",
       "      <td>₹279</td>\n",
       "      <td>UV Protection Aviator Sunglasses (57)</td>\n",
       "    </tr>\n",
       "    <tr>\n",
       "      <th>29</th>\n",
       "      <td>Elligator</td>\n",
       "      <td>₹195</td>\n",
       "      <td>UV Protection Round Sunglasses (53)</td>\n",
       "    </tr>\n",
       "    <tr>\n",
       "      <th>30</th>\n",
       "      <td>PIRASO</td>\n",
       "      <td>₹219</td>\n",
       "      <td>UV Protection Aviator Sunglasses (54)</td>\n",
       "    </tr>\n",
       "    <tr>\n",
       "      <th>31</th>\n",
       "      <td>ROYAL SON</td>\n",
       "      <td>₹559</td>\n",
       "      <td>UV Protection, Gradient Over-sized Sunglasses ...</td>\n",
       "    </tr>\n",
       "    <tr>\n",
       "      <th>32</th>\n",
       "      <td>SRPM</td>\n",
       "      <td>₹195</td>\n",
       "      <td>Others Wayfarer, Retro Square Sunglasses (50)</td>\n",
       "    </tr>\n",
       "    <tr>\n",
       "      <th>33</th>\n",
       "      <td>SUNBEE</td>\n",
       "      <td>₹259</td>\n",
       "      <td>UV Protection, Polarized, Mirrored Retro Squar...</td>\n",
       "    </tr>\n",
       "    <tr>\n",
       "      <th>34</th>\n",
       "      <td>Fastrack</td>\n",
       "      <td>₹699</td>\n",
       "      <td>Gradient, UV Protection Wayfarer Sunglasses (F...</td>\n",
       "    </tr>\n",
       "    <tr>\n",
       "      <th>35</th>\n",
       "      <td>ROYAL SON</td>\n",
       "      <td>₹559</td>\n",
       "      <td>UV Protection, Gradient Over-sized Sunglasses ...</td>\n",
       "    </tr>\n",
       "    <tr>\n",
       "      <th>36</th>\n",
       "      <td>ROYAL SON</td>\n",
       "      <td>₹531</td>\n",
       "      <td>Polarized Rectangular Sunglasses (60)</td>\n",
       "    </tr>\n",
       "    <tr>\n",
       "      <th>37</th>\n",
       "      <td>United Colors of Benetton</td>\n",
       "      <td>₹739</td>\n",
       "      <td>Gradient, UV Protection Aviator Sunglasses (56)</td>\n",
       "    </tr>\n",
       "    <tr>\n",
       "      <th>38</th>\n",
       "      <td>PIRASO</td>\n",
       "      <td>₹410</td>\n",
       "      <td>UV Protection Over-sized Sunglasses (65)</td>\n",
       "    </tr>\n",
       "    <tr>\n",
       "      <th>39</th>\n",
       "      <td>ROYAL SON</td>\n",
       "      <td>₹799</td>\n",
       "      <td>Polarized, UV Protection Wrap-around Sunglasse...</td>\n",
       "    </tr>\n",
       "  </tbody>\n",
       "</table>\n",
       "</div>"
      ],
      "text/plain": [
       "                   Brand_name P_price  \\\n",
       "0              ROZZETTA CRAFT    ₹359   \n",
       "1                      OCHILA    ₹249   \n",
       "2                        SRPM    ₹199   \n",
       "3                      PIRASO    ₹199   \n",
       "4                    Fastrack    ₹699   \n",
       "5                   Elligator    ₹280   \n",
       "6                      PIRASO    ₹319   \n",
       "7                   ROYAL SON    ₹531   \n",
       "8                          Mi    ₹599   \n",
       "9                      PIRASO    ₹199   \n",
       "10                   Fastrack    ₹599   \n",
       "11             ROZZETTA CRAFT    ₹519   \n",
       "12             ROZZETTA CRAFT    ₹314   \n",
       "13                     PIRASO    ₹272   \n",
       "14                     SUNBEE    ₹283   \n",
       "15                SKYZA INDIA    ₹489   \n",
       "16                   Fastrack    ₹899   \n",
       "17                       SRPM    ₹207   \n",
       "18                 Lee Topper    ₹299   \n",
       "19                  ROYAL SON    ₹531   \n",
       "20              VINCENT CHASE    ₹719   \n",
       "21                  New Specs    ₹299   \n",
       "22                   Fastrack    ₹629   \n",
       "23               LOUIS KOUROS  ₹1,999   \n",
       "24                     GANSTA    ₹207   \n",
       "25                     SUNBEE    ₹283   \n",
       "26          SHAAH COLLECTIONS    ₹195   \n",
       "27                  ROYAL SON    ₹639   \n",
       "28                     GANSTA    ₹279   \n",
       "29                  Elligator    ₹195   \n",
       "30                     PIRASO    ₹219   \n",
       "31                  ROYAL SON    ₹559   \n",
       "32                       SRPM    ₹195   \n",
       "33                     SUNBEE    ₹259   \n",
       "34                   Fastrack    ₹699   \n",
       "35                  ROYAL SON    ₹559   \n",
       "36                  ROYAL SON    ₹531   \n",
       "37  United Colors of Benetton    ₹739   \n",
       "38                     PIRASO    ₹410   \n",
       "39                  ROYAL SON    ₹799   \n",
       "\n",
       "                                              Pr_desc  \n",
       "0      UV Protection Spectacle Sunglasses (Free Size)  \n",
       "1              UV Protection Wayfarer Sunglasses (54)  \n",
       "2              UV Protection Wayfarer Sunglasses (50)  \n",
       "3               UV Protection Aviator Sunglasses (54)  \n",
       "4       UV Protection Wayfarer Sunglasses (Free Size)  \n",
       "5                 UV Protection Round Sunglasses (54)  \n",
       "6               UV Protection Aviator Sunglasses (58)  \n",
       "7            UV Protection Over-sized Sunglasses (61)  \n",
       "8           Polarized Wayfarer Sunglasses (Free Size)  \n",
       "9               UV Protection Aviator Sunglasses (54)  \n",
       "10  Gradient, UV Protection Wayfarer Sunglasses (F...  \n",
       "11              UV Protection Aviator Sunglasses (62)  \n",
       "12  UV Protection, Gradient Retro Square Sunglasse...  \n",
       "13          UV Protection Rectangular Sunglasses (52)  \n",
       "14  UV Protection, Polarized Wayfarer Sunglasses (...  \n",
       "15  Polarized, UV Protection Sports Sunglasses (Fr...  \n",
       "16              UV Protection Aviator Sunglasses (58)  \n",
       "17  Night Vision, UV Protection Round Sunglasses (54)  \n",
       "18  Riding Glasses Wrap-around Sunglasses (Free Size)  \n",
       "19  UV Protection, Gradient Over-sized Sunglasses ...  \n",
       "20  by Lenskart Polarized, UV Protection Cat-eye S...  \n",
       "21  Mirrored, UV Protection, Riding Glasses, Other...  \n",
       "22       UV Protection Aviator Sunglasses (Free Size)  \n",
       "23              UV Protection Aviator Sunglasses (60)  \n",
       "24  Gradient, UV Protection Retro Square, Wayfarer...  \n",
       "25  UV Protection, Polarized, Mirrored Wayfarer Su...  \n",
       "26  UV Protection, Polarized, Mirrored Rectangular...  \n",
       "27  Polarized, UV Protection Wrap-around Sunglasse...  \n",
       "28              UV Protection Aviator Sunglasses (57)  \n",
       "29                UV Protection Round Sunglasses (53)  \n",
       "30              UV Protection Aviator Sunglasses (54)  \n",
       "31  UV Protection, Gradient Over-sized Sunglasses ...  \n",
       "32      Others Wayfarer, Retro Square Sunglasses (50)  \n",
       "33  UV Protection, Polarized, Mirrored Retro Squar...  \n",
       "34  Gradient, UV Protection Wayfarer Sunglasses (F...  \n",
       "35  UV Protection, Gradient Over-sized Sunglasses ...  \n",
       "36              Polarized Rectangular Sunglasses (60)  \n",
       "37    Gradient, UV Protection Aviator Sunglasses (56)  \n",
       "38           UV Protection Over-sized Sunglasses (65)  \n",
       "39  Polarized, UV Protection Wrap-around Sunglasse...  "
      ]
     },
     "execution_count": 109,
     "metadata": {},
     "output_type": "execute_result"
    }
   ],
   "source": [
    "sun_gl"
   ]
  },
  {
   "cell_type": "code",
   "execution_count": 110,
   "id": "d118b55f",
   "metadata": {},
   "outputs": [],
   "source": [
    "for i in range(3):\n",
    "    b_name=driver.find_elements_by_xpath(\"//div[@class='_2WkVRV']\")\n",
    "    p_desc=driver.find_elements_by_xpath(\"//a[@class='IRpwTa']\")\n",
    "    price =driver.find_elements_by_xpath(\"//div[@class='_30jeq3']\")\n",
    "    \n",
    "    for j  in b_name:\n",
    "        B_name.append(j.text)\n",
    "    B_name[:100]\n",
    "        \n",
    "    for k in p_desc:\n",
    "        P_desc.append(k.text)\n",
    "    P_desc[:100]\n",
    "        \n",
    "    for l in price:\n",
    "        Price.append(l.text)\n",
    "    Price[:100]"
   ]
  },
  {
   "cell_type": "code",
   "execution_count": 111,
   "id": "d28cc25c",
   "metadata": {},
   "outputs": [
    {
     "data": {
      "text/plain": [
       "['ROZZETTA CRAFT',\n",
       " 'OCHILA',\n",
       " 'SRPM',\n",
       " 'PIRASO',\n",
       " 'Fastrack',\n",
       " 'Elligator',\n",
       " 'PIRASO',\n",
       " 'ROYAL SON',\n",
       " 'Mi',\n",
       " 'PIRASO',\n",
       " 'Fastrack',\n",
       " 'ROZZETTA CRAFT',\n",
       " 'ROZZETTA CRAFT',\n",
       " 'PIRASO',\n",
       " 'SUNBEE',\n",
       " 'SKYZA INDIA',\n",
       " 'Fastrack',\n",
       " 'SRPM',\n",
       " 'Lee Topper',\n",
       " 'ROYAL SON',\n",
       " 'VINCENT CHASE',\n",
       " 'New Specs',\n",
       " 'Fastrack',\n",
       " 'LOUIS KOUROS',\n",
       " 'GANSTA',\n",
       " 'SUNBEE',\n",
       " 'SHAAH COLLECTIONS',\n",
       " 'ROYAL SON',\n",
       " 'GANSTA',\n",
       " 'Elligator',\n",
       " 'PIRASO',\n",
       " 'ROYAL SON',\n",
       " 'SRPM',\n",
       " 'SUNBEE',\n",
       " 'Fastrack',\n",
       " 'ROYAL SON',\n",
       " 'ROYAL SON',\n",
       " 'United Colors of Benetton',\n",
       " 'PIRASO',\n",
       " 'ROYAL SON',\n",
       " 'ROZZETTA CRAFT',\n",
       " 'OCHILA',\n",
       " 'SRPM',\n",
       " 'PIRASO',\n",
       " 'Fastrack',\n",
       " 'Elligator',\n",
       " 'PIRASO',\n",
       " 'ROYAL SON',\n",
       " 'Mi',\n",
       " 'PIRASO',\n",
       " 'Fastrack',\n",
       " 'ROZZETTA CRAFT',\n",
       " 'ROZZETTA CRAFT',\n",
       " 'PIRASO',\n",
       " 'SUNBEE',\n",
       " 'SKYZA INDIA',\n",
       " 'Fastrack',\n",
       " 'SRPM',\n",
       " 'Lee Topper',\n",
       " 'ROYAL SON',\n",
       " 'VINCENT CHASE',\n",
       " 'New Specs',\n",
       " 'Fastrack',\n",
       " 'LOUIS KOUROS',\n",
       " 'GANSTA',\n",
       " 'SUNBEE',\n",
       " 'SHAAH COLLECTIONS',\n",
       " 'ROYAL SON',\n",
       " 'GANSTA',\n",
       " 'Elligator',\n",
       " 'PIRASO',\n",
       " 'ROYAL SON',\n",
       " 'SRPM',\n",
       " 'SUNBEE',\n",
       " 'Fastrack',\n",
       " 'ROYAL SON',\n",
       " 'ROYAL SON',\n",
       " 'United Colors of Benetton',\n",
       " 'PIRASO',\n",
       " 'ROYAL SON',\n",
       " 'ROZZETTA CRAFT',\n",
       " 'OCHILA',\n",
       " 'SRPM',\n",
       " 'PIRASO',\n",
       " 'Fastrack',\n",
       " 'Elligator',\n",
       " 'PIRASO',\n",
       " 'ROYAL SON',\n",
       " 'Mi',\n",
       " 'PIRASO',\n",
       " 'Fastrack',\n",
       " 'ROZZETTA CRAFT',\n",
       " 'ROZZETTA CRAFT',\n",
       " 'PIRASO',\n",
       " 'SUNBEE',\n",
       " 'SKYZA INDIA',\n",
       " 'Fastrack',\n",
       " 'SRPM',\n",
       " 'Lee Topper',\n",
       " 'ROYAL SON']"
      ]
     },
     "execution_count": 111,
     "metadata": {},
     "output_type": "execute_result"
    }
   ],
   "source": [
    "B_name[:100]"
   ]
  },
  {
   "cell_type": "code",
   "execution_count": 112,
   "id": "454e5561",
   "metadata": {},
   "outputs": [
    {
     "data": {
      "text/plain": [
       "['UV Protection Spectacle Sunglasses (Free Size)',\n",
       " 'UV Protection Wayfarer Sunglasses (54)',\n",
       " 'UV Protection Wayfarer Sunglasses (50)',\n",
       " 'UV Protection Aviator Sunglasses (54)',\n",
       " 'UV Protection Wayfarer Sunglasses (Free Size)',\n",
       " 'UV Protection Round Sunglasses (54)',\n",
       " 'UV Protection Aviator Sunglasses (58)',\n",
       " 'UV Protection Over-sized Sunglasses (61)',\n",
       " 'Polarized Wayfarer Sunglasses (Free Size)',\n",
       " 'UV Protection Aviator Sunglasses (54)',\n",
       " 'Gradient, UV Protection Wayfarer Sunglasses (Free Size)',\n",
       " 'UV Protection Aviator Sunglasses (62)',\n",
       " 'UV Protection, Gradient Retro Square Sunglasses (Free S...',\n",
       " 'UV Protection Rectangular Sunglasses (52)',\n",
       " 'UV Protection, Polarized Wayfarer Sunglasses (Free Size...',\n",
       " 'Polarized, UV Protection Sports Sunglasses (Free Size)',\n",
       " 'UV Protection Aviator Sunglasses (58)',\n",
       " 'Night Vision, UV Protection Round Sunglasses (54)',\n",
       " 'Riding Glasses Wrap-around Sunglasses (Free Size)',\n",
       " 'UV Protection, Gradient Over-sized Sunglasses (56)',\n",
       " 'by Lenskart Polarized, UV Protection Cat-eye Sunglasses...',\n",
       " 'Mirrored, UV Protection, Riding Glasses, Others Round S...',\n",
       " 'UV Protection Aviator Sunglasses (Free Size)',\n",
       " 'UV Protection Aviator Sunglasses (60)',\n",
       " 'Gradient, UV Protection Retro Square, Wayfarer Sunglass...',\n",
       " 'UV Protection, Polarized, Mirrored Wayfarer Sunglasses ...',\n",
       " 'UV Protection, Polarized, Mirrored Rectangular Sunglass...',\n",
       " 'Polarized, UV Protection Wrap-around Sunglasses (62)',\n",
       " 'UV Protection Aviator Sunglasses (57)',\n",
       " 'UV Protection Round Sunglasses (53)',\n",
       " 'UV Protection Aviator Sunglasses (54)',\n",
       " 'UV Protection, Gradient Over-sized Sunglasses (62)',\n",
       " 'Others Wayfarer, Retro Square Sunglasses (50)',\n",
       " 'UV Protection, Polarized, Mirrored Retro Square Sunglas...',\n",
       " 'Gradient, UV Protection Wayfarer Sunglasses (Free Size)',\n",
       " 'UV Protection, Gradient Over-sized Sunglasses (62)',\n",
       " 'Polarized Rectangular Sunglasses (60)',\n",
       " 'Gradient, UV Protection Aviator Sunglasses (56)',\n",
       " 'UV Protection Over-sized Sunglasses (65)',\n",
       " 'Polarized, UV Protection Wrap-around Sunglasses (62)',\n",
       " 'UV Protection Spectacle Sunglasses (Free Size)',\n",
       " 'UV Protection Wayfarer Sunglasses (54)',\n",
       " 'UV Protection Wayfarer Sunglasses (50)',\n",
       " 'UV Protection Aviator Sunglasses (54)',\n",
       " 'UV Protection Wayfarer Sunglasses (Free Size)',\n",
       " 'UV Protection Round Sunglasses (54)',\n",
       " 'UV Protection Aviator Sunglasses (58)',\n",
       " 'UV Protection Over-sized Sunglasses (61)',\n",
       " 'Polarized Wayfarer Sunglasses (Free Size)',\n",
       " 'UV Protection Aviator Sunglasses (54)',\n",
       " 'Gradient, UV Protection Wayfarer Sunglasses (Free Size)',\n",
       " 'UV Protection Aviator Sunglasses (62)',\n",
       " 'UV Protection, Gradient Retro Square Sunglasses (Free S...',\n",
       " 'UV Protection Rectangular Sunglasses (52)',\n",
       " 'UV Protection, Polarized Wayfarer Sunglasses (Free Size...',\n",
       " 'Polarized, UV Protection Sports Sunglasses (Free Size)',\n",
       " 'UV Protection Aviator Sunglasses (58)',\n",
       " 'Night Vision, UV Protection Round Sunglasses (54)',\n",
       " 'Riding Glasses Wrap-around Sunglasses (Free Size)',\n",
       " 'UV Protection, Gradient Over-sized Sunglasses (56)',\n",
       " 'by Lenskart Polarized, UV Protection Cat-eye Sunglasses...',\n",
       " 'Mirrored, UV Protection, Riding Glasses, Others Round S...',\n",
       " 'UV Protection Aviator Sunglasses (Free Size)',\n",
       " 'UV Protection Aviator Sunglasses (60)',\n",
       " 'Gradient, UV Protection Retro Square, Wayfarer Sunglass...',\n",
       " 'UV Protection, Polarized, Mirrored Wayfarer Sunglasses ...',\n",
       " 'UV Protection, Polarized, Mirrored Rectangular Sunglass...',\n",
       " 'Polarized, UV Protection Wrap-around Sunglasses (62)',\n",
       " 'UV Protection Aviator Sunglasses (57)',\n",
       " 'UV Protection Round Sunglasses (53)',\n",
       " 'UV Protection Aviator Sunglasses (54)',\n",
       " 'UV Protection, Gradient Over-sized Sunglasses (62)',\n",
       " 'Others Wayfarer, Retro Square Sunglasses (50)',\n",
       " 'UV Protection, Polarized, Mirrored Retro Square Sunglas...',\n",
       " 'Gradient, UV Protection Wayfarer Sunglasses (Free Size)',\n",
       " 'UV Protection, Gradient Over-sized Sunglasses (62)',\n",
       " 'Polarized Rectangular Sunglasses (60)',\n",
       " 'Gradient, UV Protection Aviator Sunglasses (56)',\n",
       " 'UV Protection Over-sized Sunglasses (65)',\n",
       " 'Polarized, UV Protection Wrap-around Sunglasses (62)',\n",
       " 'UV Protection Spectacle Sunglasses (Free Size)',\n",
       " 'UV Protection Wayfarer Sunglasses (54)',\n",
       " 'UV Protection Wayfarer Sunglasses (50)',\n",
       " 'UV Protection Aviator Sunglasses (54)',\n",
       " 'UV Protection Wayfarer Sunglasses (Free Size)',\n",
       " 'UV Protection Round Sunglasses (54)',\n",
       " 'UV Protection Aviator Sunglasses (58)',\n",
       " 'UV Protection Over-sized Sunglasses (61)',\n",
       " 'Polarized Wayfarer Sunglasses (Free Size)',\n",
       " 'UV Protection Aviator Sunglasses (54)',\n",
       " 'Gradient, UV Protection Wayfarer Sunglasses (Free Size)',\n",
       " 'UV Protection Aviator Sunglasses (62)',\n",
       " 'UV Protection, Gradient Retro Square Sunglasses (Free S...',\n",
       " 'UV Protection Rectangular Sunglasses (52)',\n",
       " 'UV Protection, Polarized Wayfarer Sunglasses (Free Size...',\n",
       " 'Polarized, UV Protection Sports Sunglasses (Free Size)',\n",
       " 'UV Protection Aviator Sunglasses (58)',\n",
       " 'Night Vision, UV Protection Round Sunglasses (54)',\n",
       " 'Riding Glasses Wrap-around Sunglasses (Free Size)',\n",
       " 'UV Protection, Gradient Over-sized Sunglasses (56)']"
      ]
     },
     "execution_count": 112,
     "metadata": {},
     "output_type": "execute_result"
    }
   ],
   "source": [
    "P_desc[:100]"
   ]
  },
  {
   "cell_type": "code",
   "execution_count": 113,
   "id": "9303a62d",
   "metadata": {},
   "outputs": [
    {
     "data": {
      "text/plain": [
       "['₹359',\n",
       " '₹249',\n",
       " '₹199',\n",
       " '₹199',\n",
       " '₹699',\n",
       " '₹280',\n",
       " '₹319',\n",
       " '₹531',\n",
       " '₹599',\n",
       " '₹199',\n",
       " '₹599',\n",
       " '₹519',\n",
       " '₹314',\n",
       " '₹272',\n",
       " '₹283',\n",
       " '₹489',\n",
       " '₹899',\n",
       " '₹207',\n",
       " '₹299',\n",
       " '₹531',\n",
       " '₹719',\n",
       " '₹299',\n",
       " '₹629',\n",
       " '₹1,999',\n",
       " '₹207',\n",
       " '₹283',\n",
       " '₹195',\n",
       " '₹639',\n",
       " '₹279',\n",
       " '₹195',\n",
       " '₹219',\n",
       " '₹559',\n",
       " '₹195',\n",
       " '₹259',\n",
       " '₹699',\n",
       " '₹559',\n",
       " '₹531',\n",
       " '₹739',\n",
       " '₹410',\n",
       " '₹799',\n",
       " '₹359',\n",
       " '₹249',\n",
       " '₹199',\n",
       " '₹199',\n",
       " '₹699',\n",
       " '₹280',\n",
       " '₹319',\n",
       " '₹531',\n",
       " '₹599',\n",
       " '₹199',\n",
       " '₹599',\n",
       " '₹519',\n",
       " '₹314',\n",
       " '₹272',\n",
       " '₹283',\n",
       " '₹489',\n",
       " '₹899',\n",
       " '₹207',\n",
       " '₹299',\n",
       " '₹531',\n",
       " '₹719',\n",
       " '₹299',\n",
       " '₹629',\n",
       " '₹1,999',\n",
       " '₹207',\n",
       " '₹283',\n",
       " '₹195',\n",
       " '₹639',\n",
       " '₹279',\n",
       " '₹195',\n",
       " '₹219',\n",
       " '₹559',\n",
       " '₹195',\n",
       " '₹259',\n",
       " '₹699',\n",
       " '₹559',\n",
       " '₹531',\n",
       " '₹739',\n",
       " '₹410',\n",
       " '₹799',\n",
       " '₹359',\n",
       " '₹249',\n",
       " '₹199',\n",
       " '₹199',\n",
       " '₹699',\n",
       " '₹280',\n",
       " '₹319',\n",
       " '₹531',\n",
       " '₹599',\n",
       " '₹199',\n",
       " '₹599',\n",
       " '₹519',\n",
       " '₹314',\n",
       " '₹272',\n",
       " '₹283',\n",
       " '₹489',\n",
       " '₹899',\n",
       " '₹207',\n",
       " '₹299',\n",
       " '₹531']"
      ]
     },
     "execution_count": 113,
     "metadata": {},
     "output_type": "execute_result"
    }
   ],
   "source": [
    "Price[:100]"
   ]
  },
  {
   "cell_type": "code",
   "execution_count": 114,
   "id": "c20d5546",
   "metadata": {},
   "outputs": [],
   "source": [
    "#Import pandas as pd\n",
    "sun_gl=pd.DataFrame({})\n",
    "sun_gl['Brand_name']=B_name[:100]\n",
    "sun_gl['P_price']=Price[:100]\n",
    "sun_gl['Pr_desc']=P_desc[:100]"
   ]
  },
  {
   "cell_type": "code",
   "execution_count": 115,
   "id": "b2d28dc1",
   "metadata": {},
   "outputs": [
    {
     "data": {
      "text/html": [
       "<div>\n",
       "<style scoped>\n",
       "    .dataframe tbody tr th:only-of-type {\n",
       "        vertical-align: middle;\n",
       "    }\n",
       "\n",
       "    .dataframe tbody tr th {\n",
       "        vertical-align: top;\n",
       "    }\n",
       "\n",
       "    .dataframe thead th {\n",
       "        text-align: right;\n",
       "    }\n",
       "</style>\n",
       "<table border=\"1\" class=\"dataframe\">\n",
       "  <thead>\n",
       "    <tr style=\"text-align: right;\">\n",
       "      <th></th>\n",
       "      <th>Brand_name</th>\n",
       "      <th>P_price</th>\n",
       "      <th>Pr_desc</th>\n",
       "    </tr>\n",
       "  </thead>\n",
       "  <tbody>\n",
       "    <tr>\n",
       "      <th>0</th>\n",
       "      <td>ROZZETTA CRAFT</td>\n",
       "      <td>₹359</td>\n",
       "      <td>UV Protection Spectacle Sunglasses (Free Size)</td>\n",
       "    </tr>\n",
       "    <tr>\n",
       "      <th>1</th>\n",
       "      <td>OCHILA</td>\n",
       "      <td>₹249</td>\n",
       "      <td>UV Protection Wayfarer Sunglasses (54)</td>\n",
       "    </tr>\n",
       "    <tr>\n",
       "      <th>2</th>\n",
       "      <td>SRPM</td>\n",
       "      <td>₹199</td>\n",
       "      <td>UV Protection Wayfarer Sunglasses (50)</td>\n",
       "    </tr>\n",
       "    <tr>\n",
       "      <th>3</th>\n",
       "      <td>PIRASO</td>\n",
       "      <td>₹199</td>\n",
       "      <td>UV Protection Aviator Sunglasses (54)</td>\n",
       "    </tr>\n",
       "    <tr>\n",
       "      <th>4</th>\n",
       "      <td>Fastrack</td>\n",
       "      <td>₹699</td>\n",
       "      <td>UV Protection Wayfarer Sunglasses (Free Size)</td>\n",
       "    </tr>\n",
       "    <tr>\n",
       "      <th>...</th>\n",
       "      <td>...</td>\n",
       "      <td>...</td>\n",
       "      <td>...</td>\n",
       "    </tr>\n",
       "    <tr>\n",
       "      <th>95</th>\n",
       "      <td>SKYZA INDIA</td>\n",
       "      <td>₹489</td>\n",
       "      <td>Polarized, UV Protection Sports Sunglasses (Fr...</td>\n",
       "    </tr>\n",
       "    <tr>\n",
       "      <th>96</th>\n",
       "      <td>Fastrack</td>\n",
       "      <td>₹899</td>\n",
       "      <td>UV Protection Aviator Sunglasses (58)</td>\n",
       "    </tr>\n",
       "    <tr>\n",
       "      <th>97</th>\n",
       "      <td>SRPM</td>\n",
       "      <td>₹207</td>\n",
       "      <td>Night Vision, UV Protection Round Sunglasses (54)</td>\n",
       "    </tr>\n",
       "    <tr>\n",
       "      <th>98</th>\n",
       "      <td>Lee Topper</td>\n",
       "      <td>₹299</td>\n",
       "      <td>Riding Glasses Wrap-around Sunglasses (Free Size)</td>\n",
       "    </tr>\n",
       "    <tr>\n",
       "      <th>99</th>\n",
       "      <td>ROYAL SON</td>\n",
       "      <td>₹531</td>\n",
       "      <td>UV Protection, Gradient Over-sized Sunglasses ...</td>\n",
       "    </tr>\n",
       "  </tbody>\n",
       "</table>\n",
       "<p>100 rows × 3 columns</p>\n",
       "</div>"
      ],
      "text/plain": [
       "        Brand_name P_price                                            Pr_desc\n",
       "0   ROZZETTA CRAFT    ₹359     UV Protection Spectacle Sunglasses (Free Size)\n",
       "1           OCHILA    ₹249             UV Protection Wayfarer Sunglasses (54)\n",
       "2             SRPM    ₹199             UV Protection Wayfarer Sunglasses (50)\n",
       "3           PIRASO    ₹199              UV Protection Aviator Sunglasses (54)\n",
       "4         Fastrack    ₹699      UV Protection Wayfarer Sunglasses (Free Size)\n",
       "..             ...     ...                                                ...\n",
       "95     SKYZA INDIA    ₹489  Polarized, UV Protection Sports Sunglasses (Fr...\n",
       "96        Fastrack    ₹899              UV Protection Aviator Sunglasses (58)\n",
       "97            SRPM    ₹207  Night Vision, UV Protection Round Sunglasses (54)\n",
       "98      Lee Topper    ₹299  Riding Glasses Wrap-around Sunglasses (Free Size)\n",
       "99       ROYAL SON    ₹531  UV Protection, Gradient Over-sized Sunglasses ...\n",
       "\n",
       "[100 rows x 3 columns]"
      ]
     },
     "execution_count": 115,
     "metadata": {},
     "output_type": "execute_result"
    }
   ],
   "source": [
    "sun_gl"
   ]
  },
  {
   "cell_type": "markdown",
   "id": "c8a62c50",
   "metadata": {},
   "source": [
    "<b> Q6: Scrape data for first 100 sneakers you find when you visit flipkart.com andsearch for “sneakers” in the search field."
   ]
  },
  {
   "cell_type": "code",
   "execution_count": 116,
   "id": "2054ec82",
   "metadata": {},
   "outputs": [],
   "source": [
    "# Lets now import all the required libraries\n",
    "import selenium\n",
    "import pandas as pd\n",
    "from selenium import webdriver\n",
    "import warnings\n",
    "warnings.filterwarnings(\"ignore\")\n",
    "import time"
   ]
  },
  {
   "cell_type": "code",
   "execution_count": 117,
   "id": "2014a01c",
   "metadata": {},
   "outputs": [],
   "source": [
    "# let's first connect to the web driver\n",
    "driver = webdriver.Chrome(r\"C:\\web driver\\chromedriver.exe\")"
   ]
  },
  {
   "cell_type": "code",
   "execution_count": 118,
   "id": "34d43578",
   "metadata": {},
   "outputs": [],
   "source": [
    "driver=webdriver.Chrome(\"chromedriver.exe\")\n",
    "time.sleep(2)"
   ]
  },
  {
   "cell_type": "code",
   "execution_count": 119,
   "id": "a64ca614",
   "metadata": {},
   "outputs": [],
   "source": [
    "driver.get('https://www.flipkart.com/')"
   ]
  },
  {
   "cell_type": "code",
   "execution_count": 123,
   "id": "765778ee",
   "metadata": {},
   "outputs": [
    {
     "data": {
      "text/plain": [
       "<selenium.webdriver.remote.webelement.WebElement (session=\"b42fba4592d9c52d58f30e22183dcaf8\", element=\"1d147a0c-38ed-4975-9182-ff900ba68f11\")>"
      ]
     },
     "execution_count": 123,
     "metadata": {},
     "output_type": "execute_result"
    }
   ],
   "source": [
    "# Finding element for search bar\n",
    "search_g= driver.find_element_by_xpath(\"//input[@class='_3704LK']\") \n",
    "search_g"
   ]
  },
  {
   "cell_type": "code",
   "execution_count": 124,
   "id": "d46f93d8",
   "metadata": {},
   "outputs": [],
   "source": [
    "# write on search bar\n",
    "search_g.send_keys('sneakers')"
   ]
  },
  {
   "cell_type": "code",
   "execution_count": 125,
   "id": "41f1a382",
   "metadata": {},
   "outputs": [],
   "source": [
    "search_button=driver.find_element_by_xpath(\"//button[@class='L0Z3Pu']\")\n",
    "search_button.click()"
   ]
  },
  {
   "cell_type": "code",
   "execution_count": 126,
   "id": "8efb5479",
   "metadata": {},
   "outputs": [],
   "source": [
    "B_name=[]\n",
    "Price=[]\n",
    "P_desc=[]\n",
    "Discount=[]"
   ]
  },
  {
   "cell_type": "code",
   "execution_count": 127,
   "id": "0b6e305f",
   "metadata": {},
   "outputs": [],
   "source": [
    "for i in range(3):\n",
    "    b_name=driver.find_elements_by_xpath(\"//div[@class='_2WkVRV']\")\n",
    "    p_desc=driver.find_elements_by_xpath(\"//a[@class='IRpwTa']\")\n",
    "    price =driver.find_elements_by_xpath(\"//div[@class='_30jeq3']\")\n",
    "    discount=driver.find_elements_by_xpath(\"//div[@class='_3Ay6Sb']\")\n",
    "    \n",
    "    for j  in b_name:\n",
    "        B_name.append(j.text)\n",
    "    B_name[:100]    \n",
    "    \n",
    "    \n",
    "    \n",
    "    for k in p_desc:\n",
    "        P_desc.append(k.text)\n",
    "    P_desc[:100] \n",
    "    \n",
    "    \n",
    "    for l in price:\n",
    "        Price.append(l.text)\n",
    "    Price[:100] \n",
    "    \n",
    "    \n",
    "    for t in discount:\n",
    "        Discount.append(t.text)\n",
    "    Discount[:100]"
   ]
  },
  {
   "cell_type": "code",
   "execution_count": 128,
   "id": "c88c735b",
   "metadata": {},
   "outputs": [
    {
     "data": {
      "text/plain": [
       "['BIRDE',\n",
       " 'Magnolia',\n",
       " 'Layasa',\n",
       " 'Chevit',\n",
       " 'BRUTON',\n",
       " 'Robbie jones',\n",
       " 'BRUTON',\n",
       " 'HRX by Hrithik Roshan',\n",
       " 'URBANBOX',\n",
       " 'Labbin',\n",
       " 'Robbie jones',\n",
       " 'BRUTON',\n",
       " 'Robbie jones',\n",
       " 'aadi',\n",
       " 'Kraasa',\n",
       " 'Chevit',\n",
       " 'KWIK FIT',\n",
       " 'D-SNEAKERZ',\n",
       " 'BRUTON',\n",
       " 'Kirjak',\n",
       " 'Robbie jones',\n",
       " 'U.S. POLO ASSN.',\n",
       " 'bluemaker',\n",
       " 'BIRDE',\n",
       " 'Dicy',\n",
       " 'ASTEROID',\n",
       " 'Kraasa',\n",
       " 'corsac',\n",
       " 'PUMA',\n",
       " 'PUMA',\n",
       " 'HOTSTYLE',\n",
       " 'HOTSTYLE',\n",
       " 'Robbie jones',\n",
       " 'CLYMB',\n",
       " \"LEVI'S\",\n",
       " 'BIRDE',\n",
       " 'aadi',\n",
       " 'CAMPUS',\n",
       " 'Kraasa',\n",
       " 'BIRDE',\n",
       " 'BIRDE',\n",
       " 'Magnolia',\n",
       " 'Layasa',\n",
       " 'Chevit',\n",
       " 'BRUTON',\n",
       " 'Robbie jones',\n",
       " 'BRUTON',\n",
       " 'HRX by Hrithik Roshan',\n",
       " 'URBANBOX',\n",
       " 'Labbin',\n",
       " 'Robbie jones',\n",
       " 'BRUTON',\n",
       " 'Robbie jones',\n",
       " 'aadi',\n",
       " 'Kraasa',\n",
       " 'Chevit',\n",
       " 'KWIK FIT',\n",
       " 'D-SNEAKERZ',\n",
       " 'BRUTON',\n",
       " 'Kirjak',\n",
       " 'Robbie jones',\n",
       " 'U.S. POLO ASSN.',\n",
       " 'bluemaker',\n",
       " 'BIRDE',\n",
       " 'Dicy',\n",
       " 'ASTEROID',\n",
       " 'Kraasa',\n",
       " 'corsac',\n",
       " 'PUMA',\n",
       " 'PUMA',\n",
       " 'HOTSTYLE',\n",
       " 'HOTSTYLE',\n",
       " 'Robbie jones',\n",
       " 'CLYMB',\n",
       " \"LEVI'S\",\n",
       " 'BIRDE',\n",
       " 'aadi',\n",
       " 'CAMPUS',\n",
       " 'Kraasa',\n",
       " 'BIRDE',\n",
       " 'BIRDE',\n",
       " 'Magnolia',\n",
       " 'Layasa',\n",
       " 'Chevit',\n",
       " 'BRUTON',\n",
       " 'Robbie jones',\n",
       " 'BRUTON',\n",
       " 'HRX by Hrithik Roshan',\n",
       " 'URBANBOX',\n",
       " 'Labbin',\n",
       " 'Robbie jones',\n",
       " 'BRUTON',\n",
       " 'Robbie jones',\n",
       " 'aadi',\n",
       " 'Kraasa',\n",
       " 'Chevit',\n",
       " 'KWIK FIT',\n",
       " 'D-SNEAKERZ',\n",
       " 'BRUTON',\n",
       " 'Kirjak']"
      ]
     },
     "execution_count": 128,
     "metadata": {},
     "output_type": "execute_result"
    }
   ],
   "source": [
    "B_name[:100]"
   ]
  },
  {
   "cell_type": "code",
   "execution_count": 129,
   "id": "0610cadf",
   "metadata": {},
   "outputs": [
    {
     "data": {
      "text/plain": [
       "['Stylish Comfortable Lightweight, Breathable Walking Sho...',\n",
       " 'Sneakers For Men',\n",
       " 'Sneakers For Men',\n",
       " '494 Perfect Sports Shoes for Running Training Hikking &...',\n",
       " 'Lightweight Pack Of 1 Trendy Sneakers Sneakers For Men',\n",
       " 'Casual Sneakers Green Shoes For Men And Boys Sneakers F...',\n",
       " 'Modern Trendy Sneakers Shoes Sneakers For Men',\n",
       " 'Sneakers For Men',\n",
       " 'Sneakers For Men',\n",
       " 'Sneakers For Men',\n",
       " 'Combo Pack Of 4 Casual Shoes Loafer Shoes Sneakers For ...',\n",
       " 'Casual Sneakers Canvas Shoes For Men Sneakers For Men',\n",
       " 'Sneakers For Men',\n",
       " 'Shark-41 Sneakers For Men',\n",
       " 'Kwik FIT casual sneaker shoes and partywear shoes Casua...',\n",
       " \"Casual , Partywear Sneakers Shoes For Men's And Boys Wh...\",\n",
       " 'Modern Trendy Sneakers Shoes Sneakers For Men',\n",
       " \"men's Skyblue sneakers lace-up trendy casual Sneakers F...\",\n",
       " 'Sneakers For Men',\n",
       " 'PANAL Sneakers For Men',\n",
       " 'casual for men Sneakers For Men',\n",
       " 'Stylish Comfortable Lightweight, Breathable Casual Walk...',\n",
       " 'Sneakers For Men',\n",
       " \"Original Luxury Branded Fashionable Men's Casual Walkin...\",\n",
       " 'Series 7 Sneakers For Men',\n",
       " 'STYLISH MENS WHITE AND RED TRENDY SNEAKER FOR MENS Snea...',\n",
       " 'Puma Smash Vulc Sneakers For Men',\n",
       " 'Puma Smash v2 L Sneakers For Men',\n",
       " 'Sneakers For Men',\n",
       " 'Casual Sneakers White Shoes For Men Sneakers For Men',\n",
       " 'Sneakers For Men',\n",
       " \"Men's Lancer Sneakers Sneakers For Men\",\n",
       " 'Stylish Comfortable Lightweight, Breathable Walking Sho...',\n",
       " 'Sneakers For Men',\n",
       " 'KING PRO Sneakers For Men',\n",
       " 'Casuals, Canvas, Partywear Sneakers For Men',\n",
       " 'Stylish Comfortable Lightweight, Breathable Walking Sho...',\n",
       " 'Stylish Comfortable Lightweight, Breathable Walking Sho...',\n",
       " 'Sneakers For Men',\n",
       " 'Sneakers For Men',\n",
       " '494 Perfect Sports Shoes for Running Training Hikking &...',\n",
       " 'Lightweight Pack Of 1 Trendy Sneakers Sneakers For Men',\n",
       " 'Casual Sneakers Green Shoes For Men And Boys Sneakers F...',\n",
       " 'Modern Trendy Sneakers Shoes Sneakers For Men',\n",
       " 'Sneakers For Men',\n",
       " 'Sneakers For Men',\n",
       " 'Sneakers For Men',\n",
       " 'Combo Pack Of 4 Casual Shoes Loafer Shoes Sneakers For ...',\n",
       " 'Casual Sneakers Canvas Shoes For Men Sneakers For Men',\n",
       " 'Sneakers For Men',\n",
       " 'Shark-41 Sneakers For Men',\n",
       " 'Kwik FIT casual sneaker shoes and partywear shoes Casua...',\n",
       " \"Casual , Partywear Sneakers Shoes For Men's And Boys Wh...\",\n",
       " 'Modern Trendy Sneakers Shoes Sneakers For Men',\n",
       " \"men's Skyblue sneakers lace-up trendy casual Sneakers F...\",\n",
       " 'Sneakers For Men',\n",
       " 'PANAL Sneakers For Men',\n",
       " 'casual for men Sneakers For Men',\n",
       " 'Stylish Comfortable Lightweight, Breathable Casual Walk...',\n",
       " 'Sneakers For Men',\n",
       " \"Original Luxury Branded Fashionable Men's Casual Walkin...\",\n",
       " 'Series 7 Sneakers For Men',\n",
       " 'STYLISH MENS WHITE AND RED TRENDY SNEAKER FOR MENS Snea...',\n",
       " 'Puma Smash Vulc Sneakers For Men',\n",
       " 'Puma Smash v2 L Sneakers For Men',\n",
       " 'Sneakers For Men',\n",
       " 'Casual Sneakers White Shoes For Men Sneakers For Men',\n",
       " 'Sneakers For Men',\n",
       " \"Men's Lancer Sneakers Sneakers For Men\",\n",
       " 'Stylish Comfortable Lightweight, Breathable Walking Sho...',\n",
       " 'Sneakers For Men',\n",
       " 'KING PRO Sneakers For Men',\n",
       " 'Casuals, Canvas, Partywear Sneakers For Men',\n",
       " 'Stylish Comfortable Lightweight, Breathable Walking Sho...',\n",
       " 'Stylish Comfortable Lightweight, Breathable Walking Sho...',\n",
       " 'Sneakers For Men',\n",
       " 'Sneakers For Men',\n",
       " '494 Perfect Sports Shoes for Running Training Hikking &...',\n",
       " 'Lightweight Pack Of 1 Trendy Sneakers Sneakers For Men',\n",
       " 'Casual Sneakers Green Shoes For Men And Boys Sneakers F...',\n",
       " 'Modern Trendy Sneakers Shoes Sneakers For Men',\n",
       " 'Sneakers For Men',\n",
       " 'Sneakers For Men',\n",
       " 'Sneakers For Men',\n",
       " 'Combo Pack Of 4 Casual Shoes Loafer Shoes Sneakers For ...',\n",
       " 'Casual Sneakers Canvas Shoes For Men Sneakers For Men',\n",
       " 'Sneakers For Men',\n",
       " 'Shark-41 Sneakers For Men',\n",
       " 'Kwik FIT casual sneaker shoes and partywear shoes Casua...',\n",
       " \"Casual , Partywear Sneakers Shoes For Men's And Boys Wh...\",\n",
       " 'Modern Trendy Sneakers Shoes Sneakers For Men',\n",
       " \"men's Skyblue sneakers lace-up trendy casual Sneakers F...\",\n",
       " 'Sneakers For Men',\n",
       " 'PANAL Sneakers For Men',\n",
       " 'casual for men Sneakers For Men',\n",
       " 'Stylish Comfortable Lightweight, Breathable Casual Walk...',\n",
       " 'Sneakers For Men',\n",
       " \"Original Luxury Branded Fashionable Men's Casual Walkin...\",\n",
       " 'Series 7 Sneakers For Men',\n",
       " 'STYLISH MENS WHITE AND RED TRENDY SNEAKER FOR MENS Snea...']"
      ]
     },
     "execution_count": 129,
     "metadata": {},
     "output_type": "execute_result"
    }
   ],
   "source": [
    "P_desc[:100]"
   ]
  },
  {
   "cell_type": "code",
   "execution_count": 130,
   "id": "2e7a24e0",
   "metadata": {},
   "outputs": [
    {
     "data": {
      "text/plain": [
       "['₹299',\n",
       " '₹374',\n",
       " '₹399',\n",
       " '₹254',\n",
       " '₹199',\n",
       " '₹399',\n",
       " '₹283',\n",
       " '₹1,223',\n",
       " '₹198',\n",
       " '₹474',\n",
       " '₹379',\n",
       " '₹499',\n",
       " '₹399',\n",
       " '₹319',\n",
       " '₹419',\n",
       " '₹549',\n",
       " '₹397',\n",
       " '₹284',\n",
       " '₹269',\n",
       " '₹490',\n",
       " '₹399',\n",
       " '₹1,295',\n",
       " '₹399',\n",
       " '₹299',\n",
       " '₹284',\n",
       " '₹474',\n",
       " '₹449',\n",
       " '₹549',\n",
       " '₹2,089',\n",
       " '₹1,115',\n",
       " '₹245',\n",
       " '₹180',\n",
       " '₹379',\n",
       " '₹519',\n",
       " '₹1,599',\n",
       " '₹356',\n",
       " '₹299',\n",
       " '₹709',\n",
       " '₹479',\n",
       " '₹283',\n",
       " '₹299',\n",
       " '₹374',\n",
       " '₹399',\n",
       " '₹254',\n",
       " '₹199',\n",
       " '₹399',\n",
       " '₹283',\n",
       " '₹1,223',\n",
       " '₹198',\n",
       " '₹474',\n",
       " '₹379',\n",
       " '₹499',\n",
       " '₹399',\n",
       " '₹319',\n",
       " '₹419',\n",
       " '₹549',\n",
       " '₹397',\n",
       " '₹284',\n",
       " '₹269',\n",
       " '₹490',\n",
       " '₹399',\n",
       " '₹1,295',\n",
       " '₹399',\n",
       " '₹299',\n",
       " '₹284',\n",
       " '₹474',\n",
       " '₹449',\n",
       " '₹549',\n",
       " '₹2,089',\n",
       " '₹1,115',\n",
       " '₹245',\n",
       " '₹180',\n",
       " '₹379',\n",
       " '₹519',\n",
       " '₹1,599',\n",
       " '₹356',\n",
       " '₹299',\n",
       " '₹709',\n",
       " '₹479',\n",
       " '₹283',\n",
       " '₹299',\n",
       " '₹374',\n",
       " '₹399',\n",
       " '₹254',\n",
       " '₹199',\n",
       " '₹399',\n",
       " '₹283',\n",
       " '₹1,223',\n",
       " '₹198',\n",
       " '₹474',\n",
       " '₹379',\n",
       " '₹499',\n",
       " '₹399',\n",
       " '₹319',\n",
       " '₹419',\n",
       " '₹549',\n",
       " '₹397',\n",
       " '₹284',\n",
       " '₹269',\n",
       " '₹490']"
      ]
     },
     "execution_count": 130,
     "metadata": {},
     "output_type": "execute_result"
    }
   ],
   "source": [
    "Price[:100]"
   ]
  },
  {
   "cell_type": "code",
   "execution_count": 131,
   "id": "43e07178",
   "metadata": {},
   "outputs": [
    {
     "data": {
      "text/plain": [
       "['70% off',\n",
       " '62% off',\n",
       " '60% off',\n",
       " '74% off',\n",
       " '66% off',\n",
       " '60% off',\n",
       " '78% off',\n",
       " '60% off',\n",
       " '80% off',\n",
       " '52% off',\n",
       " '62% off',\n",
       " '85% off',\n",
       " '60% off',\n",
       " '68% off',\n",
       " '58% off',\n",
       " '77% off',\n",
       " '80% off',\n",
       " '56% off',\n",
       " '79% off',\n",
       " '75% off',\n",
       " '60% off',\n",
       " '56% off',\n",
       " '60% off',\n",
       " '70% off',\n",
       " '52% off',\n",
       " '76% off',\n",
       " '55% off',\n",
       " '63% off',\n",
       " '45% off',\n",
       " '68% off',\n",
       " '75% off',\n",
       " '63% off',\n",
       " '62% off',\n",
       " '65% off',\n",
       " '50% off',\n",
       " '64% off',\n",
       " '70% off',\n",
       " '35% off',\n",
       " '52% off',\n",
       " '71% off',\n",
       " '70% off',\n",
       " '62% off',\n",
       " '60% off',\n",
       " '74% off',\n",
       " '66% off',\n",
       " '60% off',\n",
       " '78% off',\n",
       " '60% off',\n",
       " '80% off',\n",
       " '52% off',\n",
       " '62% off',\n",
       " '85% off',\n",
       " '60% off',\n",
       " '68% off',\n",
       " '58% off',\n",
       " '77% off',\n",
       " '80% off',\n",
       " '56% off',\n",
       " '79% off',\n",
       " '75% off',\n",
       " '60% off',\n",
       " '56% off',\n",
       " '60% off',\n",
       " '70% off',\n",
       " '52% off',\n",
       " '76% off',\n",
       " '55% off',\n",
       " '63% off',\n",
       " '45% off',\n",
       " '68% off',\n",
       " '75% off',\n",
       " '63% off',\n",
       " '62% off',\n",
       " '65% off',\n",
       " '50% off',\n",
       " '64% off',\n",
       " '70% off',\n",
       " '35% off',\n",
       " '52% off',\n",
       " '71% off',\n",
       " '70% off',\n",
       " '62% off',\n",
       " '60% off',\n",
       " '74% off',\n",
       " '66% off',\n",
       " '60% off',\n",
       " '78% off',\n",
       " '60% off',\n",
       " '80% off',\n",
       " '52% off',\n",
       " '62% off',\n",
       " '85% off',\n",
       " '60% off',\n",
       " '68% off',\n",
       " '58% off',\n",
       " '77% off',\n",
       " '80% off',\n",
       " '56% off',\n",
       " '79% off',\n",
       " '75% off']"
      ]
     },
     "execution_count": 131,
     "metadata": {},
     "output_type": "execute_result"
    }
   ],
   "source": [
    "Discount[:100]"
   ]
  },
  {
   "cell_type": "markdown",
   "id": "bed1236f",
   "metadata": {},
   "source": []
  },
  {
   "cell_type": "code",
   "execution_count": 132,
   "id": "6f89612a",
   "metadata": {},
   "outputs": [],
   "source": [
    "#Import pandas as pd\n",
    "sneakers=pd.DataFrame({})\n",
    "sneakers['Brand_name']=B_name[:100]\n",
    "sneakers['P_price']=Price[:100]\n",
    "sneakers['Pr_desc']=P_desc[:100]"
   ]
  },
  {
   "cell_type": "code",
   "execution_count": 133,
   "id": "d36c7aca",
   "metadata": {},
   "outputs": [
    {
     "data": {
      "text/html": [
       "<div>\n",
       "<style scoped>\n",
       "    .dataframe tbody tr th:only-of-type {\n",
       "        vertical-align: middle;\n",
       "    }\n",
       "\n",
       "    .dataframe tbody tr th {\n",
       "        vertical-align: top;\n",
       "    }\n",
       "\n",
       "    .dataframe thead th {\n",
       "        text-align: right;\n",
       "    }\n",
       "</style>\n",
       "<table border=\"1\" class=\"dataframe\">\n",
       "  <thead>\n",
       "    <tr style=\"text-align: right;\">\n",
       "      <th></th>\n",
       "      <th>Brand_name</th>\n",
       "      <th>P_price</th>\n",
       "      <th>Pr_desc</th>\n",
       "    </tr>\n",
       "  </thead>\n",
       "  <tbody>\n",
       "    <tr>\n",
       "      <th>0</th>\n",
       "      <td>BIRDE</td>\n",
       "      <td>₹299</td>\n",
       "      <td>Stylish Comfortable Lightweight, Breathable Wa...</td>\n",
       "    </tr>\n",
       "    <tr>\n",
       "      <th>1</th>\n",
       "      <td>Magnolia</td>\n",
       "      <td>₹374</td>\n",
       "      <td>Sneakers For Men</td>\n",
       "    </tr>\n",
       "    <tr>\n",
       "      <th>2</th>\n",
       "      <td>Layasa</td>\n",
       "      <td>₹399</td>\n",
       "      <td>Sneakers For Men</td>\n",
       "    </tr>\n",
       "    <tr>\n",
       "      <th>3</th>\n",
       "      <td>Chevit</td>\n",
       "      <td>₹254</td>\n",
       "      <td>494 Perfect Sports Shoes for Running Training ...</td>\n",
       "    </tr>\n",
       "    <tr>\n",
       "      <th>4</th>\n",
       "      <td>BRUTON</td>\n",
       "      <td>₹199</td>\n",
       "      <td>Lightweight Pack Of 1 Trendy Sneakers Sneakers...</td>\n",
       "    </tr>\n",
       "    <tr>\n",
       "      <th>...</th>\n",
       "      <td>...</td>\n",
       "      <td>...</td>\n",
       "      <td>...</td>\n",
       "    </tr>\n",
       "    <tr>\n",
       "      <th>95</th>\n",
       "      <td>Chevit</td>\n",
       "      <td>₹549</td>\n",
       "      <td>Stylish Comfortable Lightweight, Breathable Ca...</td>\n",
       "    </tr>\n",
       "    <tr>\n",
       "      <th>96</th>\n",
       "      <td>KWIK FIT</td>\n",
       "      <td>₹397</td>\n",
       "      <td>Sneakers For Men</td>\n",
       "    </tr>\n",
       "    <tr>\n",
       "      <th>97</th>\n",
       "      <td>D-SNEAKERZ</td>\n",
       "      <td>₹284</td>\n",
       "      <td>Original Luxury Branded Fashionable Men's Casu...</td>\n",
       "    </tr>\n",
       "    <tr>\n",
       "      <th>98</th>\n",
       "      <td>BRUTON</td>\n",
       "      <td>₹269</td>\n",
       "      <td>Series 7 Sneakers For Men</td>\n",
       "    </tr>\n",
       "    <tr>\n",
       "      <th>99</th>\n",
       "      <td>Kirjak</td>\n",
       "      <td>₹490</td>\n",
       "      <td>STYLISH MENS WHITE AND RED TRENDY SNEAKER FOR ...</td>\n",
       "    </tr>\n",
       "  </tbody>\n",
       "</table>\n",
       "<p>100 rows × 3 columns</p>\n",
       "</div>"
      ],
      "text/plain": [
       "    Brand_name P_price                                            Pr_desc\n",
       "0        BIRDE    ₹299  Stylish Comfortable Lightweight, Breathable Wa...\n",
       "1     Magnolia    ₹374                                   Sneakers For Men\n",
       "2       Layasa    ₹399                                   Sneakers For Men\n",
       "3       Chevit    ₹254  494 Perfect Sports Shoes for Running Training ...\n",
       "4       BRUTON    ₹199  Lightweight Pack Of 1 Trendy Sneakers Sneakers...\n",
       "..         ...     ...                                                ...\n",
       "95      Chevit    ₹549  Stylish Comfortable Lightweight, Breathable Ca...\n",
       "96    KWIK FIT    ₹397                                   Sneakers For Men\n",
       "97  D-SNEAKERZ    ₹284  Original Luxury Branded Fashionable Men's Casu...\n",
       "98      BRUTON    ₹269                          Series 7 Sneakers For Men\n",
       "99      Kirjak    ₹490  STYLISH MENS WHITE AND RED TRENDY SNEAKER FOR ...\n",
       "\n",
       "[100 rows x 3 columns]"
      ]
     },
     "execution_count": 133,
     "metadata": {},
     "output_type": "execute_result"
    }
   ],
   "source": [
    "sneakers"
   ]
  },
  {
   "cell_type": "markdown",
   "id": "8fa8fa83",
   "metadata": {},
   "source": [
    "<b> Q9: Write a python program to scrape data for first 10 job results for Data Scientist Designation in Noida location. You have to scrape company name, No. of days ago when job was posted, Rating of the company."
   ]
  },
  {
   "cell_type": "code",
   "execution_count": 134,
   "id": "e3f0fff3",
   "metadata": {},
   "outputs": [],
   "source": [
    "# Lets now import all the required libraries\n",
    "import selenium\n",
    "import pandas as pd\n",
    "from selenium import webdriver\n",
    "import warnings\n",
    "warnings.filterwarnings(\"ignore\")\n",
    "import time"
   ]
  },
  {
   "cell_type": "code",
   "execution_count": 135,
   "id": "bb6945ac",
   "metadata": {},
   "outputs": [],
   "source": [
    "# let's first connect to the web driver\n",
    "driver = webdriver.Chrome(r\"C:\\web driver\\chromedriver.exe\")"
   ]
  },
  {
   "cell_type": "code",
   "execution_count": 136,
   "id": "d078d609",
   "metadata": {},
   "outputs": [],
   "source": [
    "driver=webdriver.Chrome(\"chromedriver.exe\")\n",
    "time.sleep(2)"
   ]
  },
  {
   "cell_type": "code",
   "execution_count": 137,
   "id": "69056726",
   "metadata": {},
   "outputs": [],
   "source": [
    "driver.get('https://www.ambitionbox.com/')"
   ]
  },
  {
   "cell_type": "code",
   "execution_count": 138,
   "id": "3fe2c8d2",
   "metadata": {},
   "outputs": [
    {
     "data": {
      "text/plain": [
       "<selenium.webdriver.remote.webelement.WebElement (session=\"070b64ab44eeffac5b0441c485be0003\", element=\"1211ed57-c9ff-4651-a4c6-4576539607c6\")>"
      ]
     },
     "execution_count": 138,
     "metadata": {},
     "output_type": "execute_result"
    }
   ],
   "source": [
    "# Finding element for job search bar\n",
    "search_g= driver.find_element_by_xpath(\"//a[@class='link jobs']\") \n",
    "search_g"
   ]
  },
  {
   "cell_type": "code",
   "execution_count": 139,
   "id": "16fcf283",
   "metadata": {},
   "outputs": [],
   "source": [
    "# write on search bar\n",
    "search_g.send_keys('jobs')"
   ]
  },
  {
   "cell_type": "code",
   "execution_count": 140,
   "id": "2b8bacfd",
   "metadata": {},
   "outputs": [],
   "source": [
    "search_button=driver.find_element_by_xpath(\"/html/body/div[1]/nav/nav/a[6]\")\n",
    "search_button.click()"
   ]
  },
  {
   "cell_type": "code",
   "execution_count": 142,
   "id": "d225f102",
   "metadata": {},
   "outputs": [],
   "source": [
    "search_field_designation=driver.find_element_by_xpath(\"/html/body/div/div/div/div[2]/div[1]/div[1]/div/div/div/div/span/input\") #job search bar"
   ]
  },
  {
   "cell_type": "code",
   "execution_count": 143,
   "id": "3b05eac2",
   "metadata": {},
   "outputs": [
    {
     "data": {
      "text/plain": [
       "<selenium.webdriver.remote.webelement.WebElement (session=\"070b64ab44eeffac5b0441c485be0003\", element=\"c6a86619-008c-4811-8815-6f4d492dea3a\")>"
      ]
     },
     "execution_count": 143,
     "metadata": {},
     "output_type": "execute_result"
    }
   ],
   "source": [
    "search_field_designation"
   ]
  },
  {
   "cell_type": "code",
   "execution_count": 144,
   "id": "c226a33b",
   "metadata": {},
   "outputs": [],
   "source": [
    "search_field_designation.send_keys(\"Data Scientist\")"
   ]
  },
  {
   "cell_type": "code",
   "execution_count": 145,
   "id": "b0281863",
   "metadata": {},
   "outputs": [],
   "source": [
    "search_button=driver.find_element_by_xpath(\"/html/body/div/div/div/div[2]/div[1]/div[1]/div/div/div/button/span\")\n",
    "search_button.click()"
   ]
  },
  {
   "cell_type": "code",
   "execution_count": 146,
   "id": "815f2ebd",
   "metadata": {},
   "outputs": [],
   "source": [
    "search_button=driver.find_element_by_xpath('/html/body/div/div/div/div[2]/div[1]/div[2]/div[1]/div/div/div/div[2]/div[1]/i')\n",
    "search_button.click()"
   ]
  },
  {
   "cell_type": "code",
   "execution_count": 147,
   "id": "8c29e3d7",
   "metadata": {},
   "outputs": [
    {
     "data": {
      "text/plain": [
       "<selenium.webdriver.remote.webelement.WebElement (session=\"070b64ab44eeffac5b0441c485be0003\", element=\"56fb9c4b-a88e-46e9-9c2d-bce51945369e\")>"
      ]
     },
     "execution_count": 147,
     "metadata": {},
     "output_type": "execute_result"
    }
   ],
   "source": [
    "\n",
    "select_button=driver.find_element_by_xpath(\"//label[@class='radio-label']\")\n",
    "select_button"
   ]
  },
  {
   "cell_type": "code",
   "execution_count": 148,
   "id": "391781dd",
   "metadata": {},
   "outputs": [],
   "source": [
    "job_titles=[]\n",
    "company_names=[]\n",
    "locations_list=[]\n",
    "experience_list=[]"
   ]
  },
  {
   "cell_type": "code",
   "execution_count": 149,
   "id": "97b2b456",
   "metadata": {},
   "outputs": [
    {
     "data": {
      "text/plain": [
       "[<selenium.webdriver.remote.webelement.WebElement (session=\"070b64ab44eeffac5b0441c485be0003\", element=\"500ff8e6-7d9e-4bb8-863b-2af4e116b676\")>,\n",
       " <selenium.webdriver.remote.webelement.WebElement (session=\"070b64ab44eeffac5b0441c485be0003\", element=\"f9e8467e-c82c-42cb-83be-998db257def3\")>,\n",
       " <selenium.webdriver.remote.webelement.WebElement (session=\"070b64ab44eeffac5b0441c485be0003\", element=\"2b8a9b38-332f-4ffe-8ea8-98cafdb744c6\")>,\n",
       " <selenium.webdriver.remote.webelement.WebElement (session=\"070b64ab44eeffac5b0441c485be0003\", element=\"e8905dc3-70af-4b48-8b36-da030d97db21\")>,\n",
       " <selenium.webdriver.remote.webelement.WebElement (session=\"070b64ab44eeffac5b0441c485be0003\", element=\"47d93c25-8606-48db-986e-f16300136894\")>,\n",
       " <selenium.webdriver.remote.webelement.WebElement (session=\"070b64ab44eeffac5b0441c485be0003\", element=\"58dec6ff-f143-425e-b425-75ffdd18d92e\")>,\n",
       " <selenium.webdriver.remote.webelement.WebElement (session=\"070b64ab44eeffac5b0441c485be0003\", element=\"0757eb53-b624-4cb4-bd80-e067cbad6c55\")>,\n",
       " <selenium.webdriver.remote.webelement.WebElement (session=\"070b64ab44eeffac5b0441c485be0003\", element=\"3524a0fd-8cb8-4a51-a209-da75c91980a8\")>,\n",
       " <selenium.webdriver.remote.webelement.WebElement (session=\"070b64ab44eeffac5b0441c485be0003\", element=\"5f59f3e7-dfcb-4345-8e9f-ffea748c6f4f\")>,\n",
       " <selenium.webdriver.remote.webelement.WebElement (session=\"070b64ab44eeffac5b0441c485be0003\", element=\"7f01cb2a-a2b2-445e-a0e8-a9efbdc4cb86\")>]"
      ]
     },
     "execution_count": 149,
     "metadata": {},
     "output_type": "execute_result"
    }
   ],
   "source": [
    "# So lets extract all the tags having the job-titles\n",
    "titles_tags=driver.find_elements_by_xpath(\"//a[@class='title noclick']\")\n",
    "titles_tags[0:10]"
   ]
  },
  {
   "cell_type": "code",
   "execution_count": 150,
   "id": "d15e3556",
   "metadata": {},
   "outputs": [
    {
     "data": {
      "text/plain": [
       "['Applied Data Scientist / ML Senior Engineer (Python / SQL)',\n",
       " 'Principal Data Scientist',\n",
       " 'Senior Data Scientist',\n",
       " 'Senior Data Scientist',\n",
       " 'Sr Applied Data Scientist',\n",
       " 'Sr Applied Data Scientist',\n",
       " 'Applied Data Scientist',\n",
       " 'Data Scientist',\n",
       " 'AVP / VP Data Scientist (Model Validation)',\n",
       " 'Senior Data Scientist']"
      ]
     },
     "execution_count": 150,
     "metadata": {},
     "output_type": "execute_result"
    }
   ],
   "source": [
    "for i in titles_tags:\n",
    "    title=i.text\n",
    "    job_titles.append(title)\n",
    "job_titles[0:10]"
   ]
  },
  {
   "cell_type": "code",
   "execution_count": 151,
   "id": "0ee07ac7",
   "metadata": {},
   "outputs": [
    {
     "data": {
      "text/plain": [
       "[<selenium.webdriver.remote.webelement.WebElement (session=\"070b64ab44eeffac5b0441c485be0003\", element=\"757e0ca1-8737-4550-8028-8af7c9ea20c1\")>,\n",
       " <selenium.webdriver.remote.webelement.WebElement (session=\"070b64ab44eeffac5b0441c485be0003\", element=\"39a4f03c-7c82-4882-b234-af80031ae979\")>,\n",
       " <selenium.webdriver.remote.webelement.WebElement (session=\"070b64ab44eeffac5b0441c485be0003\", element=\"12b54757-8023-490a-85dd-85d4a78d21ae\")>,\n",
       " <selenium.webdriver.remote.webelement.WebElement (session=\"070b64ab44eeffac5b0441c485be0003\", element=\"6211856e-0b0b-47fc-ac10-709cd7393692\")>,\n",
       " <selenium.webdriver.remote.webelement.WebElement (session=\"070b64ab44eeffac5b0441c485be0003\", element=\"78cfb2bc-712e-4e28-94e2-43bb83150d51\")>,\n",
       " <selenium.webdriver.remote.webelement.WebElement (session=\"070b64ab44eeffac5b0441c485be0003\", element=\"b0ae2b2c-0d97-4ed8-a92d-55050d40d865\")>,\n",
       " <selenium.webdriver.remote.webelement.WebElement (session=\"070b64ab44eeffac5b0441c485be0003\", element=\"9c3025fb-68e6-4fe8-a9ae-1434b3d00656\")>,\n",
       " <selenium.webdriver.remote.webelement.WebElement (session=\"070b64ab44eeffac5b0441c485be0003\", element=\"9be9fbd2-545f-4334-b886-47abe01e57a0\")>,\n",
       " <selenium.webdriver.remote.webelement.WebElement (session=\"070b64ab44eeffac5b0441c485be0003\", element=\"408f6323-43f1-4bdb-8839-bc92ae03e2f9\")>,\n",
       " <selenium.webdriver.remote.webelement.WebElement (session=\"070b64ab44eeffac5b0441c485be0003\", element=\"e0a5a723-8f14-46b7-ab9c-b789dd955b81\")>]"
      ]
     },
     "execution_count": 151,
     "metadata": {},
     "output_type": "execute_result"
    }
   ],
   "source": [
    "# So lets extract all the tags having the company names\n",
    "companies_tags=driver.find_elements_by_xpath(\"//p[@class='company body-medium']\")\n",
    "companies_tags[0:10]"
   ]
  },
  {
   "cell_type": "code",
   "execution_count": 152,
   "id": "67289900",
   "metadata": {},
   "outputs": [
    {
     "data": {
      "text/plain": [
       "['SAP India Pvt.Ltd',\n",
       " 'Sanofi India Ltd',\n",
       " 'Walmart Labs',\n",
       " 'Walmart Labs',\n",
       " 'Tesco Bengaluru',\n",
       " 'Tesco Bengaluru',\n",
       " 'Tesco Bengaluru',\n",
       " 'GENPACT India Private Limited',\n",
       " 'J.P. Morgan Services India Private Limited',\n",
       " 'Dell International Services India Private Limited']"
      ]
     },
     "execution_count": 152,
     "metadata": {},
     "output_type": "execute_result"
    }
   ],
   "source": [
    "for i in companies_tags:\n",
    "    company_name=i.text\n",
    "    company_names.append(company_name)\n",
    "company_names[0:10]"
   ]
  },
  {
   "cell_type": "code",
   "execution_count": 153,
   "id": "11cb38db",
   "metadata": {},
   "outputs": [
    {
     "data": {
      "text/plain": [
       "[<selenium.webdriver.remote.webelement.WebElement (session=\"070b64ab44eeffac5b0441c485be0003\", element=\"6c617bc2-da24-4465-a6b7-7101ff4eb4ac\")>,\n",
       " <selenium.webdriver.remote.webelement.WebElement (session=\"070b64ab44eeffac5b0441c485be0003\", element=\"b8979762-e858-4def-8b38-36ae5f5856e0\")>,\n",
       " <selenium.webdriver.remote.webelement.WebElement (session=\"070b64ab44eeffac5b0441c485be0003\", element=\"db4c02b2-7894-443d-ab99-bbb38a3a05ff\")>,\n",
       " <selenium.webdriver.remote.webelement.WebElement (session=\"070b64ab44eeffac5b0441c485be0003\", element=\"b1b6de80-74ad-4926-9094-71cf3a4d929b\")>,\n",
       " <selenium.webdriver.remote.webelement.WebElement (session=\"070b64ab44eeffac5b0441c485be0003\", element=\"9a4472ba-dd39-4d35-b2fe-c0fa6951e9e6\")>,\n",
       " <selenium.webdriver.remote.webelement.WebElement (session=\"070b64ab44eeffac5b0441c485be0003\", element=\"6d873668-92f0-4411-978e-880ddd7d9930\")>,\n",
       " <selenium.webdriver.remote.webelement.WebElement (session=\"070b64ab44eeffac5b0441c485be0003\", element=\"1eb3dc80-eabe-466c-a92f-fb7db40f2546\")>,\n",
       " <selenium.webdriver.remote.webelement.WebElement (session=\"070b64ab44eeffac5b0441c485be0003\", element=\"4c11ce7d-8e0b-4386-abfb-f7eb31cb113c\")>,\n",
       " <selenium.webdriver.remote.webelement.WebElement (session=\"070b64ab44eeffac5b0441c485be0003\", element=\"24c7cbce-81fe-4e24-8cc4-e965dc6df0e8\")>,\n",
       " <selenium.webdriver.remote.webelement.WebElement (session=\"070b64ab44eeffac5b0441c485be0003\", element=\"2e4e0f77-aa67-4ab2-85f1-5605a7faf9ae\")>]"
      ]
     },
     "execution_count": 153,
     "metadata": {},
     "output_type": "execute_result"
    }
   ],
   "source": [
    "\n",
    "# so lets extract all the tags having the experience required data\n",
    "\n",
    "experience_tags=driver.find_elements_by_xpath(\"//p[@class='body-small-l']\")\n",
    "experience_tags[0:10]"
   ]
  },
  {
   "cell_type": "code",
   "execution_count": 154,
   "id": "dd0a7d91",
   "metadata": {},
   "outputs": [
    {
     "data": {
      "text/plain": [
       "['5-10 years',\n",
       " 'Not Disclosed',\n",
       " 'Bengaluru/Bangalore',\n",
       " '5-10 Yrs',\n",
       " 'Not Disclosed',\n",
       " 'Bengaluru/Bangalore',\n",
       " 'SQL, Agile, Analytics +7 more',\n",
       " '5-8 Yrs',\n",
       " 'Not Disclosed',\n",
       " 'Hyderabad/Secunderabad']"
      ]
     },
     "execution_count": 154,
     "metadata": {},
     "output_type": "execute_result"
    }
   ],
   "source": [
    "for i in experience_tags:\n",
    "    experience=i.text\n",
    "    experience_list.append(experience)\n",
    "experience_list[0:10]"
   ]
  },
  {
   "cell_type": "code",
   "execution_count": 155,
   "id": "04b78cf4",
   "metadata": {},
   "outputs": [],
   "source": [
    "#Import pandas as pd\n",
    "jobs=pd.DataFrame({})\n",
    "jobs['title']=job_titles[:10]\n",
    "jobs['company']=company_names[:10]\n",
    "jobs['experience_required']=experience_list[:10]"
   ]
  },
  {
   "cell_type": "code",
   "execution_count": 156,
   "id": "98400b4e",
   "metadata": {},
   "outputs": [
    {
     "data": {
      "text/html": [
       "<div>\n",
       "<style scoped>\n",
       "    .dataframe tbody tr th:only-of-type {\n",
       "        vertical-align: middle;\n",
       "    }\n",
       "\n",
       "    .dataframe tbody tr th {\n",
       "        vertical-align: top;\n",
       "    }\n",
       "\n",
       "    .dataframe thead th {\n",
       "        text-align: right;\n",
       "    }\n",
       "</style>\n",
       "<table border=\"1\" class=\"dataframe\">\n",
       "  <thead>\n",
       "    <tr style=\"text-align: right;\">\n",
       "      <th></th>\n",
       "      <th>title</th>\n",
       "      <th>company</th>\n",
       "      <th>experience_required</th>\n",
       "    </tr>\n",
       "  </thead>\n",
       "  <tbody>\n",
       "    <tr>\n",
       "      <th>0</th>\n",
       "      <td>Applied Data Scientist / ML Senior Engineer (P...</td>\n",
       "      <td>SAP India Pvt.Ltd</td>\n",
       "      <td>5-10 years</td>\n",
       "    </tr>\n",
       "    <tr>\n",
       "      <th>1</th>\n",
       "      <td>Principal Data Scientist</td>\n",
       "      <td>Sanofi India Ltd</td>\n",
       "      <td>Not Disclosed</td>\n",
       "    </tr>\n",
       "    <tr>\n",
       "      <th>2</th>\n",
       "      <td>Senior Data Scientist</td>\n",
       "      <td>Walmart Labs</td>\n",
       "      <td>Bengaluru/Bangalore</td>\n",
       "    </tr>\n",
       "    <tr>\n",
       "      <th>3</th>\n",
       "      <td>Senior Data Scientist</td>\n",
       "      <td>Walmart Labs</td>\n",
       "      <td>5-10 Yrs</td>\n",
       "    </tr>\n",
       "    <tr>\n",
       "      <th>4</th>\n",
       "      <td>Sr Applied Data Scientist</td>\n",
       "      <td>Tesco Bengaluru</td>\n",
       "      <td>Not Disclosed</td>\n",
       "    </tr>\n",
       "    <tr>\n",
       "      <th>5</th>\n",
       "      <td>Sr Applied Data Scientist</td>\n",
       "      <td>Tesco Bengaluru</td>\n",
       "      <td>Bengaluru/Bangalore</td>\n",
       "    </tr>\n",
       "    <tr>\n",
       "      <th>6</th>\n",
       "      <td>Applied Data Scientist</td>\n",
       "      <td>Tesco Bengaluru</td>\n",
       "      <td>SQL, Agile, Analytics +7 more</td>\n",
       "    </tr>\n",
       "    <tr>\n",
       "      <th>7</th>\n",
       "      <td>Data Scientist</td>\n",
       "      <td>GENPACT India Private Limited</td>\n",
       "      <td>5-8 Yrs</td>\n",
       "    </tr>\n",
       "    <tr>\n",
       "      <th>8</th>\n",
       "      <td>AVP / VP Data Scientist (Model Validation)</td>\n",
       "      <td>J.P. Morgan Services India Private Limited</td>\n",
       "      <td>Not Disclosed</td>\n",
       "    </tr>\n",
       "    <tr>\n",
       "      <th>9</th>\n",
       "      <td>Senior Data Scientist</td>\n",
       "      <td>Dell International Services India Private Limited</td>\n",
       "      <td>Hyderabad/Secunderabad</td>\n",
       "    </tr>\n",
       "  </tbody>\n",
       "</table>\n",
       "</div>"
      ],
      "text/plain": [
       "                                               title  \\\n",
       "0  Applied Data Scientist / ML Senior Engineer (P...   \n",
       "1                           Principal Data Scientist   \n",
       "2                              Senior Data Scientist   \n",
       "3                              Senior Data Scientist   \n",
       "4                          Sr Applied Data Scientist   \n",
       "5                          Sr Applied Data Scientist   \n",
       "6                             Applied Data Scientist   \n",
       "7                                     Data Scientist   \n",
       "8         AVP / VP Data Scientist (Model Validation)   \n",
       "9                              Senior Data Scientist   \n",
       "\n",
       "                                             company  \\\n",
       "0                                  SAP India Pvt.Ltd   \n",
       "1                                   Sanofi India Ltd   \n",
       "2                                       Walmart Labs   \n",
       "3                                       Walmart Labs   \n",
       "4                                    Tesco Bengaluru   \n",
       "5                                    Tesco Bengaluru   \n",
       "6                                    Tesco Bengaluru   \n",
       "7                      GENPACT India Private Limited   \n",
       "8         J.P. Morgan Services India Private Limited   \n",
       "9  Dell International Services India Private Limited   \n",
       "\n",
       "             experience_required  \n",
       "0                     5-10 years  \n",
       "1                  Not Disclosed  \n",
       "2            Bengaluru/Bangalore  \n",
       "3                       5-10 Yrs  \n",
       "4                  Not Disclosed  \n",
       "5            Bengaluru/Bangalore  \n",
       "6  SQL, Agile, Analytics +7 more  \n",
       "7                        5-8 Yrs  \n",
       "8                  Not Disclosed  \n",
       "9         Hyderabad/Secunderabad  "
      ]
     },
     "execution_count": 156,
     "metadata": {},
     "output_type": "execute_result"
    }
   ],
   "source": [
    "jobs"
   ]
  },
  {
   "cell_type": "markdown",
   "id": "62003cb0",
   "metadata": {},
   "source": [
    "<b> 10 Write a python program to scrape the salary data for Data Scientist designation. You have to scrape Company name, Number of salaries, Average salary, Minsalary, Max Salary."
   ]
  },
  {
   "cell_type": "code",
   "execution_count": 157,
   "id": "44c3329e",
   "metadata": {},
   "outputs": [],
   "source": [
    "import selenium\n",
    "import pandas as pd\n",
    "from selenium import webdriver\n",
    "import warnings\n",
    "warnings.filterwarnings(\"ignore\")\n",
    "import time"
   ]
  },
  {
   "cell_type": "code",
   "execution_count": 158,
   "id": "70987283",
   "metadata": {},
   "outputs": [],
   "source": [
    "driver = webdriver.Chrome(r\"C:\\web driver\\chromedriver.exe\")\n"
   ]
  },
  {
   "cell_type": "code",
   "execution_count": 159,
   "id": "8fab1fec",
   "metadata": {},
   "outputs": [],
   "source": [
    "driver=webdriver.Chrome(\"chromedriver.exe\")\n",
    "time.sleep(2)"
   ]
  },
  {
   "cell_type": "code",
   "execution_count": 160,
   "id": "b17076df",
   "metadata": {},
   "outputs": [],
   "source": [
    "driver.get('https://www.ambitionbox.com/')"
   ]
  },
  {
   "cell_type": "code",
   "execution_count": 161,
   "id": "db1cb337",
   "metadata": {},
   "outputs": [
    {
     "data": {
      "text/plain": [
       "<selenium.webdriver.remote.webelement.WebElement (session=\"5c41f318f4627c41a5ea0d7854ab782c\", element=\"e8bc869a-12be-42b8-8afb-51db4c1d6aed\")>"
      ]
     },
     "execution_count": 161,
     "metadata": {},
     "output_type": "execute_result"
    }
   ],
   "source": [
    "search_g= driver.find_element_by_xpath(\"//a[@class='link salaries']\") \n",
    "search_g"
   ]
  },
  {
   "cell_type": "code",
   "execution_count": 162,
   "id": "b29033db",
   "metadata": {},
   "outputs": [],
   "source": [
    "search_g.send_keys('Salaries')"
   ]
  },
  {
   "cell_type": "code",
   "execution_count": 163,
   "id": "5bc03b0b",
   "metadata": {},
   "outputs": [],
   "source": [
    "search_g.click()"
   ]
  },
  {
   "cell_type": "code",
   "execution_count": 164,
   "id": "b27c63f9",
   "metadata": {},
   "outputs": [],
   "source": [
    "search_job_profile=driver.find_element_by_xpath('/html/body/div/div/div/main/section[1]/div[2]/div[1]/span/input')\n"
   ]
  },
  {
   "cell_type": "code",
   "execution_count": 165,
   "id": "5ac19253",
   "metadata": {},
   "outputs": [
    {
     "data": {
      "text/plain": [
       "<selenium.webdriver.remote.webelement.WebElement (session=\"5c41f318f4627c41a5ea0d7854ab782c\", element=\"6e840e3c-699f-4c4d-96be-adf86cbce4da\")>"
      ]
     },
     "execution_count": 165,
     "metadata": {},
     "output_type": "execute_result"
    }
   ],
   "source": [
    "search_job_profile"
   ]
  },
  {
   "cell_type": "code",
   "execution_count": 166,
   "id": "54f93668",
   "metadata": {},
   "outputs": [],
   "source": [
    "search_job_profile.send_keys(\"Data Scientist\")"
   ]
  },
  {
   "cell_type": "code",
   "execution_count": 167,
   "id": "f0916aa7",
   "metadata": {},
   "outputs": [],
   "source": [
    "search_job_profile.click()"
   ]
  },
  {
   "cell_type": "code",
   "execution_count": 168,
   "id": "5c8314d7",
   "metadata": {},
   "outputs": [
    {
     "data": {
      "text/plain": [
       "<selenium.webdriver.remote.webelement.WebElement (session=\"5c41f318f4627c41a5ea0d7854ab782c\", element=\"b9daf90a-690b-4bcc-9aa0-42d6b1bf112d\")>"
      ]
     },
     "execution_count": 168,
     "metadata": {},
     "output_type": "execute_result"
    }
   ],
   "source": [
    "select_button=driver.find_element_by_xpath(\"//p[@class='tt_text']\")\n",
    "select_button"
   ]
  },
  {
   "cell_type": "code",
   "execution_count": 169,
   "id": "23f3b642",
   "metadata": {},
   "outputs": [],
   "source": [
    "search_job_profile.click()"
   ]
  },
  {
   "cell_type": "code",
   "execution_count": 170,
   "id": "50cbeb96",
   "metadata": {},
   "outputs": [
    {
     "data": {
      "text/plain": [
       "<selenium.webdriver.remote.webelement.WebElement (session=\"5c41f318f4627c41a5ea0d7854ab782c\", element=\"6b006e46-45a9-45c0-9b6d-f887a98a17cb\")>"
      ]
     },
     "execution_count": 170,
     "metadata": {},
     "output_type": "execute_result"
    }
   ],
   "source": [
    "select_button=driver.find_element_by_xpath(\"//div[@class='suggestion_wrap tt-suggestion tt-selectable']\")\n",
    "select_button"
   ]
  },
  {
   "cell_type": "code",
   "execution_count": 171,
   "id": "d43a5387",
   "metadata": {},
   "outputs": [],
   "source": [
    "search_job_profile.click()"
   ]
  },
  {
   "cell_type": "code",
   "execution_count": 172,
   "id": "54af9cce",
   "metadata": {},
   "outputs": [],
   "source": [
    "company_name=[]\n",
    "total_salary_record=[]\n",
    "average_salary=[]\n",
    "minimum_salary=[]\n",
    "maximum_salary=[]\n",
    "experience_required=[]"
   ]
  },
  {
   "cell_type": "code",
   "execution_count": 173,
   "id": "d0d1a0fa",
   "metadata": {},
   "outputs": [
    {
     "data": {
      "text/plain": [
       "[<selenium.webdriver.remote.webelement.WebElement (session=\"5c41f318f4627c41a5ea0d7854ab782c\", element=\"87728da6-c62b-4d60-b91c-cdf38b201ac6\")>,\n",
       " <selenium.webdriver.remote.webelement.WebElement (session=\"5c41f318f4627c41a5ea0d7854ab782c\", element=\"3eb13dad-e107-4d3f-a099-9fdae82611db\")>,\n",
       " <selenium.webdriver.remote.webelement.WebElement (session=\"5c41f318f4627c41a5ea0d7854ab782c\", element=\"2b6777fc-ce84-47ff-8d0a-47291ff9c8a4\")>,\n",
       " <selenium.webdriver.remote.webelement.WebElement (session=\"5c41f318f4627c41a5ea0d7854ab782c\", element=\"4d59cb77-0f5e-421b-aba2-e9fe94c7e2f2\")>,\n",
       " <selenium.webdriver.remote.webelement.WebElement (session=\"5c41f318f4627c41a5ea0d7854ab782c\", element=\"610e1ac9-1e1a-4917-9db7-0f303c1fa4a7\")>,\n",
       " <selenium.webdriver.remote.webelement.WebElement (session=\"5c41f318f4627c41a5ea0d7854ab782c\", element=\"4b53749d-95b6-4abc-8b8e-aa41250a1441\")>,\n",
       " <selenium.webdriver.remote.webelement.WebElement (session=\"5c41f318f4627c41a5ea0d7854ab782c\", element=\"cc6c96fb-2c5f-4c05-9797-84f93239f150\")>,\n",
       " <selenium.webdriver.remote.webelement.WebElement (session=\"5c41f318f4627c41a5ea0d7854ab782c\", element=\"5e5d9cfe-b290-44ad-b1de-918be587a52f\")>,\n",
       " <selenium.webdriver.remote.webelement.WebElement (session=\"5c41f318f4627c41a5ea0d7854ab782c\", element=\"9bae56f9-dfd8-4e45-b3c4-617d6e67f774\")>,\n",
       " <selenium.webdriver.remote.webelement.WebElement (session=\"5c41f318f4627c41a5ea0d7854ab782c\", element=\"6884cb1c-b19d-4363-b5d5-e3770aa4434e\")>]"
      ]
     },
     "execution_count": 173,
     "metadata": {},
     "output_type": "execute_result"
    }
   ],
   "source": [
    "companies_tags=driver.find_elements_by_xpath(\"//div[@class='name']\")\n",
    "companies_tags[0:10]"
   ]
  },
  {
   "cell_type": "code",
   "execution_count": 174,
   "id": "27a220d3",
   "metadata": {},
   "outputs": [
    {
     "ename": "AttributeError",
     "evalue": "'str' object has no attribute 'append'",
     "output_type": "error",
     "traceback": [
      "\u001b[1;31m---------------------------------------------------------------------------\u001b[0m",
      "\u001b[1;31mAttributeError\u001b[0m                            Traceback (most recent call last)",
      "\u001b[1;32m~\\AppData\\Local\\Temp/ipykernel_2196/1597942615.py\u001b[0m in \u001b[0;36m<module>\u001b[1;34m\u001b[0m\n\u001b[0;32m      1\u001b[0m \u001b[1;32mfor\u001b[0m \u001b[0mi\u001b[0m \u001b[1;32min\u001b[0m \u001b[0mcompanies_tags\u001b[0m\u001b[1;33m:\u001b[0m\u001b[1;33m\u001b[0m\u001b[1;33m\u001b[0m\u001b[0m\n\u001b[0;32m      2\u001b[0m     \u001b[0mcompany_names\u001b[0m\u001b[1;33m=\u001b[0m\u001b[0mi\u001b[0m\u001b[1;33m.\u001b[0m\u001b[0mtext\u001b[0m\u001b[1;33m\u001b[0m\u001b[1;33m\u001b[0m\u001b[0m\n\u001b[1;32m----> 3\u001b[1;33m     \u001b[0mcompany_names\u001b[0m\u001b[1;33m.\u001b[0m\u001b[0mappend\u001b[0m\u001b[1;33m(\u001b[0m\u001b[0mcompany_name\u001b[0m\u001b[1;33m)\u001b[0m\u001b[1;33m\u001b[0m\u001b[1;33m\u001b[0m\u001b[0m\n\u001b[0m\u001b[0;32m      4\u001b[0m \u001b[0mcompany_names\u001b[0m\u001b[1;33m[\u001b[0m\u001b[1;36m0\u001b[0m\u001b[1;33m:\u001b[0m\u001b[1;36m10\u001b[0m\u001b[1;33m]\u001b[0m\u001b[1;33m\u001b[0m\u001b[1;33m\u001b[0m\u001b[0m\n",
      "\u001b[1;31mAttributeError\u001b[0m: 'str' object has no attribute 'append'"
     ]
    }
   ],
   "source": [
    "for i in companies_tags:\n",
    "    company_names=i.text\n",
    "    company_names.append(company_name)\n",
    "company_names[0:10]"
   ]
  },
  {
   "cell_type": "code",
   "execution_count": 175,
   "id": "6a0cf409",
   "metadata": {},
   "outputs": [
    {
     "data": {
      "text/plain": [
       "[<selenium.webdriver.remote.webelement.WebElement (session=\"5c41f318f4627c41a5ea0d7854ab782c\", element=\"11e9d0da-70f7-4bcc-a57f-824af603c834\")>,\n",
       " <selenium.webdriver.remote.webelement.WebElement (session=\"5c41f318f4627c41a5ea0d7854ab782c\", element=\"2147967b-6976-4cff-a97f-d64be7c0ecf2\")>,\n",
       " <selenium.webdriver.remote.webelement.WebElement (session=\"5c41f318f4627c41a5ea0d7854ab782c\", element=\"fd9ae025-333d-48c4-ba18-e96e3487a54f\")>,\n",
       " <selenium.webdriver.remote.webelement.WebElement (session=\"5c41f318f4627c41a5ea0d7854ab782c\", element=\"36937a0c-a229-405d-b666-9def171f2d3d\")>,\n",
       " <selenium.webdriver.remote.webelement.WebElement (session=\"5c41f318f4627c41a5ea0d7854ab782c\", element=\"d752b78e-4fa4-431a-a5ab-9834606e58d1\")>,\n",
       " <selenium.webdriver.remote.webelement.WebElement (session=\"5c41f318f4627c41a5ea0d7854ab782c\", element=\"d4ad3eaf-cded-4361-901a-a40caf3428c5\")>,\n",
       " <selenium.webdriver.remote.webelement.WebElement (session=\"5c41f318f4627c41a5ea0d7854ab782c\", element=\"cfbde5a3-6d29-4aa2-8bdc-a78280c76693\")>,\n",
       " <selenium.webdriver.remote.webelement.WebElement (session=\"5c41f318f4627c41a5ea0d7854ab782c\", element=\"84ebe6eb-f56c-4c32-a351-f0316d99baba\")>,\n",
       " <selenium.webdriver.remote.webelement.WebElement (session=\"5c41f318f4627c41a5ea0d7854ab782c\", element=\"fec8171a-afab-4bc1-ace6-2753b2861d40\")>,\n",
       " <selenium.webdriver.remote.webelement.WebElement (session=\"5c41f318f4627c41a5ea0d7854ab782c\", element=\"639ad484-b41a-4e1b-9280-981bed748268\")>]"
      ]
     },
     "execution_count": 175,
     "metadata": {},
     "output_type": "execute_result"
    }
   ],
   "source": [
    "salary_tags=driver.find_elements_by_xpath(\"//p[@class='averageCtc']\")\n",
    "salary_tags[0:10]"
   ]
  },
  {
   "cell_type": "code",
   "execution_count": 176,
   "id": "470249b3",
   "metadata": {},
   "outputs": [
    {
     "data": {
      "text/plain": [
       "['₹ 31.8L',\n",
       " '₹ 23.9L',\n",
       " '₹ 23.0L',\n",
       " '₹ 21.1L',\n",
       " '₹ 20.9L',\n",
       " '₹ 20.6L',\n",
       " '₹ 20.4L',\n",
       " '₹ 20.1L',\n",
       " '₹ 19.9L',\n",
       " '₹ 19.3L']"
      ]
     },
     "execution_count": 176,
     "metadata": {},
     "output_type": "execute_result"
    }
   ],
   "source": [
    "for i in salary_tags :\n",
    "    salary=i.text\n",
    "    total_salary_record.append(salary)\n",
    "total_salary_record[0:10]"
   ]
  },
  {
   "cell_type": "code",
   "execution_count": 177,
   "id": "6b2b5670",
   "metadata": {},
   "outputs": [
    {
     "data": {
      "text/plain": [
       "[<selenium.webdriver.remote.webelement.WebElement (session=\"5c41f318f4627c41a5ea0d7854ab782c\", element=\"31291598-38d5-43f2-a80e-c0de8c4c5c62\")>,\n",
       " <selenium.webdriver.remote.webelement.WebElement (session=\"5c41f318f4627c41a5ea0d7854ab782c\", element=\"be12daf9-5019-44fd-ba9e-cb9426cd2159\")>,\n",
       " <selenium.webdriver.remote.webelement.WebElement (session=\"5c41f318f4627c41a5ea0d7854ab782c\", element=\"dd90a17a-2efd-4e50-98b7-837a2e7b2b18\")>,\n",
       " <selenium.webdriver.remote.webelement.WebElement (session=\"5c41f318f4627c41a5ea0d7854ab782c\", element=\"1156b063-9d69-45d4-b97b-ac059d0b56c0\")>,\n",
       " <selenium.webdriver.remote.webelement.WebElement (session=\"5c41f318f4627c41a5ea0d7854ab782c\", element=\"cf837c14-6b64-4edc-bebf-4561ef57bedd\")>,\n",
       " <selenium.webdriver.remote.webelement.WebElement (session=\"5c41f318f4627c41a5ea0d7854ab782c\", element=\"addc6b9b-3ddb-46d1-a7fb-e6b8a5fa7b85\")>,\n",
       " <selenium.webdriver.remote.webelement.WebElement (session=\"5c41f318f4627c41a5ea0d7854ab782c\", element=\"f15b94e7-8f82-4068-a65d-a86e8448b23b\")>,\n",
       " <selenium.webdriver.remote.webelement.WebElement (session=\"5c41f318f4627c41a5ea0d7854ab782c\", element=\"1824ae99-e09b-4a44-8362-ff73c622f89c\")>,\n",
       " <selenium.webdriver.remote.webelement.WebElement (session=\"5c41f318f4627c41a5ea0d7854ab782c\", element=\"641406a2-6a04-4e07-9032-370e070ce5fe\")>,\n",
       " <selenium.webdriver.remote.webelement.WebElement (session=\"5c41f318f4627c41a5ea0d7854ab782c\", element=\"074f40c0-d259-4639-b59a-9679832c112d\")>]"
      ]
     },
     "execution_count": 177,
     "metadata": {},
     "output_type": "execute_result"
    }
   ],
   "source": [
    "salary_tags=driver.find_elements_by_xpath(\"//div[@class='value body-medium']\")\n",
    "salary_tags[0:10]"
   ]
  },
  {
   "cell_type": "code",
   "execution_count": 178,
   "id": "f4f35350",
   "metadata": {},
   "outputs": [
    {
     "data": {
      "text/plain": [
       "['₹ 11.0L',\n",
       " '₹ 65.0L',\n",
       " '₹ 13.0L',\n",
       " '₹ 45.0L',\n",
       " '₹ 12.0L',\n",
       " '₹ 34.0L',\n",
       " '₹ 12.0L',\n",
       " '₹ 33.0L',\n",
       " '₹ 8.0L',\n",
       " '₹ 45.0L']"
      ]
     },
     "execution_count": 178,
     "metadata": {},
     "output_type": "execute_result"
    }
   ],
   "source": [
    "for i in salary_tags :\n",
    "    salary=i.text\n",
    "    minimum_salary.append(salary)\n",
    "minimum_salary[0:10]"
   ]
  },
  {
   "cell_type": "code",
   "execution_count": 179,
   "id": "6d45137f",
   "metadata": {},
   "outputs": [
    {
     "data": {
      "text/plain": [
       "[<selenium.webdriver.remote.webelement.WebElement (session=\"5c41f318f4627c41a5ea0d7854ab782c\", element=\"31291598-38d5-43f2-a80e-c0de8c4c5c62\")>,\n",
       " <selenium.webdriver.remote.webelement.WebElement (session=\"5c41f318f4627c41a5ea0d7854ab782c\", element=\"be12daf9-5019-44fd-ba9e-cb9426cd2159\")>,\n",
       " <selenium.webdriver.remote.webelement.WebElement (session=\"5c41f318f4627c41a5ea0d7854ab782c\", element=\"dd90a17a-2efd-4e50-98b7-837a2e7b2b18\")>,\n",
       " <selenium.webdriver.remote.webelement.WebElement (session=\"5c41f318f4627c41a5ea0d7854ab782c\", element=\"1156b063-9d69-45d4-b97b-ac059d0b56c0\")>,\n",
       " <selenium.webdriver.remote.webelement.WebElement (session=\"5c41f318f4627c41a5ea0d7854ab782c\", element=\"cf837c14-6b64-4edc-bebf-4561ef57bedd\")>,\n",
       " <selenium.webdriver.remote.webelement.WebElement (session=\"5c41f318f4627c41a5ea0d7854ab782c\", element=\"addc6b9b-3ddb-46d1-a7fb-e6b8a5fa7b85\")>,\n",
       " <selenium.webdriver.remote.webelement.WebElement (session=\"5c41f318f4627c41a5ea0d7854ab782c\", element=\"f15b94e7-8f82-4068-a65d-a86e8448b23b\")>,\n",
       " <selenium.webdriver.remote.webelement.WebElement (session=\"5c41f318f4627c41a5ea0d7854ab782c\", element=\"1824ae99-e09b-4a44-8362-ff73c622f89c\")>,\n",
       " <selenium.webdriver.remote.webelement.WebElement (session=\"5c41f318f4627c41a5ea0d7854ab782c\", element=\"641406a2-6a04-4e07-9032-370e070ce5fe\")>,\n",
       " <selenium.webdriver.remote.webelement.WebElement (session=\"5c41f318f4627c41a5ea0d7854ab782c\", element=\"074f40c0-d259-4639-b59a-9679832c112d\")>]"
      ]
     },
     "execution_count": 179,
     "metadata": {},
     "output_type": "execute_result"
    }
   ],
   "source": [
    "salary_tags=driver.find_elements_by_xpath(\"//div[@class='value body-medium']\")\n",
    "salary_tags[0:10]"
   ]
  },
  {
   "cell_type": "code",
   "execution_count": 180,
   "id": "139d86a2",
   "metadata": {},
   "outputs": [
    {
     "data": {
      "text/plain": [
       "['₹ 11.0L',\n",
       " '₹ 65.0L',\n",
       " '₹ 13.0L',\n",
       " '₹ 45.0L',\n",
       " '₹ 12.0L',\n",
       " '₹ 34.0L',\n",
       " '₹ 12.0L',\n",
       " '₹ 33.0L',\n",
       " '₹ 8.0L',\n",
       " '₹ 45.0L']"
      ]
     },
     "execution_count": 180,
     "metadata": {},
     "output_type": "execute_result"
    }
   ],
   "source": [
    "for i in salary_tags :\n",
    "    salary=i.text\n",
    "    maximum_salary.append(salary)\n",
    "maximum_salary[0:10]"
   ]
  },
  {
   "cell_type": "code",
   "execution_count": 181,
   "id": "8db012d5",
   "metadata": {},
   "outputs": [
    {
     "data": {
      "text/plain": [
       "[<selenium.webdriver.remote.webelement.WebElement (session=\"5c41f318f4627c41a5ea0d7854ab782c\", element=\"cee787c8-0913-4112-9f0b-90d96b382083\")>,\n",
       " <selenium.webdriver.remote.webelement.WebElement (session=\"5c41f318f4627c41a5ea0d7854ab782c\", element=\"f59a5571-9e69-4f16-8110-0138e3eea2a5\")>,\n",
       " <selenium.webdriver.remote.webelement.WebElement (session=\"5c41f318f4627c41a5ea0d7854ab782c\", element=\"2f95effd-1e34-4ead-bd25-7d34d078edd0\")>,\n",
       " <selenium.webdriver.remote.webelement.WebElement (session=\"5c41f318f4627c41a5ea0d7854ab782c\", element=\"9f2515cd-78b5-4937-ab06-196322a86029\")>,\n",
       " <selenium.webdriver.remote.webelement.WebElement (session=\"5c41f318f4627c41a5ea0d7854ab782c\", element=\"d6654ee0-2860-4eae-915f-32ce5b3ab462\")>,\n",
       " <selenium.webdriver.remote.webelement.WebElement (session=\"5c41f318f4627c41a5ea0d7854ab782c\", element=\"265505f4-1269-4a3c-9da2-b91410c6d4ed\")>,\n",
       " <selenium.webdriver.remote.webelement.WebElement (session=\"5c41f318f4627c41a5ea0d7854ab782c\", element=\"1a214f16-e52a-4083-a66f-4d729d7bc321\")>,\n",
       " <selenium.webdriver.remote.webelement.WebElement (session=\"5c41f318f4627c41a5ea0d7854ab782c\", element=\"27ee3e1e-4a2d-440d-80cc-8833ce8bc992\")>,\n",
       " <selenium.webdriver.remote.webelement.WebElement (session=\"5c41f318f4627c41a5ea0d7854ab782c\", element=\"c7bbf293-0ca4-4eda-87b0-2c741da78239\")>,\n",
       " <selenium.webdriver.remote.webelement.WebElement (session=\"5c41f318f4627c41a5ea0d7854ab782c\", element=\"89108c58-20eb-4ee8-8b28-cc6bb51e3e4c\")>]"
      ]
     },
     "execution_count": 181,
     "metadata": {},
     "output_type": "execute_result"
    }
   ],
   "source": [
    "experience_tags=driver.find_elements_by_xpath(\"//div[@class='salaries sbold-list-header']\")\n",
    "experience_tags[0:10]"
   ]
  },
  {
   "cell_type": "code",
   "execution_count": 182,
   "id": "4637b3f9",
   "metadata": {},
   "outputs": [
    {
     "data": {
      "text/plain": [
       "['Software Engineer\\n . \\n1-3 yrs exp',\n",
       " 'Software Engineer\\n . \\n1-4 yrs exp',\n",
       " 'Software Engineer\\n . \\n2 yrs exp',\n",
       " 'Software Engineer\\n . \\n2-4 yrs exp',\n",
       " 'Software Engineer\\n . \\n1-4 yrs exp',\n",
       " 'Software Engineer\\n . \\n1-4 yrs exp',\n",
       " 'Software Engineer\\n . \\n2-4 yrs exp',\n",
       " 'Software Engineer\\n . \\n1-2 yrs exp',\n",
       " 'Software Engineer\\n . \\n1-4 yrs exp',\n",
       " 'Software Engineer\\n . \\n1-2 yrs exp']"
      ]
     },
     "execution_count": 182,
     "metadata": {},
     "output_type": "execute_result"
    }
   ],
   "source": [
    "for i in experience_tags:\n",
    "    experience=i.text\n",
    "    experience_required.append(experience)\n",
    "experience_required[0:10]"
   ]
  },
  {
   "cell_type": "code",
   "execution_count": 183,
   "id": "0569b0f7",
   "metadata": {},
   "outputs": [],
   "source": [
    "jobs=pd.DataFrame({})\n",
    "jobs['Total Salary Record']=total_salary_record[:10]\n",
    "jobs['Minimum Salary']=minimum_salary[:10]\n",
    "jobs['Maximum Salary']=maximum_salary[:10]\n",
    "jobs['Experience']=experience_required[:10]"
   ]
  },
  {
   "cell_type": "code",
   "execution_count": 184,
   "id": "017a69ee",
   "metadata": {},
   "outputs": [
    {
     "data": {
      "text/html": [
       "<div>\n",
       "<style scoped>\n",
       "    .dataframe tbody tr th:only-of-type {\n",
       "        vertical-align: middle;\n",
       "    }\n",
       "\n",
       "    .dataframe tbody tr th {\n",
       "        vertical-align: top;\n",
       "    }\n",
       "\n",
       "    .dataframe thead th {\n",
       "        text-align: right;\n",
       "    }\n",
       "</style>\n",
       "<table border=\"1\" class=\"dataframe\">\n",
       "  <thead>\n",
       "    <tr style=\"text-align: right;\">\n",
       "      <th></th>\n",
       "      <th>Total Salary Record</th>\n",
       "      <th>Minimum Salary</th>\n",
       "      <th>Maximum Salary</th>\n",
       "      <th>Experience</th>\n",
       "    </tr>\n",
       "  </thead>\n",
       "  <tbody>\n",
       "    <tr>\n",
       "      <th>0</th>\n",
       "      <td>₹ 31.8L</td>\n",
       "      <td>₹ 11.0L</td>\n",
       "      <td>₹ 11.0L</td>\n",
       "      <td>Software Engineer\\n . \\n1-3 yrs exp</td>\n",
       "    </tr>\n",
       "    <tr>\n",
       "      <th>1</th>\n",
       "      <td>₹ 23.9L</td>\n",
       "      <td>₹ 65.0L</td>\n",
       "      <td>₹ 65.0L</td>\n",
       "      <td>Software Engineer\\n . \\n1-4 yrs exp</td>\n",
       "    </tr>\n",
       "    <tr>\n",
       "      <th>2</th>\n",
       "      <td>₹ 23.0L</td>\n",
       "      <td>₹ 13.0L</td>\n",
       "      <td>₹ 13.0L</td>\n",
       "      <td>Software Engineer\\n . \\n2 yrs exp</td>\n",
       "    </tr>\n",
       "    <tr>\n",
       "      <th>3</th>\n",
       "      <td>₹ 21.1L</td>\n",
       "      <td>₹ 45.0L</td>\n",
       "      <td>₹ 45.0L</td>\n",
       "      <td>Software Engineer\\n . \\n2-4 yrs exp</td>\n",
       "    </tr>\n",
       "    <tr>\n",
       "      <th>4</th>\n",
       "      <td>₹ 20.9L</td>\n",
       "      <td>₹ 12.0L</td>\n",
       "      <td>₹ 12.0L</td>\n",
       "      <td>Software Engineer\\n . \\n1-4 yrs exp</td>\n",
       "    </tr>\n",
       "    <tr>\n",
       "      <th>5</th>\n",
       "      <td>₹ 20.6L</td>\n",
       "      <td>₹ 34.0L</td>\n",
       "      <td>₹ 34.0L</td>\n",
       "      <td>Software Engineer\\n . \\n1-4 yrs exp</td>\n",
       "    </tr>\n",
       "    <tr>\n",
       "      <th>6</th>\n",
       "      <td>₹ 20.4L</td>\n",
       "      <td>₹ 12.0L</td>\n",
       "      <td>₹ 12.0L</td>\n",
       "      <td>Software Engineer\\n . \\n2-4 yrs exp</td>\n",
       "    </tr>\n",
       "    <tr>\n",
       "      <th>7</th>\n",
       "      <td>₹ 20.1L</td>\n",
       "      <td>₹ 33.0L</td>\n",
       "      <td>₹ 33.0L</td>\n",
       "      <td>Software Engineer\\n . \\n1-2 yrs exp</td>\n",
       "    </tr>\n",
       "    <tr>\n",
       "      <th>8</th>\n",
       "      <td>₹ 19.9L</td>\n",
       "      <td>₹ 8.0L</td>\n",
       "      <td>₹ 8.0L</td>\n",
       "      <td>Software Engineer\\n . \\n1-4 yrs exp</td>\n",
       "    </tr>\n",
       "    <tr>\n",
       "      <th>9</th>\n",
       "      <td>₹ 19.3L</td>\n",
       "      <td>₹ 45.0L</td>\n",
       "      <td>₹ 45.0L</td>\n",
       "      <td>Software Engineer\\n . \\n1-2 yrs exp</td>\n",
       "    </tr>\n",
       "  </tbody>\n",
       "</table>\n",
       "</div>"
      ],
      "text/plain": [
       "  Total Salary Record Minimum Salary Maximum Salary  \\\n",
       "0             ₹ 31.8L        ₹ 11.0L        ₹ 11.0L   \n",
       "1             ₹ 23.9L        ₹ 65.0L        ₹ 65.0L   \n",
       "2             ₹ 23.0L        ₹ 13.0L        ₹ 13.0L   \n",
       "3             ₹ 21.1L        ₹ 45.0L        ₹ 45.0L   \n",
       "4             ₹ 20.9L        ₹ 12.0L        ₹ 12.0L   \n",
       "5             ₹ 20.6L        ₹ 34.0L        ₹ 34.0L   \n",
       "6             ₹ 20.4L        ₹ 12.0L        ₹ 12.0L   \n",
       "7             ₹ 20.1L        ₹ 33.0L        ₹ 33.0L   \n",
       "8             ₹ 19.9L         ₹ 8.0L         ₹ 8.0L   \n",
       "9             ₹ 19.3L        ₹ 45.0L        ₹ 45.0L   \n",
       "\n",
       "                            Experience  \n",
       "0  Software Engineer\\n . \\n1-3 yrs exp  \n",
       "1  Software Engineer\\n . \\n1-4 yrs exp  \n",
       "2    Software Engineer\\n . \\n2 yrs exp  \n",
       "3  Software Engineer\\n . \\n2-4 yrs exp  \n",
       "4  Software Engineer\\n . \\n1-4 yrs exp  \n",
       "5  Software Engineer\\n . \\n1-4 yrs exp  \n",
       "6  Software Engineer\\n . \\n2-4 yrs exp  \n",
       "7  Software Engineer\\n . \\n1-2 yrs exp  \n",
       "8  Software Engineer\\n . \\n1-4 yrs exp  \n",
       "9  Software Engineer\\n . \\n1-2 yrs exp  "
      ]
     },
     "execution_count": 184,
     "metadata": {},
     "output_type": "execute_result"
    }
   ],
   "source": [
    "jobs"
   ]
  },
  {
   "cell_type": "markdown",
   "id": "c3b24422",
   "metadata": {},
   "source": [
    "QUESTION-5\n",
    "\n",
    "Scrape 100 reviews data from flipkart.com for iphone11 phone. You have to go the link: https://www.flipkart.com/apple-iphone-11-black-64-gb-includesearpods-poweradapter/p/itm0f37c2240b217?pid=MOBFKCTSVZAXUHGR&lid=LSTMOBFKC TSVZAXUHGREPBFGI&marketplace."
   ]
  },
  {
   "cell_type": "code",
   "execution_count": 188,
   "id": "03413e24",
   "metadata": {},
   "outputs": [],
   "source": [
    "import selenium\n",
    "import pandas as pd\n",
    "from selenium import webdriver\n",
    "import warnings\n",
    "warnings.filterwarnings(\"ignore\")\n",
    "import time"
   ]
  },
  {
   "cell_type": "code",
   "execution_count": 189,
   "id": "48b01fc8",
   "metadata": {},
   "outputs": [],
   "source": [
    "driver = webdriver.Chrome(r\"C:\\web driver\\chromedriver.exe\")"
   ]
  },
  {
   "cell_type": "code",
   "execution_count": 190,
   "id": "118cacc0",
   "metadata": {},
   "outputs": [],
   "source": [
    "driver=webdriver.Chrome(\"chromedriver.exe\")\n",
    "time.sleep(2)"
   ]
  },
  {
   "cell_type": "code",
   "execution_count": 191,
   "id": "e542e708",
   "metadata": {},
   "outputs": [],
   "source": [
    "url=\"https://www.flipkart.com/apple-iphone-11-black-64-gb-includesearpods-poweradapter/p/itm0f37c2240b217?pid=MOBFKCTSVZAXUHGR&lid=LSTMOBFKC\""
   ]
  },
  {
   "cell_type": "code",
   "execution_count": 192,
   "id": "c102b743",
   "metadata": {},
   "outputs": [],
   "source": [
    "driver.get(url)"
   ]
  },
  {
   "cell_type": "code",
   "execution_count": 193,
   "id": "159240f5",
   "metadata": {},
   "outputs": [],
   "source": [
    "driver.maximize_window()"
   ]
  },
  {
   "cell_type": "code",
   "execution_count": 194,
   "id": "63c1e785",
   "metadata": {},
   "outputs": [],
   "source": [
    "all_reviews_btn=driver.find_element_by_xpath(\"//div[@class='_3UAT2v _16PBlm']/span\")"
   ]
  },
  {
   "cell_type": "code",
   "execution_count": 195,
   "id": "28c1af36",
   "metadata": {},
   "outputs": [],
   "source": [
    "all_reviews_btn.click()"
   ]
  },
  {
   "cell_type": "code",
   "execution_count": 196,
   "id": "37664b96",
   "metadata": {},
   "outputs": [],
   "source": [
    "url1='https://www.flipkart.com/apple-iphone-11-black-64-gb-includes-earpods-power-adapter/product-reviews/itm0f37c2240b217?pid=MOBFKCTSVZAXUHGR&lid=LSTMOBFKCTSVZAXUHGREPBFGI&marketplace=FLIPKART'\n"
   ]
  },
  {
   "cell_type": "code",
   "execution_count": 197,
   "id": "41a03023",
   "metadata": {},
   "outputs": [],
   "source": [
    "#defining functions to scrape data\n",
    "def scrape_rating():\n",
    "    rating=[]\n",
    "    driver.refresh()\n",
    "    rating_el=driver.find_elements_by_xpath(\"//div[@class='_3LWZlK _1BLPMq']\")\n",
    "    time.sleep(3)\n",
    "    for i in rating_el:\n",
    "        try:\n",
    "            rating.append(i.text)\n",
    "            driver.execute_script(\"window.scrollBy(0,document.body.scrollHeight0)\")\n",
    "        except:\n",
    "            rating.append(\"--\")\n",
    "    return rating"
   ]
  },
  {
   "cell_type": "code",
   "execution_count": 198,
   "id": "16993718",
   "metadata": {},
   "outputs": [],
   "source": [
    "def scrape_review_summary():\n",
    "    review_sum=[]\n",
    "    driver.refresh()\n",
    "    rev_sum=driver.find_elements_by_xpath(\"//p[@class='_2-N8zT']\")\n",
    "    time.sleep(3)\n",
    "    for i in rev_sum:\n",
    "        try:\n",
    "            review_sum.append(i.text)\n",
    "            driver.execute_script(\"window.scrollBy(0,document.body.scrollHeight0)\")\n",
    "        except:\n",
    "            review_sum.append(\"--\")\n",
    "    return review_sum\n",
    "            "
   ]
  },
  {
   "cell_type": "code",
   "execution_count": 199,
   "id": "2722d6f2",
   "metadata": {},
   "outputs": [],
   "source": [
    "def scrape_full_review():\n",
    "    full_review=[]\n",
    "    driver.refresh()\n",
    "    rev_el=driver.find_elements_by_xpath(\"//div[@class='t-ZTKy']/div\")\n",
    "    time.sleep(3)\n",
    "    for i in rev_el:\n",
    "        try:\n",
    "            full_review.append(i.text.replace(\"\\n\",\"  New Line: \"))\n",
    "            driver.execute_script(\"window.scrollBy(0,document.body.scrollHeight0)\")\n",
    "        except:\n",
    "            full_review.append(\"--\")\n",
    "    return full_review"
   ]
  },
  {
   "cell_type": "code",
   "execution_count": 200,
   "id": "d3d5ff39",
   "metadata": {},
   "outputs": [],
   "source": [
    "import time"
   ]
  },
  {
   "cell_type": "code",
   "execution_count": 201,
   "id": "5ebae9f8",
   "metadata": {},
   "outputs": [
    {
     "data": {
      "text/plain": [
       "110"
      ]
     },
     "execution_count": 201,
     "metadata": {},
     "output_type": "execute_result"
    }
   ],
   "source": [
    "rating=[]\n",
    "review_sum=[]\n",
    "full_review=[]\n",
    "length=len(rating)\n",
    "while(length<=100):\n",
    "    driver.refresh()\n",
    "    rating.extend(scrape_rating())\n",
    "    review_sum.extend(scrape_review_summary())\n",
    "    full_review.extend(scrape_full_review())\n",
    "    time.sleep(5)\n",
    "    length=len(rating)\n",
    "    next_btn=driver.find_element_by_xpath(\"//a[@class='_1LKTO3']/span\")\n",
    "    next_btn.click()\n",
    "    \n",
    "len(review_sum)\n",
    "    "
   ]
  },
  {
   "cell_type": "code",
   "execution_count": 202,
   "id": "1a225928",
   "metadata": {},
   "outputs": [
    {
     "data": {
      "text/plain": [
       "[110, 110, 110]"
      ]
     },
     "execution_count": 202,
     "metadata": {},
     "output_type": "execute_result"
    }
   ],
   "source": [
    "#checking if the data was scraped properly\n",
    "length_list=[len(full_review),len(rating),len(review_sum)]\n",
    "length_list"
   ]
  },
  {
   "cell_type": "code",
   "execution_count": 203,
   "id": "bc070965",
   "metadata": {},
   "outputs": [
    {
     "data": {
      "text/plain": [
       "['Simply awesome',\n",
       " 'Best in the market!',\n",
       " 'Perfect product!',\n",
       " 'Worth every penny',\n",
       " 'Highly recommended',\n",
       " 'Fabulous!',\n",
       " 'Great product',\n",
       " 'Worth every penny',\n",
       " 'Good choice',\n",
       " 'Highly recommended',\n",
       " 'Simply awesome',\n",
       " 'Best in the market!',\n",
       " 'Perfect product!',\n",
       " 'Worth every penny',\n",
       " 'Highly recommended',\n",
       " 'Fabulous!',\n",
       " 'Great product',\n",
       " 'Worth every penny',\n",
       " 'Good choice',\n",
       " 'Highly recommended',\n",
       " 'Simply awesome',\n",
       " 'Best in the market!',\n",
       " 'Perfect product!',\n",
       " 'Worth every penny',\n",
       " 'Highly recommended',\n",
       " 'Fabulous!',\n",
       " 'Great product',\n",
       " 'Worth every penny',\n",
       " 'Good choice',\n",
       " 'Highly recommended',\n",
       " 'Simply awesome',\n",
       " 'Best in the market!',\n",
       " 'Perfect product!',\n",
       " 'Worth every penny',\n",
       " 'Highly recommended',\n",
       " 'Fabulous!',\n",
       " 'Great product',\n",
       " 'Worth every penny',\n",
       " 'Good choice',\n",
       " 'Highly recommended',\n",
       " 'Simply awesome',\n",
       " 'Best in the market!',\n",
       " 'Perfect product!',\n",
       " 'Worth every penny',\n",
       " 'Highly recommended',\n",
       " 'Fabulous!',\n",
       " 'Great product',\n",
       " 'Worth every penny',\n",
       " 'Good choice',\n",
       " 'Highly recommended',\n",
       " 'Simply awesome',\n",
       " 'Best in the market!',\n",
       " 'Perfect product!',\n",
       " 'Worth every penny',\n",
       " 'Highly recommended',\n",
       " 'Fabulous!',\n",
       " 'Great product',\n",
       " 'Worth every penny',\n",
       " 'Good choice',\n",
       " 'Highly recommended',\n",
       " 'Simply awesome',\n",
       " 'Best in the market!',\n",
       " 'Perfect product!',\n",
       " 'Worth every penny',\n",
       " 'Highly recommended',\n",
       " 'Fabulous!',\n",
       " 'Great product',\n",
       " 'Worth every penny',\n",
       " 'Good choice',\n",
       " 'Highly recommended',\n",
       " 'Simply awesome',\n",
       " 'Best in the market!',\n",
       " 'Perfect product!',\n",
       " 'Worth every penny',\n",
       " 'Highly recommended',\n",
       " 'Fabulous!',\n",
       " 'Great product',\n",
       " 'Worth every penny',\n",
       " 'Good choice',\n",
       " 'Highly recommended',\n",
       " 'Simply awesome',\n",
       " 'Best in the market!',\n",
       " 'Perfect product!',\n",
       " 'Worth every penny',\n",
       " 'Highly recommended',\n",
       " 'Fabulous!',\n",
       " 'Great product',\n",
       " 'Worth every penny',\n",
       " 'Good choice',\n",
       " 'Highly recommended',\n",
       " 'Simply awesome',\n",
       " 'Best in the market!',\n",
       " 'Perfect product!',\n",
       " 'Worth every penny',\n",
       " 'Highly recommended',\n",
       " 'Fabulous!',\n",
       " 'Great product',\n",
       " 'Worth every penny',\n",
       " 'Good choice',\n",
       " 'Highly recommended',\n",
       " 'Simply awesome',\n",
       " 'Best in the market!',\n",
       " 'Perfect product!',\n",
       " 'Worth every penny',\n",
       " 'Highly recommended',\n",
       " 'Fabulous!',\n",
       " 'Great product',\n",
       " 'Worth every penny',\n",
       " 'Good choice',\n",
       " 'Highly recommended']"
      ]
     },
     "execution_count": 203,
     "metadata": {},
     "output_type": "execute_result"
    }
   ],
   "source": [
    "review_sum"
   ]
  },
  {
   "cell_type": "code",
   "execution_count": 204,
   "id": "40893358",
   "metadata": {},
   "outputs": [
    {
     "data": {
      "text/html": [
       "<div>\n",
       "<style scoped>\n",
       "    .dataframe tbody tr th:only-of-type {\n",
       "        vertical-align: middle;\n",
       "    }\n",
       "\n",
       "    .dataframe tbody tr th {\n",
       "        vertical-align: top;\n",
       "    }\n",
       "\n",
       "    .dataframe thead th {\n",
       "        text-align: right;\n",
       "    }\n",
       "</style>\n",
       "<table border=\"1\" class=\"dataframe\">\n",
       "  <thead>\n",
       "    <tr style=\"text-align: right;\">\n",
       "      <th></th>\n",
       "      <th>RATING</th>\n",
       "      <th>REVIEW_SUMMARY</th>\n",
       "      <th>FULL_REVIEW</th>\n",
       "    </tr>\n",
       "    <tr>\n",
       "      <th>INDEX</th>\n",
       "      <th></th>\n",
       "      <th></th>\n",
       "      <th></th>\n",
       "    </tr>\n",
       "  </thead>\n",
       "  <tbody>\n",
       "    <tr>\n",
       "      <th>1</th>\n",
       "      <td>5</td>\n",
       "      <td>Simply awesome</td>\n",
       "      <td>Really satisfied with the Product I received.....</td>\n",
       "    </tr>\n",
       "    <tr>\n",
       "      <th>2</th>\n",
       "      <td>5</td>\n",
       "      <td>Best in the market!</td>\n",
       "      <td>Great iPhone very snappy experience as apple k...</td>\n",
       "    </tr>\n",
       "    <tr>\n",
       "      <th>3</th>\n",
       "      <td>5</td>\n",
       "      <td>Perfect product!</td>\n",
       "      <td>Amazing phone with great cameras and better ba...</td>\n",
       "    </tr>\n",
       "    <tr>\n",
       "      <th>4</th>\n",
       "      <td>5</td>\n",
       "      <td>Worth every penny</td>\n",
       "      <td>Previously I was using one plus 3t it was a gr...</td>\n",
       "    </tr>\n",
       "    <tr>\n",
       "      <th>5</th>\n",
       "      <td>5</td>\n",
       "      <td>Highly recommended</td>\n",
       "      <td>What a camera .....just awesome ..you can feel...</td>\n",
       "    </tr>\n",
       "    <tr>\n",
       "      <th>...</th>\n",
       "      <td>...</td>\n",
       "      <td>...</td>\n",
       "      <td>...</td>\n",
       "    </tr>\n",
       "    <tr>\n",
       "      <th>96</th>\n",
       "      <td>5</td>\n",
       "      <td>Fabulous!</td>\n",
       "      <td>This is my first iOS phone. I am very happy wi...</td>\n",
       "    </tr>\n",
       "    <tr>\n",
       "      <th>97</th>\n",
       "      <td>5</td>\n",
       "      <td>Great product</td>\n",
       "      <td>Amazing Powerful and Durable Gadget.  New Line...</td>\n",
       "    </tr>\n",
       "    <tr>\n",
       "      <th>98</th>\n",
       "      <td>5</td>\n",
       "      <td>Worth every penny</td>\n",
       "      <td>i11 is worthy to buy, too much happy with the ...</td>\n",
       "    </tr>\n",
       "    <tr>\n",
       "      <th>99</th>\n",
       "      <td>4</td>\n",
       "      <td>Good choice</td>\n",
       "      <td>So far it’s been an AMAZING experience coming ...</td>\n",
       "    </tr>\n",
       "    <tr>\n",
       "      <th>100</th>\n",
       "      <td>5</td>\n",
       "      <td>Highly recommended</td>\n",
       "      <td>iphone 11 is a very good phone to buy only if ...</td>\n",
       "    </tr>\n",
       "  </tbody>\n",
       "</table>\n",
       "<p>100 rows × 3 columns</p>\n",
       "</div>"
      ],
      "text/plain": [
       "      RATING       REVIEW_SUMMARY  \\\n",
       "INDEX                               \n",
       "1          5       Simply awesome   \n",
       "2          5  Best in the market!   \n",
       "3          5     Perfect product!   \n",
       "4          5    Worth every penny   \n",
       "5          5   Highly recommended   \n",
       "...      ...                  ...   \n",
       "96         5            Fabulous!   \n",
       "97         5        Great product   \n",
       "98         5    Worth every penny   \n",
       "99         4          Good choice   \n",
       "100        5   Highly recommended   \n",
       "\n",
       "                                             FULL_REVIEW  \n",
       "INDEX                                                     \n",
       "1      Really satisfied with the Product I received.....  \n",
       "2      Great iPhone very snappy experience as apple k...  \n",
       "3      Amazing phone with great cameras and better ba...  \n",
       "4      Previously I was using one plus 3t it was a gr...  \n",
       "5      What a camera .....just awesome ..you can feel...  \n",
       "...                                                  ...  \n",
       "96     This is my first iOS phone. I am very happy wi...  \n",
       "97     Amazing Powerful and Durable Gadget.  New Line...  \n",
       "98     i11 is worthy to buy, too much happy with the ...  \n",
       "99     So far it’s been an AMAZING experience coming ...  \n",
       "100    iphone 11 is a very good phone to buy only if ...  \n",
       "\n",
       "[100 rows x 3 columns]"
      ]
     },
     "execution_count": 204,
     "metadata": {},
     "output_type": "execute_result"
    }
   ],
   "source": [
    "#creating a DataFrame for the scraped data\n",
    "import pandas as pd\n",
    "df6=pd.DataFrame()\n",
    "df6[\"INDEX\"]=range(1,101)\n",
    "df6[\"RATING\"]=rating[:100]\n",
    "df6[\"REVIEW_SUMMARY\"]=review_sum[:100]\n",
    "df6[\"FULL_REVIEW\"]=full_review[:100]\n",
    "df6.set_index(\"INDEX\",inplace=True)\n",
    "df6"
   ]
  },
  {
   "cell_type": "markdown",
   "id": "d70195f8",
   "metadata": {},
   "source": [
    "Q8:: Go to webpage https://www.amazon.in/\n",
    "Enter “Laptop” in the search field and then click the search icon.\n",
    "Then set CPU Type filter to “Intel Core i7” as shown in the below image:\n",
    "After setting the filters scrape first 10 laptops data. You have to scrape 3 attributesfor each laptop:\n",
    "1. Title\n",
    "2. Ratings\n",
    "3. Price\n"
   ]
  },
  {
   "cell_type": "code",
   "execution_count": 226,
   "id": "de17d5c2",
   "metadata": {},
   "outputs": [],
   "source": [
    "import selenium\n",
    "from selenium import webdriver\n",
    "from selenium.webdriver.common.by import By\n",
    "import pandas as pd"
   ]
  },
  {
   "cell_type": "code",
   "execution_count": 227,
   "id": "fcd6ec19",
   "metadata": {},
   "outputs": [],
   "source": [
    "driver = webdriver.Chrome(r\"C:\\web driver\\chromedriver.exe\")\n"
   ]
  },
  {
   "cell_type": "code",
   "execution_count": 228,
   "id": "3fcb4c07",
   "metadata": {},
   "outputs": [],
   "source": [
    "driver=webdriver.Chrome(\"chromedriver.exe\")\n",
    "time.sleep(2)"
   ]
  },
  {
   "cell_type": "code",
   "execution_count": 229,
   "id": "5ee29bf2",
   "metadata": {},
   "outputs": [],
   "source": [
    "url=\"https://www.amazon.in/\"\n",
    "driver.get(url)"
   ]
  },
  {
   "cell_type": "code",
   "execution_count": 230,
   "id": "32e85b65",
   "metadata": {},
   "outputs": [],
   "source": [
    "driver.maximize_window()"
   ]
  },
  {
   "cell_type": "code",
   "execution_count": 231,
   "id": "eebe7970",
   "metadata": {},
   "outputs": [],
   "source": [
    "search_col=driver.find_element_by_xpath(\"//input[@class='nav-input nav-progressive-attribute']\")\n",
    "search_col.send_keys('laptop')"
   ]
  },
  {
   "cell_type": "code",
   "execution_count": 232,
   "id": "46ac72b8",
   "metadata": {},
   "outputs": [],
   "source": [
    "search_button=driver.find_elements_by_xpath(\"//input[@class='nav-input nav-progressive-attribute']\")"
   ]
  },
  {
   "cell_type": "code",
   "execution_count": 233,
   "id": "854dedbb",
   "metadata": {},
   "outputs": [],
   "source": [
    "search_button[1].click()"
   ]
  },
  {
   "cell_type": "code",
   "execution_count": 234,
   "id": "0368d7d4",
   "metadata": {},
   "outputs": [],
   "source": [
    "#applying filters\n",
    "#i7=driver.find_elements_by_xpath(\"//li[@id='p_n_feature_thirteen_browse-bin/12598163031']\")\n",
    "\n",
    "#for i in i7:\n",
    "    \n",
    "#print(i.text)\n",
    "#if(i.text)=='Intel Core i7':\n",
    "    #i.click()\n",
    "#break\n",
    "    \n",
    "    #the method explained in the doubt clearing session did not work\n",
    "#using the filters manually"
   ]
  },
  {
   "cell_type": "code",
   "execution_count": 235,
   "id": "c34e0df1",
   "metadata": {},
   "outputs": [
    {
     "data": {
      "text/plain": [
       "['HP 15s- Ryzen 5- 8GB RAM/512GB SSD 15.6 Inches FHD, Micro-Edge, Anti-Glare Display (Natural Silver/AMD Radeon Graphics/Alexa/Dual Speakers/Fast Charge/Windows 11/MS Office), 15s-eq2144au',\n",
       " \"Lenovo IdeaPad 1 Intel Celeron N4020 11.6'' HD Laptop (4GB/256GB SSD/Windows 11/Office 2021/Platinum Grey/1.2Kg), 81VT009UIN\",\n",
       " 'ASUS VivoBook 15 (2021), 15.6-inch (39.62 cm) HD, Dual Core Intel Celeron N4020, Thin and Light Laptop (4GB RAM/256GB SSD/Integrated Graphics/Windows 11 Home/Transparent Silver/1.8 Kg), X515MA-BR011W',\n",
       " 'HP Pavilion 14 12th Gen Intel Core i7 16GB SDRAM/1TB SSD 14 inch(35.6cm) FHD,IPS,Micro-Edge Display/Intel UHD Graphics/B&O/Win 11/Alexa Built-in/Backlit KB/FPR/MSO 2021/Natural Silver, 14-dv2015TU',\n",
       " \"Lenovo IdeaPad 1 Intel Celeron N4020 11.6'' HD Laptop (4GB/256GB SSD/Windows 11/Office 2021/Platinum Grey/1.2Kg), 81VT009UIN\",\n",
       " 'Dell New Inspiron 3521 Laptop, Intel PQC-N5030, Win11 + Office\\'21, 8GB GDDR4, 256GB SSD, 15.6\" (39.62Cms) HD AG (D560756WIN9BE, 1.61Kgs)',\n",
       " 'HP 15s-11th Gen Intel Core i3 15.6 Inches Laptop (8GB RAM/512GB SSD, FHD, Micro-Edge, Anti-Glare Display UHD Graphics/Alexa/Windows 11/ Dual Speakers/Fast Charge/Win 11/MS Office) 15s- fr2508TU',\n",
       " 'HP 247 G8 Laptop (Athlon P-3045B HD/ 14\" HD (35.56 cms) /8GB RAM DDR4 /1TB HDD / W11 SL)One Year Warranty, Black, 67U77PA)',\n",
       " 'Acer Aspire 3 AMD 3020e Dual core Processor 14 inches (35.5 cm) HD Display Laptop (4GB DDR4 RAM / 1TB HDD / Windows 11 Home/ Black /Narrow Bezel / 1.9 Kg, A314-22)',\n",
       " \"Lenovo IdeaPad 3 Intel Celeron N4020 14'' HD Thin & Light Laptop (4GB/256GB SSD/Windows 11/MS Office 2021/Platinum Grey/1.5Kg), 81WH007KIN\"]"
      ]
     },
     "execution_count": 235,
     "metadata": {},
     "output_type": "execute_result"
    }
   ],
   "source": [
    "title_el=driver.find_elements_by_xpath(\"//h2[@class='a-size-mini a-spacing-none a-color-base s-line-clamp-2']\")\n",
    "title=[]\n",
    "for i in title_el[:10]:\n",
    "    title.append(i.text)\n",
    "title"
   ]
  },
  {
   "cell_type": "code",
   "execution_count": 236,
   "id": "474d3674",
   "metadata": {},
   "outputs": [
    {
     "data": {
      "text/plain": [
       "['47,111',\n",
       " '23,890',\n",
       " '26,990',\n",
       " '86,990',\n",
       " '23,890',\n",
       " '27,490',\n",
       " '32,490',\n",
       " '40,989',\n",
       " '28,990',\n",
       " '24,990']"
      ]
     },
     "execution_count": 236,
     "metadata": {},
     "output_type": "execute_result"
    }
   ],
   "source": [
    "price_el=driver.find_elements_by_xpath(\"//span[@class='a-price-whole']\")\n",
    "price=[]\n",
    "for i in price_el[:10]:\n",
    "    price.append(i.text)\n",
    "price"
   ]
  },
  {
   "cell_type": "code",
   "execution_count": 255,
   "id": "5ebf4716",
   "metadata": {},
   "outputs": [
    {
     "data": {
      "text/plain": [
       "['https://www.amazon.in/dp/B094XF92HG?pd_rd_i=B094XF92HG&pf_rd_p=b0aedc9a-bc0f-46ba-b960-f9f1507d9a7f&pf_rd_r=5AQRD2RJY512PEWNW82T&pd_rd_wg=KKxFm&pd_rd_w=hY46V&pd_rd_r=4bf0a2ec-0d50-4592-8887-bd662550ffef#',\n",
       " 'https://www.amazon.in/gp/slredirect/picassoRedirect.html/ref=sspa_dk_detail_0?ie=UTF8&adId=A02503701FXGEH8CXSDO1&qualifier=1655396643&id=4547205081918991&widgetName=sp_detail&url=%2Fdp%2FB09SKV8TXD%2Fref%3Dsspa_dk_detail_0%3Fpsc%3D1%26pd_rd_i%3DB09SKV8TXD%26pd_rd_w%3DgjJdU%26content-id%3Damzn1.sym.5210e5d3-37e0-44be-93e0-eb50dad0d2ca%26pf_rd_p%3D5210e5d3-37e0-44be-93e0-eb50dad0d2ca%26pf_rd_r%3DHT35Z2FCSY9T0EA5KT5B%26pd_rd_wg%3DHsQ8z%26pd_rd_r%3Da23d85f8-dd07-4f39-bde4-cc57c5ca3cfc%26s%3Dcomputers&sp_csd=d2lkZ2V0TmFtZT1zcF9kZXRhaWw',\n",
       " 'https://www.amazon.in/gp/slredirect/picassoRedirect.html/ref=sspa_dk_detail_0?ie=UTF8&adId=A02503701FXGEH8CXSDO1&qualifier=1655396643&id=4547205081918991&widgetName=sp_detail&url=%2Fdp%2FB09SKV8TXD%2Fref%3Dsspa_dk_detail_0%3Fpsc%3D1%26pd_rd_i%3DB09SKV8TXD%26pd_rd_w%3DgjJdU%26content-id%3Damzn1.sym.5210e5d3-37e0-44be-93e0-eb50dad0d2ca%26pf_rd_p%3D5210e5d3-37e0-44be-93e0-eb50dad0d2ca%26pf_rd_r%3DHT35Z2FCSY9T0EA5KT5B%26pd_rd_wg%3DHsQ8z%26pd_rd_r%3Da23d85f8-dd07-4f39-bde4-cc57c5ca3cfc%26s%3Dcomputers&sp_csd=d2lkZ2V0TmFtZT1zcF9kZXRhaWw',\n",
       " 'https://www.amazon.in/gp/slredirect/picassoRedirect.html/ref=sspa_dk_detail_1?ie=UTF8&adId=A0798686H3C3FQKT6R0T&qualifier=1655396643&id=4547205081918991&widgetName=sp_detail&url=%2Fdp%2FB097TZMG7R%2Fref%3Dsspa_dk_detail_1%3Fpsc%3D1%26pd_rd_i%3DB097TZMG7R%26pd_rd_w%3DgjJdU%26content-id%3Damzn1.sym.5210e5d3-37e0-44be-93e0-eb50dad0d2ca%26pf_rd_p%3D5210e5d3-37e0-44be-93e0-eb50dad0d2ca%26pf_rd_r%3DHT35Z2FCSY9T0EA5KT5B%26pd_rd_wg%3DHsQ8z%26pd_rd_r%3Da23d85f8-dd07-4f39-bde4-cc57c5ca3cfc%26s%3Dcomputers&sp_csd=d2lkZ2V0TmFtZT1zcF9kZXRhaWw',\n",
       " 'https://www.amazon.in/gp/slredirect/picassoRedirect.html/ref=sspa_dk_detail_1?ie=UTF8&adId=A0798686H3C3FQKT6R0T&qualifier=1655396643&id=4547205081918991&widgetName=sp_detail&url=%2Fdp%2FB097TZMG7R%2Fref%3Dsspa_dk_detail_1%3Fpsc%3D1%26pd_rd_i%3DB097TZMG7R%26pd_rd_w%3DgjJdU%26content-id%3Damzn1.sym.5210e5d3-37e0-44be-93e0-eb50dad0d2ca%26pf_rd_p%3D5210e5d3-37e0-44be-93e0-eb50dad0d2ca%26pf_rd_r%3DHT35Z2FCSY9T0EA5KT5B%26pd_rd_wg%3DHsQ8z%26pd_rd_r%3Da23d85f8-dd07-4f39-bde4-cc57c5ca3cfc%26s%3Dcomputers&sp_csd=d2lkZ2V0TmFtZT1zcF9kZXRhaWw',\n",
       " 'https://www.amazon.in/gp/slredirect/picassoRedirect.html/ref=sspa_dk_detail_2?ie=UTF8&adId=A05798692X0CNR3UM9AGY&qualifier=1655396643&id=4547205081918991&widgetName=sp_detail&url=%2Fdp%2FB09MM58Y7Q%2Fref%3Dsspa_dk_detail_2%3Fpsc%3D1%26pd_rd_i%3DB09MM58Y7Q%26pd_rd_w%3DgjJdU%26content-id%3Damzn1.sym.5210e5d3-37e0-44be-93e0-eb50dad0d2ca%26pf_rd_p%3D5210e5d3-37e0-44be-93e0-eb50dad0d2ca%26pf_rd_r%3DHT35Z2FCSY9T0EA5KT5B%26pd_rd_wg%3DHsQ8z%26pd_rd_r%3Da23d85f8-dd07-4f39-bde4-cc57c5ca3cfc%26s%3Dcomputers&sp_csd=d2lkZ2V0TmFtZT1zcF9kZXRhaWw',\n",
       " 'https://www.amazon.in/gp/slredirect/picassoRedirect.html/ref=sspa_dk_detail_2?ie=UTF8&adId=A05798692X0CNR3UM9AGY&qualifier=1655396643&id=4547205081918991&widgetName=sp_detail&url=%2Fdp%2FB09MM58Y7Q%2Fref%3Dsspa_dk_detail_2%3Fpsc%3D1%26pd_rd_i%3DB09MM58Y7Q%26pd_rd_w%3DgjJdU%26content-id%3Damzn1.sym.5210e5d3-37e0-44be-93e0-eb50dad0d2ca%26pf_rd_p%3D5210e5d3-37e0-44be-93e0-eb50dad0d2ca%26pf_rd_r%3DHT35Z2FCSY9T0EA5KT5B%26pd_rd_wg%3DHsQ8z%26pd_rd_r%3Da23d85f8-dd07-4f39-bde4-cc57c5ca3cfc%26s%3Dcomputers&sp_csd=d2lkZ2V0TmFtZT1zcF9kZXRhaWw',\n",
       " 'https://www.amazon.in/gp/slredirect/picassoRedirect.html/ref=sspa_dk_detail_3?ie=UTF8&adId=A08314862AR154PL1K7JO&qualifier=1655396643&id=4547205081918991&widgetName=sp_detail&url=%2Fdp%2FB09M41LYSC%2Fref%3Dsspa_dk_detail_3%3Fpsc%3D1%26pd_rd_i%3DB09M41LYSC%26pd_rd_w%3DgjJdU%26content-id%3Damzn1.sym.5210e5d3-37e0-44be-93e0-eb50dad0d2ca%26pf_rd_p%3D5210e5d3-37e0-44be-93e0-eb50dad0d2ca%26pf_rd_r%3DHT35Z2FCSY9T0EA5KT5B%26pd_rd_wg%3DHsQ8z%26pd_rd_r%3Da23d85f8-dd07-4f39-bde4-cc57c5ca3cfc%26s%3Dcomputers&sp_csd=d2lkZ2V0TmFtZT1zcF9kZXRhaWw',\n",
       " 'https://www.amazon.in/gp/slredirect/picassoRedirect.html/ref=sspa_dk_detail_3?ie=UTF8&adId=A08314862AR154PL1K7JO&qualifier=1655396643&id=4547205081918991&widgetName=sp_detail&url=%2Fdp%2FB09M41LYSC%2Fref%3Dsspa_dk_detail_3%3Fpsc%3D1%26pd_rd_i%3DB09M41LYSC%26pd_rd_w%3DgjJdU%26content-id%3Damzn1.sym.5210e5d3-37e0-44be-93e0-eb50dad0d2ca%26pf_rd_p%3D5210e5d3-37e0-44be-93e0-eb50dad0d2ca%26pf_rd_r%3DHT35Z2FCSY9T0EA5KT5B%26pd_rd_wg%3DHsQ8z%26pd_rd_r%3Da23d85f8-dd07-4f39-bde4-cc57c5ca3cfc%26s%3Dcomputers&sp_csd=d2lkZ2V0TmFtZT1zcF9kZXRhaWw',\n",
       " 'https://www.amazon.in/gp/slredirect/picassoRedirect.html/ref=sspa_dk_detail_4?ie=UTF8&adId=A08556332MZ5NRFIFF5IJ&qualifier=1655396643&id=4547205081918991&widgetName=sp_detail&url=%2Fdp%2FB09MM4FPMR%2Fref%3Dsspa_dk_detail_4%3Fpsc%3D1%26pd_rd_i%3DB09MM4FPMR%26pd_rd_w%3DgjJdU%26content-id%3Damzn1.sym.5210e5d3-37e0-44be-93e0-eb50dad0d2ca%26pf_rd_p%3D5210e5d3-37e0-44be-93e0-eb50dad0d2ca%26pf_rd_r%3DHT35Z2FCSY9T0EA5KT5B%26pd_rd_wg%3DHsQ8z%26pd_rd_r%3Da23d85f8-dd07-4f39-bde4-cc57c5ca3cfc%26s%3Dcomputers&sp_csd=d2lkZ2V0TmFtZT1zcF9kZXRhaWw']"
      ]
     },
     "execution_count": 255,
     "metadata": {},
     "output_type": "execute_result"
    }
   ],
   "source": [
    "url2=driver.find_elements_by_xpath(\"//a[@class='a-link-normal a-text-normal']\")\n",
    "\n",
    "rating1_url=[]\n",
    "for i in url2[:10]:\n",
    "    rating1_url.append(i.get_attribute('href'))\n",
    "rating1_url"
   ]
  },
  {
   "cell_type": "code",
   "execution_count": 257,
   "id": "59725b54",
   "metadata": {},
   "outputs": [
    {
     "data": {
      "text/plain": [
       "['4.1', '4.3', '4.3', '3.7', '3.7', '4.3', '4.3', '4.3', '4.3', '4.0']"
      ]
     },
     "execution_count": 257,
     "metadata": {},
     "output_type": "execute_result"
    }
   ],
   "source": [
    "import time\n",
    "rating1=[]\n",
    "for i in rating1_url[:10]:\n",
    "    driver.get(i)\n",
    "    time.sleep(3)\n",
    "    try:\n",
    "        \n",
    "        ratings = driver.find_element(By.XPATH,\".//span[@class='a-icon-alt']/..\")\n",
    "        ratings = ratings.get_attribute('innerHTML').split(\">\")[1].split(\" \")[0]\n",
    "        rating1.append(ratings)\n",
    "    except:\n",
    "        \n",
    "        \n",
    "        rating1.append(\"00\")\n",
    "rating1"
   ]
  },
  {
   "cell_type": "code",
   "execution_count": 258,
   "id": "64841191",
   "metadata": {},
   "outputs": [
    {
     "data": {
      "text/plain": [
       "10"
      ]
     },
     "execution_count": 258,
     "metadata": {},
     "output_type": "execute_result"
    }
   ],
   "source": [
    "len(price)"
   ]
  },
  {
   "cell_type": "code",
   "execution_count": 259,
   "id": "c09b2479",
   "metadata": {},
   "outputs": [
    {
     "data": {
      "text/plain": [
       "10"
      ]
     },
     "execution_count": 259,
     "metadata": {},
     "output_type": "execute_result"
    }
   ],
   "source": [
    "len(title)"
   ]
  },
  {
   "cell_type": "code",
   "execution_count": 260,
   "id": "f0bca7c0",
   "metadata": {},
   "outputs": [],
   "source": [
    "import pandas as pd\n",
    "laptop_df=pd.DataFrame()\n"
   ]
  },
  {
   "cell_type": "code",
   "execution_count": 261,
   "id": "cbedcf02",
   "metadata": {},
   "outputs": [],
   "source": [
    "laptop_df['INDEX']=range(1,11)\n"
   ]
  },
  {
   "cell_type": "code",
   "execution_count": 262,
   "id": "66bb0ec5",
   "metadata": {},
   "outputs": [],
   "source": [
    "laptop_df['TITLE']=title[:10]\n"
   ]
  },
  {
   "cell_type": "code",
   "execution_count": 263,
   "id": "cb735646",
   "metadata": {},
   "outputs": [],
   "source": [
    "laptop_df['PRICE']=price[:10]\n"
   ]
  },
  {
   "cell_type": "code",
   "execution_count": 264,
   "id": "17c9100c",
   "metadata": {},
   "outputs": [],
   "source": [
    "laptop_df['rating']=rating[:10]\n"
   ]
  },
  {
   "cell_type": "code",
   "execution_count": 265,
   "id": "a5d23632",
   "metadata": {},
   "outputs": [
    {
     "data": {
      "text/html": [
       "<div>\n",
       "<style scoped>\n",
       "    .dataframe tbody tr th:only-of-type {\n",
       "        vertical-align: middle;\n",
       "    }\n",
       "\n",
       "    .dataframe tbody tr th {\n",
       "        vertical-align: top;\n",
       "    }\n",
       "\n",
       "    .dataframe thead th {\n",
       "        text-align: right;\n",
       "    }\n",
       "</style>\n",
       "<table border=\"1\" class=\"dataframe\">\n",
       "  <thead>\n",
       "    <tr style=\"text-align: right;\">\n",
       "      <th></th>\n",
       "      <th>TITLE</th>\n",
       "      <th>PRICE</th>\n",
       "      <th>rating</th>\n",
       "    </tr>\n",
       "    <tr>\n",
       "      <th>INDEX</th>\n",
       "      <th></th>\n",
       "      <th></th>\n",
       "      <th></th>\n",
       "    </tr>\n",
       "  </thead>\n",
       "  <tbody>\n",
       "    <tr>\n",
       "      <th>1</th>\n",
       "      <td>HP 15s- Ryzen 5- 8GB RAM/512GB SSD 15.6 Inches...</td>\n",
       "      <td>47,111</td>\n",
       "      <td>3.9</td>\n",
       "    </tr>\n",
       "    <tr>\n",
       "      <th>2</th>\n",
       "      <td>Lenovo IdeaPad 1 Intel Celeron N4020 11.6'' HD...</td>\n",
       "      <td>23,890</td>\n",
       "      <td>4.1</td>\n",
       "    </tr>\n",
       "    <tr>\n",
       "      <th>3</th>\n",
       "      <td>ASUS VivoBook 15 (2021), 15.6-inch (39.62 cm) ...</td>\n",
       "      <td>26,990</td>\n",
       "      <td>4.1</td>\n",
       "    </tr>\n",
       "    <tr>\n",
       "      <th>4</th>\n",
       "      <td>HP Pavilion 14 12th Gen Intel Core i7 16GB SDR...</td>\n",
       "      <td>86,990</td>\n",
       "      <td>4.3</td>\n",
       "    </tr>\n",
       "    <tr>\n",
       "      <th>5</th>\n",
       "      <td>Lenovo IdeaPad 1 Intel Celeron N4020 11.6'' HD...</td>\n",
       "      <td>23,890</td>\n",
       "      <td>4.3</td>\n",
       "    </tr>\n",
       "    <tr>\n",
       "      <th>6</th>\n",
       "      <td>Dell New Inspiron 3521 Laptop, Intel PQC-N5030...</td>\n",
       "      <td>27,490</td>\n",
       "      <td>3.7</td>\n",
       "    </tr>\n",
       "    <tr>\n",
       "      <th>7</th>\n",
       "      <td>HP 15s-11th Gen Intel Core i3 15.6 Inches Lapt...</td>\n",
       "      <td>32,490</td>\n",
       "      <td>3.7</td>\n",
       "    </tr>\n",
       "    <tr>\n",
       "      <th>8</th>\n",
       "      <td>HP 247 G8 Laptop (Athlon P-3045B HD/ 14\" HD (3...</td>\n",
       "      <td>40,989</td>\n",
       "      <td>4.3</td>\n",
       "    </tr>\n",
       "    <tr>\n",
       "      <th>9</th>\n",
       "      <td>Acer Aspire 3 AMD 3020e Dual core Processor 14...</td>\n",
       "      <td>28,990</td>\n",
       "      <td>4.3</td>\n",
       "    </tr>\n",
       "    <tr>\n",
       "      <th>10</th>\n",
       "      <td>Lenovo IdeaPad 3 Intel Celeron N4020 14'' HD T...</td>\n",
       "      <td>24,990</td>\n",
       "      <td>4.3</td>\n",
       "    </tr>\n",
       "  </tbody>\n",
       "</table>\n",
       "</div>"
      ],
      "text/plain": [
       "                                                   TITLE   PRICE rating\n",
       "INDEX                                                                  \n",
       "1      HP 15s- Ryzen 5- 8GB RAM/512GB SSD 15.6 Inches...  47,111    3.9\n",
       "2      Lenovo IdeaPad 1 Intel Celeron N4020 11.6'' HD...  23,890    4.1\n",
       "3      ASUS VivoBook 15 (2021), 15.6-inch (39.62 cm) ...  26,990    4.1\n",
       "4      HP Pavilion 14 12th Gen Intel Core i7 16GB SDR...  86,990    4.3\n",
       "5      Lenovo IdeaPad 1 Intel Celeron N4020 11.6'' HD...  23,890    4.3\n",
       "6      Dell New Inspiron 3521 Laptop, Intel PQC-N5030...  27,490    3.7\n",
       "7      HP 15s-11th Gen Intel Core i3 15.6 Inches Lapt...  32,490    3.7\n",
       "8      HP 247 G8 Laptop (Athlon P-3045B HD/ 14\" HD (3...  40,989    4.3\n",
       "9      Acer Aspire 3 AMD 3020e Dual core Processor 14...  28,990    4.3\n",
       "10     Lenovo IdeaPad 3 Intel Celeron N4020 14'' HD T...  24,990    4.3"
      ]
     },
     "execution_count": 265,
     "metadata": {},
     "output_type": "execute_result"
    }
   ],
   "source": [
    "laptop_df.set_index('INDEX',inplace=True)\n",
    "laptop_df\n"
   ]
  },
  {
   "cell_type": "code",
   "execution_count": null,
   "id": "482398e1",
   "metadata": {},
   "outputs": [],
   "source": []
  }
 ],
 "metadata": {
  "kernelspec": {
   "display_name": "Python 3 (ipykernel)",
   "language": "python",
   "name": "python3"
  },
  "language_info": {
   "codemirror_mode": {
    "name": "ipython",
    "version": 3
   },
   "file_extension": ".py",
   "mimetype": "text/x-python",
   "name": "python",
   "nbconvert_exporter": "python",
   "pygments_lexer": "ipython3",
   "version": "3.9.7"
  }
 },
 "nbformat": 4,
 "nbformat_minor": 5
}
